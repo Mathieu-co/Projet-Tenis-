{
 "cells": [
  {
   "cell_type": "markdown",
   "metadata": {},
   "source": [
    "# Préparation pour la classification mutliclass"
   ]
  },
  {
   "cell_type": "code",
   "execution_count": 1,
   "metadata": {},
   "outputs": [],
   "source": [
    "import pandas as pd\n",
    "from test import convertCatToNum, drop_rows_with_missing, normalize, encode_player_names, split_data\n",
    "import numpy as np\n",
    "\n",
    "# on import toutes les données\n",
    "\n",
    "df_atp_multi = pd.read_csv('all_matches_ATP_multi.csv')"
   ]
  },
  {
   "cell_type": "code",
   "execution_count": 2,
   "metadata": {},
   "outputs": [
    {
     "name": "stdout",
     "output_type": "stream",
     "text": [
      "<class 'pandas.core.frame.DataFrame'>\n",
      "RangeIndex: 45612 entries, 0 to 45611\n",
      "Data columns (total 21 columns):\n",
      " #   Column      Non-Null Count  Dtype  \n",
      "---  ------      --------------  -----  \n",
      " 0   ATP         45612 non-null  int64  \n",
      " 1   Location    45612 non-null  object \n",
      " 2   Tournament  45612 non-null  object \n",
      " 3   Date        45612 non-null  object \n",
      " 4   Court       45612 non-null  object \n",
      " 5   Surface     45612 non-null  object \n",
      " 6   Round       45612 non-null  object \n",
      " 7   Best of     45597 non-null  float64\n",
      " 8   Winner      45612 non-null  object \n",
      " 9   Loser       45612 non-null  object \n",
      " 10  WRank       45612 non-null  int64  \n",
      " 11  LRank       45612 non-null  int64  \n",
      " 12  Wsets       45612 non-null  float64\n",
      " 13  Lsets       45612 non-null  float64\n",
      " 14  Comment     45612 non-null  object \n",
      " 15  PSW         38252 non-null  float64\n",
      " 16  PSL         38252 non-null  float64\n",
      " 17  B365W       42234 non-null  float64\n",
      " 18  B365L       42241 non-null  float64\n",
      " 19  Series      29838 non-null  float64\n",
      " 20  y_multicat  45612 non-null  int64  \n",
      "dtypes: float64(8), int64(4), object(9)\n",
      "memory usage: 7.3+ MB\n"
     ]
    }
   ],
   "source": [
    "df_atp_multi.info()"
   ]
  },
  {
   "cell_type": "code",
   "execution_count": 3,
   "metadata": {},
   "outputs": [
    {
     "data": {
      "text/html": [
       "<div>\n",
       "<style scoped>\n",
       "    .dataframe tbody tr th:only-of-type {\n",
       "        vertical-align: middle;\n",
       "    }\n",
       "\n",
       "    .dataframe tbody tr th {\n",
       "        vertical-align: top;\n",
       "    }\n",
       "\n",
       "    .dataframe thead th {\n",
       "        text-align: right;\n",
       "    }\n",
       "</style>\n",
       "<table border=\"1\" class=\"dataframe\">\n",
       "  <thead>\n",
       "    <tr style=\"text-align: right;\">\n",
       "      <th></th>\n",
       "      <th>ATP</th>\n",
       "      <th>Location</th>\n",
       "      <th>Tournament</th>\n",
       "      <th>Date</th>\n",
       "      <th>Court</th>\n",
       "      <th>Surface</th>\n",
       "      <th>Round</th>\n",
       "      <th>Best of</th>\n",
       "      <th>Winner</th>\n",
       "      <th>Loser</th>\n",
       "      <th>...</th>\n",
       "      <th>LRank</th>\n",
       "      <th>Wsets</th>\n",
       "      <th>Lsets</th>\n",
       "      <th>Comment</th>\n",
       "      <th>PSW</th>\n",
       "      <th>PSL</th>\n",
       "      <th>B365W</th>\n",
       "      <th>B365L</th>\n",
       "      <th>Series</th>\n",
       "      <th>y_multicat</th>\n",
       "    </tr>\n",
       "  </thead>\n",
       "  <tbody>\n",
       "    <tr>\n",
       "      <th>0</th>\n",
       "      <td>3</td>\n",
       "      <td>Doha</td>\n",
       "      <td>Qatar Open</td>\n",
       "      <td>2001-01-01</td>\n",
       "      <td>Outdoor</td>\n",
       "      <td>Hard</td>\n",
       "      <td>1st Round</td>\n",
       "      <td>3.0</td>\n",
       "      <td>Kafelnikov Y.</td>\n",
       "      <td>Clavet F.</td>\n",
       "      <td>...</td>\n",
       "      <td>49</td>\n",
       "      <td>2.0</td>\n",
       "      <td>0.0</td>\n",
       "      <td>Completed</td>\n",
       "      <td>NaN</td>\n",
       "      <td>NaN</td>\n",
       "      <td>NaN</td>\n",
       "      <td>NaN</td>\n",
       "      <td>NaN</td>\n",
       "      <td>1</td>\n",
       "    </tr>\n",
       "    <tr>\n",
       "      <th>1</th>\n",
       "      <td>3</td>\n",
       "      <td>Doha</td>\n",
       "      <td>Qatar Open</td>\n",
       "      <td>2001-01-01</td>\n",
       "      <td>Outdoor</td>\n",
       "      <td>Hard</td>\n",
       "      <td>1st Round</td>\n",
       "      <td>3.0</td>\n",
       "      <td>Arazi H.</td>\n",
       "      <td>Portas A.</td>\n",
       "      <td>...</td>\n",
       "      <td>51</td>\n",
       "      <td>2.0</td>\n",
       "      <td>0.0</td>\n",
       "      <td>Completed</td>\n",
       "      <td>NaN</td>\n",
       "      <td>NaN</td>\n",
       "      <td>NaN</td>\n",
       "      <td>NaN</td>\n",
       "      <td>NaN</td>\n",
       "      <td>1</td>\n",
       "    </tr>\n",
       "    <tr>\n",
       "      <th>2</th>\n",
       "      <td>2</td>\n",
       "      <td>Chennai</td>\n",
       "      <td>TATA Open</td>\n",
       "      <td>2001-01-01</td>\n",
       "      <td>Outdoor</td>\n",
       "      <td>Hard</td>\n",
       "      <td>Quarterfinals</td>\n",
       "      <td>3.0</td>\n",
       "      <td>Robredo T.</td>\n",
       "      <td>Saulnier C.</td>\n",
       "      <td>...</td>\n",
       "      <td>130</td>\n",
       "      <td>2.0</td>\n",
       "      <td>0.0</td>\n",
       "      <td>Completed</td>\n",
       "      <td>NaN</td>\n",
       "      <td>NaN</td>\n",
       "      <td>NaN</td>\n",
       "      <td>NaN</td>\n",
       "      <td>NaN</td>\n",
       "      <td>1</td>\n",
       "    </tr>\n",
       "    <tr>\n",
       "      <th>3</th>\n",
       "      <td>2</td>\n",
       "      <td>Chennai</td>\n",
       "      <td>TATA Open</td>\n",
       "      <td>2001-01-01</td>\n",
       "      <td>Outdoor</td>\n",
       "      <td>Hard</td>\n",
       "      <td>Quarterfinals</td>\n",
       "      <td>3.0</td>\n",
       "      <td>Pless K.</td>\n",
       "      <td>Voinea A.</td>\n",
       "      <td>...</td>\n",
       "      <td>110</td>\n",
       "      <td>2.0</td>\n",
       "      <td>0.0</td>\n",
       "      <td>Completed</td>\n",
       "      <td>NaN</td>\n",
       "      <td>NaN</td>\n",
       "      <td>NaN</td>\n",
       "      <td>NaN</td>\n",
       "      <td>NaN</td>\n",
       "      <td>1</td>\n",
       "    </tr>\n",
       "    <tr>\n",
       "      <th>4</th>\n",
       "      <td>2</td>\n",
       "      <td>Chennai</td>\n",
       "      <td>TATA Open</td>\n",
       "      <td>2001-01-01</td>\n",
       "      <td>Outdoor</td>\n",
       "      <td>Hard</td>\n",
       "      <td>2nd Round</td>\n",
       "      <td>3.0</td>\n",
       "      <td>Tabara M.</td>\n",
       "      <td>Kempes E.</td>\n",
       "      <td>...</td>\n",
       "      <td>126</td>\n",
       "      <td>2.0</td>\n",
       "      <td>0.0</td>\n",
       "      <td>Completed</td>\n",
       "      <td>NaN</td>\n",
       "      <td>NaN</td>\n",
       "      <td>NaN</td>\n",
       "      <td>NaN</td>\n",
       "      <td>NaN</td>\n",
       "      <td>1</td>\n",
       "    </tr>\n",
       "  </tbody>\n",
       "</table>\n",
       "<p>5 rows × 21 columns</p>\n",
       "</div>"
      ],
      "text/plain": [
       "   ATP Location  Tournament        Date    Court Surface          Round  \\\n",
       "0    3     Doha  Qatar Open  2001-01-01  Outdoor    Hard      1st Round   \n",
       "1    3     Doha  Qatar Open  2001-01-01  Outdoor    Hard      1st Round   \n",
       "2    2  Chennai   TATA Open  2001-01-01  Outdoor    Hard  Quarterfinals   \n",
       "3    2  Chennai   TATA Open  2001-01-01  Outdoor    Hard  Quarterfinals   \n",
       "4    2  Chennai   TATA Open  2001-01-01  Outdoor    Hard      2nd Round   \n",
       "\n",
       "   Best of         Winner        Loser  ...  LRank  Wsets  Lsets    Comment  \\\n",
       "0      3.0  Kafelnikov Y.    Clavet F.  ...     49    2.0    0.0  Completed   \n",
       "1      3.0       Arazi H.    Portas A.  ...     51    2.0    0.0  Completed   \n",
       "2      3.0     Robredo T.  Saulnier C.  ...    130    2.0    0.0  Completed   \n",
       "3      3.0       Pless K.    Voinea A.  ...    110    2.0    0.0  Completed   \n",
       "4      3.0      Tabara M.    Kempes E.  ...    126    2.0    0.0  Completed   \n",
       "\n",
       "  PSW  PSL  B365W  B365L  Series  y_multicat  \n",
       "0 NaN  NaN    NaN    NaN     NaN           1  \n",
       "1 NaN  NaN    NaN    NaN     NaN           1  \n",
       "2 NaN  NaN    NaN    NaN     NaN           1  \n",
       "3 NaN  NaN    NaN    NaN     NaN           1  \n",
       "4 NaN  NaN    NaN    NaN     NaN           1  \n",
       "\n",
       "[5 rows x 21 columns]"
      ]
     },
     "execution_count": 3,
     "metadata": {},
     "output_type": "execute_result"
    }
   ],
   "source": [
    "df_atp_multi.head()"
   ]
  },
  {
   "cell_type": "code",
   "execution_count": 4,
   "metadata": {},
   "outputs": [
    {
     "data": {
      "text/plain": [
       "3371"
      ]
     },
     "execution_count": 4,
     "metadata": {},
     "output_type": "execute_result"
    }
   ],
   "source": [
    "nombre_nan = df_atp_multi['B365L'].isna().sum()\n",
    "nombre_nan"
   ]
  },
  {
   "cell_type": "code",
   "execution_count": 5,
   "metadata": {},
   "outputs": [],
   "source": [
    "df_atp_multi.dropna(subset=['B365W'], inplace=True)\n",
    "df_atp_multi.dropna(subset=['B365L'], inplace=True)"
   ]
  },
  {
   "cell_type": "code",
   "execution_count": 6,
   "metadata": {},
   "outputs": [],
   "source": [
    "# Calcul de la médiane de la colonne\n",
    "median_value = df_atp_multi['Best of'].median()\n",
    "\n",
    "# Remplacement des NaN par la médiane\n",
    "df_atp_multi['Best of'].fillna(median_value, inplace=True)"
   ]
  },
  {
   "cell_type": "code",
   "execution_count": 7,
   "metadata": {},
   "outputs": [
    {
     "data": {
      "text/html": [
       "<div>\n",
       "<style scoped>\n",
       "    .dataframe tbody tr th:only-of-type {\n",
       "        vertical-align: middle;\n",
       "    }\n",
       "\n",
       "    .dataframe tbody tr th {\n",
       "        vertical-align: top;\n",
       "    }\n",
       "\n",
       "    .dataframe thead th {\n",
       "        text-align: right;\n",
       "    }\n",
       "</style>\n",
       "<table border=\"1\" class=\"dataframe\">\n",
       "  <thead>\n",
       "    <tr style=\"text-align: right;\">\n",
       "      <th></th>\n",
       "      <th>ATP</th>\n",
       "      <th>Court</th>\n",
       "      <th>Surface</th>\n",
       "      <th>Round</th>\n",
       "      <th>Best of</th>\n",
       "      <th>WRank</th>\n",
       "      <th>LRank</th>\n",
       "      <th>Lsets</th>\n",
       "      <th>B365W</th>\n",
       "      <th>B365L</th>\n",
       "      <th>Series</th>\n",
       "      <th>y_multicat</th>\n",
       "    </tr>\n",
       "  </thead>\n",
       "  <tbody>\n",
       "    <tr>\n",
       "      <th>1158</th>\n",
       "      <td>3</td>\n",
       "      <td>Outdoor</td>\n",
       "      <td>Hard</td>\n",
       "      <td>1st Round</td>\n",
       "      <td>3.0</td>\n",
       "      <td>32</td>\n",
       "      <td>60</td>\n",
       "      <td>1.0</td>\n",
       "      <td>1.286</td>\n",
       "      <td>3.25</td>\n",
       "      <td>NaN</td>\n",
       "      <td>0</td>\n",
       "    </tr>\n",
       "    <tr>\n",
       "      <th>1162</th>\n",
       "      <td>2</td>\n",
       "      <td>Outdoor</td>\n",
       "      <td>Hard</td>\n",
       "      <td>1st Round</td>\n",
       "      <td>3.0</td>\n",
       "      <td>15</td>\n",
       "      <td>107</td>\n",
       "      <td>1.0</td>\n",
       "      <td>1.143</td>\n",
       "      <td>5.00</td>\n",
       "      <td>NaN</td>\n",
       "      <td>0</td>\n",
       "    </tr>\n",
       "  </tbody>\n",
       "</table>\n",
       "</div>"
      ],
      "text/plain": [
       "      ATP    Court Surface      Round  Best of  WRank  LRank  Lsets  B365W  \\\n",
       "1158    3  Outdoor    Hard  1st Round      3.0     32     60    1.0  1.286   \n",
       "1162    2  Outdoor    Hard  1st Round      3.0     15    107    1.0  1.143   \n",
       "\n",
       "      B365L  Series  y_multicat  \n",
       "1158   3.25     NaN           0  \n",
       "1162   5.00     NaN           0  "
      ]
     },
     "execution_count": 7,
     "metadata": {},
     "output_type": "execute_result"
    }
   ],
   "source": [
    "drop_columns = ['PSW','PSL','Comment','Winner','Loser','Date','Tournament','Location','Wsets']\n",
    "\n",
    "df_atp_multi = df_atp_multi.drop(drop_columns, axis=1)\n",
    "df_atp_multi.head(2)"
   ]
  },
  {
   "cell_type": "code",
   "execution_count": 8,
   "metadata": {},
   "outputs": [],
   "source": [
    "cat_cols = ['Court','Surface','Round']\n",
    "num_cols = [\"Best of\",\"Lsets\",\"B365W\",\"B365L\"]"
   ]
  },
  {
   "cell_type": "code",
   "execution_count": 9,
   "metadata": {},
   "outputs": [
    {
     "name": "stdout",
     "output_type": "stream",
     "text": [
      " ===     Replace categorial variable     ===\n",
      " ===   Convert categorical to numerical  ===\n",
      " ===         drop missing values         ===\n",
      " ===            Normalize data           ===\n"
     ]
    }
   ],
   "source": [
    "df_processed = convertCatToNum(df=df_atp_multi,cat_cols=cat_cols)\n",
    "df = drop_rows_with_missing(df_processed,columns=[\"y_multicat\",\"Series\"])\n",
    "df_final = normalize(df,num_cols)"
   ]
  },
  {
   "cell_type": "code",
   "execution_count": 10,
   "metadata": {},
   "outputs": [
    {
     "data": {
      "text/html": [
       "<div>\n",
       "<style scoped>\n",
       "    .dataframe tbody tr th:only-of-type {\n",
       "        vertical-align: middle;\n",
       "    }\n",
       "\n",
       "    .dataframe tbody tr th {\n",
       "        vertical-align: top;\n",
       "    }\n",
       "\n",
       "    .dataframe thead th {\n",
       "        text-align: right;\n",
       "    }\n",
       "</style>\n",
       "<table border=\"1\" class=\"dataframe\">\n",
       "  <thead>\n",
       "    <tr style=\"text-align: right;\">\n",
       "      <th></th>\n",
       "      <th>ATP</th>\n",
       "      <th>Best of</th>\n",
       "      <th>WRank</th>\n",
       "      <th>LRank</th>\n",
       "      <th>Lsets</th>\n",
       "      <th>B365W</th>\n",
       "      <th>B365L</th>\n",
       "      <th>Series</th>\n",
       "      <th>y_multicat</th>\n",
       "      <th>Court_Indoor</th>\n",
       "      <th>...</th>\n",
       "      <th>Surface_Grass</th>\n",
       "      <th>Surface_Hard</th>\n",
       "      <th>Round_1st Round</th>\n",
       "      <th>Round_2nd Round</th>\n",
       "      <th>Round_3rd Round</th>\n",
       "      <th>Round_4th Round</th>\n",
       "      <th>Round_Quarterfinals</th>\n",
       "      <th>Round_Round Robin</th>\n",
       "      <th>Round_Semifinals</th>\n",
       "      <th>Round_The Final</th>\n",
       "    </tr>\n",
       "  </thead>\n",
       "  <tbody>\n",
       "    <tr>\n",
       "      <th>1673</th>\n",
       "      <td>31</td>\n",
       "      <td>1.0</td>\n",
       "      <td>58</td>\n",
       "      <td>130</td>\n",
       "      <td>0.0</td>\n",
       "      <td>0.033045</td>\n",
       "      <td>0.009901</td>\n",
       "      <td>2000.0</td>\n",
       "      <td>1</td>\n",
       "      <td>0</td>\n",
       "      <td>...</td>\n",
       "      <td>0</td>\n",
       "      <td>0</td>\n",
       "      <td>1</td>\n",
       "      <td>0</td>\n",
       "      <td>0</td>\n",
       "      <td>0</td>\n",
       "      <td>0</td>\n",
       "      <td>0</td>\n",
       "      <td>0</td>\n",
       "      <td>0</td>\n",
       "    </tr>\n",
       "    <tr>\n",
       "      <th>1674</th>\n",
       "      <td>31</td>\n",
       "      <td>1.0</td>\n",
       "      <td>20</td>\n",
       "      <td>13</td>\n",
       "      <td>0.0</td>\n",
       "      <td>0.025955</td>\n",
       "      <td>0.012401</td>\n",
       "      <td>2000.0</td>\n",
       "      <td>1</td>\n",
       "      <td>0</td>\n",
       "      <td>...</td>\n",
       "      <td>0</td>\n",
       "      <td>0</td>\n",
       "      <td>0</td>\n",
       "      <td>0</td>\n",
       "      <td>1</td>\n",
       "      <td>0</td>\n",
       "      <td>0</td>\n",
       "      <td>0</td>\n",
       "      <td>0</td>\n",
       "      <td>0</td>\n",
       "    </tr>\n",
       "    <tr>\n",
       "      <th>1733</th>\n",
       "      <td>36</td>\n",
       "      <td>1.0</td>\n",
       "      <td>3</td>\n",
       "      <td>61</td>\n",
       "      <td>1.0</td>\n",
       "      <td>0.037864</td>\n",
       "      <td>0.008231</td>\n",
       "      <td>2000.0</td>\n",
       "      <td>0</td>\n",
       "      <td>0</td>\n",
       "      <td>...</td>\n",
       "      <td>1</td>\n",
       "      <td>0</td>\n",
       "      <td>0</td>\n",
       "      <td>1</td>\n",
       "      <td>0</td>\n",
       "      <td>0</td>\n",
       "      <td>0</td>\n",
       "      <td>0</td>\n",
       "      <td>0</td>\n",
       "      <td>0</td>\n",
       "    </tr>\n",
       "    <tr>\n",
       "      <th>1994</th>\n",
       "      <td>51</td>\n",
       "      <td>1.0</td>\n",
       "      <td>2</td>\n",
       "      <td>75</td>\n",
       "      <td>1.0</td>\n",
       "      <td>0.001364</td>\n",
       "      <td>0.089909</td>\n",
       "      <td>2000.0</td>\n",
       "      <td>0</td>\n",
       "      <td>0</td>\n",
       "      <td>...</td>\n",
       "      <td>0</td>\n",
       "      <td>1</td>\n",
       "      <td>1</td>\n",
       "      <td>0</td>\n",
       "      <td>0</td>\n",
       "      <td>0</td>\n",
       "      <td>0</td>\n",
       "      <td>0</td>\n",
       "      <td>0</td>\n",
       "      <td>0</td>\n",
       "    </tr>\n",
       "    <tr>\n",
       "      <th>1995</th>\n",
       "      <td>51</td>\n",
       "      <td>1.0</td>\n",
       "      <td>1</td>\n",
       "      <td>73</td>\n",
       "      <td>1.0</td>\n",
       "      <td>0.003773</td>\n",
       "      <td>0.059906</td>\n",
       "      <td>2000.0</td>\n",
       "      <td>0</td>\n",
       "      <td>0</td>\n",
       "      <td>...</td>\n",
       "      <td>0</td>\n",
       "      <td>1</td>\n",
       "      <td>0</td>\n",
       "      <td>0</td>\n",
       "      <td>0</td>\n",
       "      <td>1</td>\n",
       "      <td>0</td>\n",
       "      <td>0</td>\n",
       "      <td>0</td>\n",
       "      <td>0</td>\n",
       "    </tr>\n",
       "  </tbody>\n",
       "</table>\n",
       "<p>5 rows × 23 columns</p>\n",
       "</div>"
      ],
      "text/plain": [
       "      ATP  Best of  WRank  LRank  Lsets     B365W     B365L  Series  \\\n",
       "1673   31      1.0     58    130    0.0  0.033045  0.009901  2000.0   \n",
       "1674   31      1.0     20     13    0.0  0.025955  0.012401  2000.0   \n",
       "1733   36      1.0      3     61    1.0  0.037864  0.008231  2000.0   \n",
       "1994   51      1.0      2     75    1.0  0.001364  0.089909  2000.0   \n",
       "1995   51      1.0      1     73    1.0  0.003773  0.059906  2000.0   \n",
       "\n",
       "      y_multicat  Court_Indoor  ...  Surface_Grass  Surface_Hard  \\\n",
       "1673           1             0  ...              0             0   \n",
       "1674           1             0  ...              0             0   \n",
       "1733           0             0  ...              1             0   \n",
       "1994           0             0  ...              0             1   \n",
       "1995           0             0  ...              0             1   \n",
       "\n",
       "      Round_1st Round  Round_2nd Round  Round_3rd Round  Round_4th Round  \\\n",
       "1673                1                0                0                0   \n",
       "1674                0                0                1                0   \n",
       "1733                0                1                0                0   \n",
       "1994                1                0                0                0   \n",
       "1995                0                0                0                1   \n",
       "\n",
       "      Round_Quarterfinals  Round_Round Robin  Round_Semifinals  \\\n",
       "1673                    0                  0                 0   \n",
       "1674                    0                  0                 0   \n",
       "1733                    0                  0                 0   \n",
       "1994                    0                  0                 0   \n",
       "1995                    0                  0                 0   \n",
       "\n",
       "      Round_The Final  \n",
       "1673                0  \n",
       "1674                0  \n",
       "1733                0  \n",
       "1994                0  \n",
       "1995                0  \n",
       "\n",
       "[5 rows x 23 columns]"
      ]
     },
     "execution_count": 10,
     "metadata": {},
     "output_type": "execute_result"
    }
   ],
   "source": [
    "df_final.head()"
   ]
  },
  {
   "cell_type": "code",
   "execution_count": 11,
   "metadata": {},
   "outputs": [],
   "source": [
    "from sklearn.metrics import classification_report\n",
    "from sklearn.model_selection import RandomizedSearchCV\n",
    "from sklearn.ensemble import RandomForestClassifier"
   ]
  },
  {
   "cell_type": "code",
   "execution_count": 12,
   "metadata": {},
   "outputs": [
    {
     "name": "stdout",
     "output_type": "stream",
     "text": [
      "=== Splitting data into train and test sets ===\n",
      "Data split completed.\n"
     ]
    }
   ],
   "source": [
    "X_train, X_test, y_train, y_test = split_data(df_final,target_column='y_multicat', test_size=0.2, random_state=42)"
   ]
  },
  {
   "cell_type": "code",
   "execution_count": 13,
   "metadata": {},
   "outputs": [
    {
     "data": {
      "text/plain": [
       "(23736, 22)"
      ]
     },
     "execution_count": 13,
     "metadata": {},
     "output_type": "execute_result"
    }
   ],
   "source": [
    "X_train.shape"
   ]
  },
  {
   "cell_type": "markdown",
   "metadata": {},
   "source": [
    "# Decision Tree"
   ]
  },
  {
   "cell_type": "code",
   "execution_count": 14,
   "metadata": {},
   "outputs": [
    {
     "name": "stdout",
     "output_type": "stream",
     "text": [
      "Best Score: 0.5049715257046149\n",
      "Best Hyperparameters: {'max_features': 'log2', 'max_depth': 25}\n"
     ]
    }
   ],
   "source": [
    "from sklearn.tree import DecisionTreeClassifier\n",
    "\n",
    "# Define model\n",
    "model = DecisionTreeClassifier()\n",
    "\n",
    "\n",
    "# define search space\n",
    "param_grid = {\n",
    "    'max_depth': list(range(25, 100, 10)),\n",
    "    'max_features': ['auto', 'sqrt', 'log2']\n",
    "}\n",
    "\n",
    "search = RandomizedSearchCV(model, param_grid, n_iter=10, cv=10, scoring='accuracy', n_jobs=-1, random_state=1)\n",
    "\n",
    "# execute search\n",
    "result = search.fit(X_train, y_train)\n",
    "\n",
    "best_params_deci_tree_bin = result.best_params_\n",
    "# summarize result\n",
    "print('Best Score: %s' % result.best_score_)\n",
    "print('Best Hyperparameters: %s' % result.best_params_)"
   ]
  },
  {
   "cell_type": "code",
   "execution_count": 15,
   "metadata": {},
   "outputs": [
    {
     "data": {
      "text/html": [
       "<style>#sk-container-id-1 {color: black;background-color: white;}#sk-container-id-1 pre{padding: 0;}#sk-container-id-1 div.sk-toggleable {background-color: white;}#sk-container-id-1 label.sk-toggleable__label {cursor: pointer;display: block;width: 100%;margin-bottom: 0;padding: 0.3em;box-sizing: border-box;text-align: center;}#sk-container-id-1 label.sk-toggleable__label-arrow:before {content: \"▸\";float: left;margin-right: 0.25em;color: #696969;}#sk-container-id-1 label.sk-toggleable__label-arrow:hover:before {color: black;}#sk-container-id-1 div.sk-estimator:hover label.sk-toggleable__label-arrow:before {color: black;}#sk-container-id-1 div.sk-toggleable__content {max-height: 0;max-width: 0;overflow: hidden;text-align: left;background-color: #f0f8ff;}#sk-container-id-1 div.sk-toggleable__content pre {margin: 0.2em;color: black;border-radius: 0.25em;background-color: #f0f8ff;}#sk-container-id-1 input.sk-toggleable__control:checked~div.sk-toggleable__content {max-height: 200px;max-width: 100%;overflow: auto;}#sk-container-id-1 input.sk-toggleable__control:checked~label.sk-toggleable__label-arrow:before {content: \"▾\";}#sk-container-id-1 div.sk-estimator input.sk-toggleable__control:checked~label.sk-toggleable__label {background-color: #d4ebff;}#sk-container-id-1 div.sk-label input.sk-toggleable__control:checked~label.sk-toggleable__label {background-color: #d4ebff;}#sk-container-id-1 input.sk-hidden--visually {border: 0;clip: rect(1px 1px 1px 1px);clip: rect(1px, 1px, 1px, 1px);height: 1px;margin: -1px;overflow: hidden;padding: 0;position: absolute;width: 1px;}#sk-container-id-1 div.sk-estimator {font-family: monospace;background-color: #f0f8ff;border: 1px dotted black;border-radius: 0.25em;box-sizing: border-box;margin-bottom: 0.5em;}#sk-container-id-1 div.sk-estimator:hover {background-color: #d4ebff;}#sk-container-id-1 div.sk-parallel-item::after {content: \"\";width: 100%;border-bottom: 1px solid gray;flex-grow: 1;}#sk-container-id-1 div.sk-label:hover label.sk-toggleable__label {background-color: #d4ebff;}#sk-container-id-1 div.sk-serial::before {content: \"\";position: absolute;border-left: 1px solid gray;box-sizing: border-box;top: 0;bottom: 0;left: 50%;z-index: 0;}#sk-container-id-1 div.sk-serial {display: flex;flex-direction: column;align-items: center;background-color: white;padding-right: 0.2em;padding-left: 0.2em;position: relative;}#sk-container-id-1 div.sk-item {position: relative;z-index: 1;}#sk-container-id-1 div.sk-parallel {display: flex;align-items: stretch;justify-content: center;background-color: white;position: relative;}#sk-container-id-1 div.sk-item::before, #sk-container-id-1 div.sk-parallel-item::before {content: \"\";position: absolute;border-left: 1px solid gray;box-sizing: border-box;top: 0;bottom: 0;left: 50%;z-index: -1;}#sk-container-id-1 div.sk-parallel-item {display: flex;flex-direction: column;z-index: 1;position: relative;background-color: white;}#sk-container-id-1 div.sk-parallel-item:first-child::after {align-self: flex-end;width: 50%;}#sk-container-id-1 div.sk-parallel-item:last-child::after {align-self: flex-start;width: 50%;}#sk-container-id-1 div.sk-parallel-item:only-child::after {width: 0;}#sk-container-id-1 div.sk-dashed-wrapped {border: 1px dashed gray;margin: 0 0.4em 0.5em 0.4em;box-sizing: border-box;padding-bottom: 0.4em;background-color: white;}#sk-container-id-1 div.sk-label label {font-family: monospace;font-weight: bold;display: inline-block;line-height: 1.2em;}#sk-container-id-1 div.sk-label-container {text-align: center;}#sk-container-id-1 div.sk-container {/* jupyter's `normalize.less` sets `[hidden] { display: none; }` but bootstrap.min.css set `[hidden] { display: none !important; }` so we also need the `!important` here to be able to override the default hidden behavior on the sphinx rendered scikit-learn.org. See: https://github.com/scikit-learn/scikit-learn/issues/21755 */display: inline-block !important;position: relative;}#sk-container-id-1 div.sk-text-repr-fallback {display: none;}</style><div id=\"sk-container-id-1\" class=\"sk-top-container\"><div class=\"sk-text-repr-fallback\"><pre>DecisionTreeClassifier(max_depth=25, max_features=&#x27;log2&#x27;)</pre><b>In a Jupyter environment, please rerun this cell to show the HTML representation or trust the notebook. <br />On GitHub, the HTML representation is unable to render, please try loading this page with nbviewer.org.</b></div><div class=\"sk-container\" hidden><div class=\"sk-item\"><div class=\"sk-estimator sk-toggleable\"><input class=\"sk-toggleable__control sk-hidden--visually\" id=\"sk-estimator-id-1\" type=\"checkbox\" checked><label for=\"sk-estimator-id-1\" class=\"sk-toggleable__label sk-toggleable__label-arrow\">DecisionTreeClassifier</label><div class=\"sk-toggleable__content\"><pre>DecisionTreeClassifier(max_depth=25, max_features=&#x27;log2&#x27;)</pre></div></div></div></div></div>"
      ],
      "text/plain": [
       "DecisionTreeClassifier(max_depth=25, max_features='log2')"
      ]
     },
     "execution_count": 15,
     "metadata": {},
     "output_type": "execute_result"
    }
   ],
   "source": [
    "model = DecisionTreeClassifier(**best_params_deci_tree_bin)\n",
    "model.fit(X_train, y_train)"
   ]
  },
  {
   "cell_type": "code",
   "execution_count": 16,
   "metadata": {},
   "outputs": [
    {
     "name": "stdout",
     "output_type": "stream",
     "text": [
      "              precision    recall  f1-score   support\n",
      "\n",
      "           0       0.46      0.46      0.46      1024\n",
      "           1       0.47      0.50      0.48      1795\n",
      "           2       0.52      0.53      0.53      1153\n",
      "           3       0.51      0.48      0.50      1962\n",
      "\n",
      "    accuracy                           0.49      5934\n",
      "   macro avg       0.49      0.49      0.49      5934\n",
      "weighted avg       0.49      0.49      0.49      5934\n",
      "\n"
     ]
    }
   ],
   "source": [
    "y_pred_test = model.predict(X_test)\n",
    "print(classification_report(y_test, y_pred_test))"
   ]
  },
  {
   "cell_type": "code",
   "execution_count": 17,
   "metadata": {},
   "outputs": [
    {
     "data": {
      "text/plain": [
       "0.4924165824064712"
      ]
     },
     "execution_count": 17,
     "metadata": {},
     "output_type": "execute_result"
    }
   ],
   "source": [
    "# On va garder le score d'accuracy pour pouvoir le comparer avec d'autres modèle\n",
    "from sklearn.metrics import accuracy_score\n",
    "\n",
    "DescisionTree_score_multi = accuracy_score(y_test, y_pred_test)\n",
    "DescisionTree_score_multi"
   ]
  },
  {
   "cell_type": "markdown",
   "metadata": {},
   "source": [
    "# Xgboost"
   ]
  },
  {
   "cell_type": "code",
   "execution_count": 18,
   "metadata": {},
   "outputs": [
    {
     "name": "stdout",
     "output_type": "stream",
     "text": [
      "Best Score: 0.5190852591864431\n",
      "Best Hyperparameters: {'subsample': 0.8, 'n_estimators': 500, 'max_depth': 4, 'learning_rate': 0.001, 'colsample_bytree': 0.8}\n"
     ]
    }
   ],
   "source": [
    "import xgboost as xgb\n",
    "from sklearn.model_selection import RandomizedSearchCV\n",
    "import numpy as np\n",
    "\n",
    "# Define the XGBoost model\n",
    "model = xgb.XGBClassifier()\n",
    "\n",
    "# Define the search space (parameter grid)\n",
    "param_grid = {\n",
    "    'n_estimators': np.arange(100, 1000, 100),  # Number of boosting rounds\n",
    "    'max_depth': np.arange(3, 10),  # Maximum tree depth\n",
    "    'learning_rate': [0.001,0.005,0.01, 0.1],  # Step size shrinkage used in update to prevent overfitting\n",
    "    'subsample': [0.7, 0.8, 0.9, 1.0],  # Fraction of samples used for fitting the trees\n",
    "    'colsample_bytree': [0.7, 0.8, 0.9, 1.0],  # Fraction of features used for fitting the trees\n",
    "}\n",
    "\n",
    "# Create a RandomizedSearchCV object\n",
    "search = RandomizedSearchCV(model, param_distributions=param_grid, n_iter=10, cv=5, scoring='accuracy', n_jobs=-1, random_state=1)\n",
    "\n",
    "# Execute the search\n",
    "result = search.fit(X_train, y_train)\n",
    "\n",
    "best_param_Xgboost_multi=result.best_params_\n",
    "\n",
    "# Summarize the results\n",
    "print('Best Score: %s' % result.best_score_)\n",
    "print('Best Hyperparameters: %s' % result.best_params_)"
   ]
  },
  {
   "cell_type": "code",
   "execution_count": 19,
   "metadata": {},
   "outputs": [
    {
     "data": {
      "text/html": [
       "<style>#sk-container-id-2 {color: black;background-color: white;}#sk-container-id-2 pre{padding: 0;}#sk-container-id-2 div.sk-toggleable {background-color: white;}#sk-container-id-2 label.sk-toggleable__label {cursor: pointer;display: block;width: 100%;margin-bottom: 0;padding: 0.3em;box-sizing: border-box;text-align: center;}#sk-container-id-2 label.sk-toggleable__label-arrow:before {content: \"▸\";float: left;margin-right: 0.25em;color: #696969;}#sk-container-id-2 label.sk-toggleable__label-arrow:hover:before {color: black;}#sk-container-id-2 div.sk-estimator:hover label.sk-toggleable__label-arrow:before {color: black;}#sk-container-id-2 div.sk-toggleable__content {max-height: 0;max-width: 0;overflow: hidden;text-align: left;background-color: #f0f8ff;}#sk-container-id-2 div.sk-toggleable__content pre {margin: 0.2em;color: black;border-radius: 0.25em;background-color: #f0f8ff;}#sk-container-id-2 input.sk-toggleable__control:checked~div.sk-toggleable__content {max-height: 200px;max-width: 100%;overflow: auto;}#sk-container-id-2 input.sk-toggleable__control:checked~label.sk-toggleable__label-arrow:before {content: \"▾\";}#sk-container-id-2 div.sk-estimator input.sk-toggleable__control:checked~label.sk-toggleable__label {background-color: #d4ebff;}#sk-container-id-2 div.sk-label input.sk-toggleable__control:checked~label.sk-toggleable__label {background-color: #d4ebff;}#sk-container-id-2 input.sk-hidden--visually {border: 0;clip: rect(1px 1px 1px 1px);clip: rect(1px, 1px, 1px, 1px);height: 1px;margin: -1px;overflow: hidden;padding: 0;position: absolute;width: 1px;}#sk-container-id-2 div.sk-estimator {font-family: monospace;background-color: #f0f8ff;border: 1px dotted black;border-radius: 0.25em;box-sizing: border-box;margin-bottom: 0.5em;}#sk-container-id-2 div.sk-estimator:hover {background-color: #d4ebff;}#sk-container-id-2 div.sk-parallel-item::after {content: \"\";width: 100%;border-bottom: 1px solid gray;flex-grow: 1;}#sk-container-id-2 div.sk-label:hover label.sk-toggleable__label {background-color: #d4ebff;}#sk-container-id-2 div.sk-serial::before {content: \"\";position: absolute;border-left: 1px solid gray;box-sizing: border-box;top: 0;bottom: 0;left: 50%;z-index: 0;}#sk-container-id-2 div.sk-serial {display: flex;flex-direction: column;align-items: center;background-color: white;padding-right: 0.2em;padding-left: 0.2em;position: relative;}#sk-container-id-2 div.sk-item {position: relative;z-index: 1;}#sk-container-id-2 div.sk-parallel {display: flex;align-items: stretch;justify-content: center;background-color: white;position: relative;}#sk-container-id-2 div.sk-item::before, #sk-container-id-2 div.sk-parallel-item::before {content: \"\";position: absolute;border-left: 1px solid gray;box-sizing: border-box;top: 0;bottom: 0;left: 50%;z-index: -1;}#sk-container-id-2 div.sk-parallel-item {display: flex;flex-direction: column;z-index: 1;position: relative;background-color: white;}#sk-container-id-2 div.sk-parallel-item:first-child::after {align-self: flex-end;width: 50%;}#sk-container-id-2 div.sk-parallel-item:last-child::after {align-self: flex-start;width: 50%;}#sk-container-id-2 div.sk-parallel-item:only-child::after {width: 0;}#sk-container-id-2 div.sk-dashed-wrapped {border: 1px dashed gray;margin: 0 0.4em 0.5em 0.4em;box-sizing: border-box;padding-bottom: 0.4em;background-color: white;}#sk-container-id-2 div.sk-label label {font-family: monospace;font-weight: bold;display: inline-block;line-height: 1.2em;}#sk-container-id-2 div.sk-label-container {text-align: center;}#sk-container-id-2 div.sk-container {/* jupyter's `normalize.less` sets `[hidden] { display: none; }` but bootstrap.min.css set `[hidden] { display: none !important; }` so we also need the `!important` here to be able to override the default hidden behavior on the sphinx rendered scikit-learn.org. See: https://github.com/scikit-learn/scikit-learn/issues/21755 */display: inline-block !important;position: relative;}#sk-container-id-2 div.sk-text-repr-fallback {display: none;}</style><div id=\"sk-container-id-2\" class=\"sk-top-container\"><div class=\"sk-text-repr-fallback\"><pre>XGBClassifier(base_score=None, booster=None, callbacks=None,\n",
       "              colsample_bylevel=None, colsample_bynode=None,\n",
       "              colsample_bytree=0.8, early_stopping_rounds=None,\n",
       "              enable_categorical=False, eval_metric=None, feature_types=None,\n",
       "              gamma=None, gpu_id=None, grow_policy=None, importance_type=None,\n",
       "              interaction_constraints=None, learning_rate=0.001, max_bin=None,\n",
       "              max_cat_threshold=None, max_cat_to_onehot=None,\n",
       "              max_delta_step=None, max_depth=4, max_leaves=None,\n",
       "              min_child_weight=None, missing=nan, monotone_constraints=None,\n",
       "              n_estimators=500, n_jobs=None, num_parallel_tree=None,\n",
       "              objective=&#x27;multi:softprob&#x27;, predictor=None, ...)</pre><b>In a Jupyter environment, please rerun this cell to show the HTML representation or trust the notebook. <br />On GitHub, the HTML representation is unable to render, please try loading this page with nbviewer.org.</b></div><div class=\"sk-container\" hidden><div class=\"sk-item\"><div class=\"sk-estimator sk-toggleable\"><input class=\"sk-toggleable__control sk-hidden--visually\" id=\"sk-estimator-id-2\" type=\"checkbox\" checked><label for=\"sk-estimator-id-2\" class=\"sk-toggleable__label sk-toggleable__label-arrow\">XGBClassifier</label><div class=\"sk-toggleable__content\"><pre>XGBClassifier(base_score=None, booster=None, callbacks=None,\n",
       "              colsample_bylevel=None, colsample_bynode=None,\n",
       "              colsample_bytree=0.8, early_stopping_rounds=None,\n",
       "              enable_categorical=False, eval_metric=None, feature_types=None,\n",
       "              gamma=None, gpu_id=None, grow_policy=None, importance_type=None,\n",
       "              interaction_constraints=None, learning_rate=0.001, max_bin=None,\n",
       "              max_cat_threshold=None, max_cat_to_onehot=None,\n",
       "              max_delta_step=None, max_depth=4, max_leaves=None,\n",
       "              min_child_weight=None, missing=nan, monotone_constraints=None,\n",
       "              n_estimators=500, n_jobs=None, num_parallel_tree=None,\n",
       "              objective=&#x27;multi:softprob&#x27;, predictor=None, ...)</pre></div></div></div></div></div>"
      ],
      "text/plain": [
       "XGBClassifier(base_score=None, booster=None, callbacks=None,\n",
       "              colsample_bylevel=None, colsample_bynode=None,\n",
       "              colsample_bytree=0.8, early_stopping_rounds=None,\n",
       "              enable_categorical=False, eval_metric=None, feature_types=None,\n",
       "              gamma=None, gpu_id=None, grow_policy=None, importance_type=None,\n",
       "              interaction_constraints=None, learning_rate=0.001, max_bin=None,\n",
       "              max_cat_threshold=None, max_cat_to_onehot=None,\n",
       "              max_delta_step=None, max_depth=4, max_leaves=None,\n",
       "              min_child_weight=None, missing=nan, monotone_constraints=None,\n",
       "              n_estimators=500, n_jobs=None, num_parallel_tree=None,\n",
       "              objective='multi:softprob', predictor=None, ...)"
      ]
     },
     "execution_count": 19,
     "metadata": {},
     "output_type": "execute_result"
    }
   ],
   "source": [
    "model = xgb.XGBClassifier(**best_param_Xgboost_multi)\n",
    "model.fit(X_train, y_train)"
   ]
  },
  {
   "cell_type": "code",
   "execution_count": 20,
   "metadata": {},
   "outputs": [
    {
     "name": "stdout",
     "output_type": "stream",
     "text": [
      "              precision    recall  f1-score   support\n",
      "\n",
      "           0       0.52      0.01      0.02      1024\n",
      "           1       0.44      0.02      0.04      1795\n",
      "           2       0.53      0.99      0.69      1153\n",
      "           3       0.52      0.97      0.68      1962\n",
      "\n",
      "    accuracy                           0.52      5934\n",
      "   macro avg       0.50      0.50      0.36      5934\n",
      "weighted avg       0.50      0.52      0.38      5934\n",
      "\n"
     ]
    }
   ],
   "source": [
    "y_pred_test = model.predict(X_test)\n",
    "print(classification_report(y_test, y_pred_test))"
   ]
  },
  {
   "cell_type": "code",
   "execution_count": 21,
   "metadata": {},
   "outputs": [
    {
     "data": {
      "text/plain": [
       "0.523087293562521"
      ]
     },
     "execution_count": 21,
     "metadata": {},
     "output_type": "execute_result"
    }
   ],
   "source": [
    "Xgboost_score_multi = accuracy_score(y_test, y_pred_test)\n",
    "Xgboost_score_multi"
   ]
  },
  {
   "cell_type": "markdown",
   "metadata": {},
   "source": [
    "# CatBoost"
   ]
  },
  {
   "cell_type": "code",
   "execution_count": 23,
   "metadata": {},
   "outputs": [
    {
     "name": "stderr",
     "output_type": "stream",
     "text": [
      "c:\\Users\\mathi\\anaconda3\\envs\\Keras\\lib\\site-packages\\sklearn\\model_selection\\_validation.py:378: FitFailedWarning: \n",
      "1 fits failed out of a total of 50.\n",
      "The score on these train-test partitions for these parameters will be set to nan.\n",
      "If these failures are not expected, you can try to debug them by setting error_score='raise'.\n",
      "\n",
      "Below are more details about the failures:\n",
      "--------------------------------------------------------------------------------\n",
      "1 fits failed with the following error:\n",
      "Traceback (most recent call last):\n",
      "  File \"c:\\Users\\mathi\\anaconda3\\envs\\Keras\\lib\\site-packages\\sklearn\\model_selection\\_validation.py\", line 686, in _fit_and_score\n",
      "    estimator.fit(X_train, y_train, **fit_params)\n",
      "  File \"c:\\Users\\mathi\\anaconda3\\envs\\Keras\\lib\\site-packages\\catboost\\core.py\", line 5131, in fit\n",
      "    self._fit(X, y, cat_features, text_features, embedding_features, None, sample_weight, None, None, None, None, baseline, use_best_model,\n",
      "  File \"c:\\Users\\mathi\\anaconda3\\envs\\Keras\\lib\\site-packages\\catboost\\core.py\", line 2357, in _fit\n",
      "    self._train(\n",
      "  File \"c:\\Users\\mathi\\anaconda3\\envs\\Keras\\lib\\site-packages\\catboost\\core.py\", line 1761, in _train\n",
      "    self._object._train(train_pool, test_pool, params, allow_clear_pool, init_model._object if init_model else None)\n",
      "  File \"_catboost.pyx\", line 4624, in _catboost._CatBoost._train\n",
      "  File \"_catboost.pyx\", line 4673, in _catboost._CatBoost._train\n",
      "_catboost.CatBoostError: C:/Go_Agent/pipelines/BuildMaster/catboost.git/catboost/libs/train_lib/dir_helper.cpp:20: Can't create train working dir: catboost_info\n",
      "\n",
      "  warnings.warn(some_fits_failed_message, FitFailedWarning)\n",
      "c:\\Users\\mathi\\anaconda3\\envs\\Keras\\lib\\site-packages\\sklearn\\model_selection\\_search.py:952: UserWarning: One or more of the test scores are non-finite: [       nan 0.50113779 0.51883224 0.51933771 0.50134796 0.50117949\n",
      " 0.50092674 0.50459268 0.51853752 0.52127587]\n",
      "  warnings.warn(\n"
     ]
    },
    {
     "name": "stdout",
     "output_type": "stream",
     "text": [
      "0:\tlearn: 1.3765740\ttotal: 175ms\tremaining: 17.4s\n",
      "1:\tlearn: 1.3667875\ttotal: 182ms\tremaining: 8.89s\n",
      "2:\tlearn: 1.3572084\ttotal: 192ms\tremaining: 6.19s\n",
      "3:\tlearn: 1.3480127\ttotal: 217ms\tremaining: 5.22s\n",
      "4:\tlearn: 1.3388525\ttotal: 232ms\tremaining: 4.41s\n",
      "5:\tlearn: 1.3300797\ttotal: 254ms\tremaining: 3.99s\n",
      "6:\tlearn: 1.3213191\ttotal: 276ms\tremaining: 3.67s\n",
      "7:\tlearn: 1.3126872\ttotal: 290ms\tremaining: 3.34s\n",
      "8:\tlearn: 1.3043275\ttotal: 312ms\tremaining: 3.15s\n",
      "9:\tlearn: 1.2962207\ttotal: 344ms\tremaining: 3.1s\n",
      "10:\tlearn: 1.2881590\ttotal: 371ms\tremaining: 3s\n",
      "11:\tlearn: 1.2803361\ttotal: 398ms\tremaining: 2.92s\n",
      "12:\tlearn: 1.2724498\ttotal: 427ms\tremaining: 2.85s\n",
      "13:\tlearn: 1.2646764\ttotal: 439ms\tremaining: 2.7s\n",
      "14:\tlearn: 1.2571014\ttotal: 467ms\tremaining: 2.65s\n",
      "15:\tlearn: 1.2496984\ttotal: 493ms\tremaining: 2.59s\n",
      "16:\tlearn: 1.2424587\ttotal: 515ms\tremaining: 2.52s\n",
      "17:\tlearn: 1.2353957\ttotal: 539ms\tremaining: 2.45s\n",
      "18:\tlearn: 1.2282714\ttotal: 566ms\tremaining: 2.41s\n",
      "19:\tlearn: 1.2213902\ttotal: 593ms\tremaining: 2.37s\n",
      "20:\tlearn: 1.2145376\ttotal: 620ms\tremaining: 2.33s\n",
      "21:\tlearn: 1.2078285\ttotal: 642ms\tremaining: 2.27s\n",
      "22:\tlearn: 1.2011927\ttotal: 664ms\tremaining: 2.22s\n",
      "23:\tlearn: 1.1947366\ttotal: 687ms\tremaining: 2.17s\n",
      "24:\tlearn: 1.1884674\ttotal: 710ms\tremaining: 2.13s\n",
      "25:\tlearn: 1.1821032\ttotal: 724ms\tremaining: 2.06s\n",
      "26:\tlearn: 1.1758057\ttotal: 730ms\tremaining: 1.97s\n",
      "27:\tlearn: 1.1697988\ttotal: 753ms\tremaining: 1.94s\n",
      "28:\tlearn: 1.1637964\ttotal: 775ms\tremaining: 1.9s\n",
      "29:\tlearn: 1.1579970\ttotal: 797ms\tremaining: 1.86s\n",
      "30:\tlearn: 1.1521056\ttotal: 804ms\tremaining: 1.79s\n",
      "31:\tlearn: 1.1463863\ttotal: 825ms\tremaining: 1.75s\n",
      "32:\tlearn: 1.1408022\ttotal: 908ms\tremaining: 1.84s\n",
      "33:\tlearn: 1.1353661\ttotal: 942ms\tremaining: 1.83s\n",
      "34:\tlearn: 1.1298958\ttotal: 965ms\tremaining: 1.79s\n",
      "35:\tlearn: 1.1245070\ttotal: 987ms\tremaining: 1.75s\n",
      "36:\tlearn: 1.1191922\ttotal: 1.01s\tremaining: 1.72s\n",
      "37:\tlearn: 1.1139178\ttotal: 1.03s\tremaining: 1.68s\n",
      "38:\tlearn: 1.1087041\ttotal: 1.04s\tremaining: 1.62s\n",
      "39:\tlearn: 1.1035682\ttotal: 1.04s\tremaining: 1.56s\n",
      "40:\tlearn: 1.0985964\ttotal: 1.06s\tremaining: 1.53s\n",
      "41:\tlearn: 1.0937549\ttotal: 1.09s\tremaining: 1.5s\n",
      "42:\tlearn: 1.0888182\ttotal: 1.09s\tremaining: 1.45s\n",
      "43:\tlearn: 1.0839742\ttotal: 1.11s\tremaining: 1.41s\n",
      "44:\tlearn: 1.0792475\ttotal: 1.13s\tremaining: 1.39s\n",
      "45:\tlearn: 1.0745303\ttotal: 1.14s\tremaining: 1.34s\n",
      "46:\tlearn: 1.0699151\ttotal: 1.16s\tremaining: 1.31s\n",
      "47:\tlearn: 1.0654509\ttotal: 1.18s\tremaining: 1.28s\n",
      "48:\tlearn: 1.0610626\ttotal: 1.21s\tremaining: 1.25s\n",
      "49:\tlearn: 1.0567435\ttotal: 1.23s\tremaining: 1.23s\n",
      "50:\tlearn: 1.0524921\ttotal: 1.25s\tremaining: 1.2s\n",
      "51:\tlearn: 1.0483025\ttotal: 1.27s\tremaining: 1.18s\n",
      "52:\tlearn: 1.0441348\ttotal: 1.3s\tremaining: 1.15s\n",
      "53:\tlearn: 1.0399151\ttotal: 1.3s\tremaining: 1.11s\n",
      "54:\tlearn: 1.0357585\ttotal: 1.31s\tremaining: 1.07s\n",
      "55:\tlearn: 1.0317725\ttotal: 1.33s\tremaining: 1.04s\n",
      "56:\tlearn: 1.0278183\ttotal: 1.35s\tremaining: 1.02s\n",
      "57:\tlearn: 1.0239315\ttotal: 1.38s\tremaining: 998ms\n",
      "58:\tlearn: 1.0201304\ttotal: 1.4s\tremaining: 973ms\n",
      "59:\tlearn: 1.0163876\ttotal: 1.42s\tremaining: 949ms\n",
      "60:\tlearn: 1.0126512\ttotal: 1.44s\tremaining: 924ms\n",
      "61:\tlearn: 1.0089860\ttotal: 1.47s\tremaining: 899ms\n",
      "62:\tlearn: 1.0053793\ttotal: 1.49s\tremaining: 874ms\n",
      "63:\tlearn: 1.0017817\ttotal: 1.51s\tremaining: 850ms\n",
      "64:\tlearn: 0.9981685\ttotal: 1.52s\tremaining: 820ms\n",
      "65:\tlearn: 0.9946966\ttotal: 1.55s\tremaining: 799ms\n",
      "66:\tlearn: 0.9912298\ttotal: 1.58s\tremaining: 778ms\n",
      "67:\tlearn: 0.9878020\ttotal: 1.61s\tremaining: 758ms\n",
      "68:\tlearn: 0.9844307\ttotal: 1.64s\tremaining: 738ms\n",
      "69:\tlearn: 0.9810539\ttotal: 1.66s\tremaining: 711ms\n",
      "70:\tlearn: 0.9777270\ttotal: 1.69s\tremaining: 691ms\n",
      "71:\tlearn: 0.9744799\ttotal: 1.73s\tremaining: 672ms\n",
      "72:\tlearn: 0.9712074\ttotal: 1.73s\tremaining: 641ms\n",
      "73:\tlearn: 0.9679781\ttotal: 1.74s\tremaining: 611ms\n",
      "74:\tlearn: 0.9648750\ttotal: 1.77s\tremaining: 592ms\n",
      "75:\tlearn: 0.9617675\ttotal: 1.81s\tremaining: 572ms\n",
      "76:\tlearn: 0.9586884\ttotal: 1.84s\tremaining: 551ms\n",
      "77:\tlearn: 0.9557246\ttotal: 1.88s\tremaining: 529ms\n",
      "78:\tlearn: 0.9527570\ttotal: 1.9s\tremaining: 505ms\n",
      "79:\tlearn: 0.9498217\ttotal: 1.93s\tremaining: 482ms\n",
      "80:\tlearn: 0.9468755\ttotal: 1.94s\tremaining: 455ms\n",
      "81:\tlearn: 0.9440159\ttotal: 1.97s\tremaining: 432ms\n",
      "82:\tlearn: 0.9412267\ttotal: 2s\tremaining: 410ms\n",
      "83:\tlearn: 0.9384536\ttotal: 2.03s\tremaining: 387ms\n",
      "84:\tlearn: 0.9357581\ttotal: 2.06s\tremaining: 364ms\n",
      "85:\tlearn: 0.9330372\ttotal: 2.09s\tremaining: 340ms\n",
      "86:\tlearn: 0.9303384\ttotal: 2.11s\tremaining: 316ms\n",
      "87:\tlearn: 0.9276402\ttotal: 2.12s\tremaining: 290ms\n",
      "88:\tlearn: 0.9250255\ttotal: 2.15s\tremaining: 266ms\n",
      "89:\tlearn: 0.9224768\ttotal: 2.17s\tremaining: 242ms\n",
      "90:\tlearn: 0.9199902\ttotal: 2.2s\tremaining: 218ms\n",
      "91:\tlearn: 0.9175191\ttotal: 2.23s\tremaining: 194ms\n",
      "92:\tlearn: 0.9150419\ttotal: 2.27s\tremaining: 171ms\n",
      "93:\tlearn: 0.9125927\ttotal: 2.3s\tremaining: 147ms\n",
      "94:\tlearn: 0.9102133\ttotal: 2.33s\tremaining: 123ms\n",
      "95:\tlearn: 0.9077612\ttotal: 2.33s\tremaining: 97.3ms\n",
      "96:\tlearn: 0.9053929\ttotal: 2.36s\tremaining: 73ms\n",
      "97:\tlearn: 0.9030689\ttotal: 2.38s\tremaining: 48.7ms\n",
      "98:\tlearn: 0.9008215\ttotal: 2.41s\tremaining: 24.3ms\n",
      "99:\tlearn: 0.8984969\ttotal: 2.42s\tremaining: 0us\n",
      "Best Score: 0.5212758681091361\n",
      "Best Hyperparameters: {'learning_rate': 0.01, 'iterations': 100, 'depth': 8, 'colsample_bylevel': 1.0}\n"
     ]
    }
   ],
   "source": [
    "from catboost import CatBoostClassifier\n",
    "from sklearn.model_selection import RandomizedSearchCV\n",
    "\n",
    "# Define the CatBoost model\n",
    "model = CatBoostClassifier()\n",
    "\n",
    "# Define the search space (parameter grid)\n",
    "param_grid = {\n",
    "    'iterations': [100, 200, 300],  # Number of boosting rounds\n",
    "    'depth': [8,10,12],  # Maximum tree depth\n",
    "    'learning_rate': [0.01, 0.1, 0.2, 0.3],  # Step size shrinkage used in update\n",
    "    'colsample_bylevel': [0.7, 0.8, 0.9, 1.0],  # Fraction of features used for fitting the trees at each level\n",
    "}\n",
    "\n",
    "# Create a RandomizedSearchCV object\n",
    "search = RandomizedSearchCV(model, param_distributions=param_grid, n_iter=10, cv=5, scoring='accuracy', n_jobs=-1, random_state=1)\n",
    "\n",
    "# Execute the search\n",
    "result = search.fit(X_train, y_train)\n",
    "\n",
    "best_param_Xgboost_multi = result.best_params_\n",
    "\n",
    "# Summarize the results\n",
    "print('Best Score: %s' % result.best_score_)\n",
    "print('Best Hyperparameters: %s' % result.best_params_)"
   ]
  },
  {
   "cell_type": "code",
   "execution_count": 24,
   "metadata": {},
   "outputs": [
    {
     "name": "stdout",
     "output_type": "stream",
     "text": [
      "0:\tlearn: 1.3765740\ttotal: 44.2ms\tremaining: 4.38s\n",
      "1:\tlearn: 1.3667875\ttotal: 59.8ms\tremaining: 2.93s\n",
      "2:\tlearn: 1.3572084\ttotal: 75.3ms\tremaining: 2.44s\n",
      "3:\tlearn: 1.3480127\ttotal: 107ms\tremaining: 2.57s\n",
      "4:\tlearn: 1.3388525\ttotal: 127ms\tremaining: 2.42s\n",
      "5:\tlearn: 1.3300797\ttotal: 160ms\tremaining: 2.5s\n",
      "6:\tlearn: 1.3213191\ttotal: 191ms\tremaining: 2.54s\n",
      "7:\tlearn: 1.3126872\ttotal: 210ms\tremaining: 2.42s\n",
      "8:\tlearn: 1.3043275\ttotal: 251ms\tremaining: 2.54s\n",
      "9:\tlearn: 1.2962207\ttotal: 281ms\tremaining: 2.53s\n",
      "10:\tlearn: 1.2881590\ttotal: 309ms\tremaining: 2.5s\n",
      "11:\tlearn: 1.2803361\ttotal: 337ms\tremaining: 2.47s\n",
      "12:\tlearn: 1.2724498\ttotal: 363ms\tremaining: 2.43s\n",
      "13:\tlearn: 1.2646764\ttotal: 377ms\tremaining: 2.32s\n",
      "14:\tlearn: 1.2571014\ttotal: 409ms\tremaining: 2.31s\n",
      "15:\tlearn: 1.2496984\ttotal: 441ms\tremaining: 2.32s\n",
      "16:\tlearn: 1.2424587\ttotal: 471ms\tremaining: 2.3s\n",
      "17:\tlearn: 1.2353957\ttotal: 509ms\tremaining: 2.32s\n",
      "18:\tlearn: 1.2282714\ttotal: 552ms\tremaining: 2.35s\n",
      "19:\tlearn: 1.2213902\ttotal: 608ms\tremaining: 2.43s\n",
      "20:\tlearn: 1.2145376\ttotal: 640ms\tremaining: 2.41s\n",
      "21:\tlearn: 1.2078285\ttotal: 668ms\tremaining: 2.37s\n",
      "22:\tlearn: 1.2011927\ttotal: 695ms\tremaining: 2.33s\n",
      "23:\tlearn: 1.1947366\ttotal: 731ms\tremaining: 2.31s\n",
      "24:\tlearn: 1.1884674\ttotal: 766ms\tremaining: 2.3s\n",
      "25:\tlearn: 1.1821032\ttotal: 787ms\tremaining: 2.24s\n",
      "26:\tlearn: 1.1758057\ttotal: 797ms\tremaining: 2.15s\n",
      "27:\tlearn: 1.1697988\ttotal: 829ms\tremaining: 2.13s\n",
      "28:\tlearn: 1.1637964\ttotal: 860ms\tremaining: 2.1s\n",
      "29:\tlearn: 1.1579970\ttotal: 891ms\tremaining: 2.08s\n",
      "30:\tlearn: 1.1521056\ttotal: 903ms\tremaining: 2.01s\n",
      "31:\tlearn: 1.1463863\ttotal: 936ms\tremaining: 1.99s\n",
      "32:\tlearn: 1.1408022\ttotal: 971ms\tremaining: 1.97s\n",
      "33:\tlearn: 1.1353661\ttotal: 1.04s\tremaining: 2.01s\n",
      "34:\tlearn: 1.1298958\ttotal: 1.1s\tremaining: 2.05s\n",
      "35:\tlearn: 1.1245070\ttotal: 1.14s\tremaining: 2.02s\n",
      "36:\tlearn: 1.1191922\ttotal: 1.17s\tremaining: 1.99s\n",
      "37:\tlearn: 1.1139178\ttotal: 1.21s\tremaining: 1.97s\n",
      "38:\tlearn: 1.1087041\ttotal: 1.22s\tremaining: 1.91s\n",
      "39:\tlearn: 1.1035682\ttotal: 1.23s\tremaining: 1.85s\n",
      "40:\tlearn: 1.0985964\ttotal: 1.26s\tremaining: 1.82s\n",
      "41:\tlearn: 1.0937549\ttotal: 1.29s\tremaining: 1.79s\n",
      "42:\tlearn: 1.0888182\ttotal: 1.3s\tremaining: 1.72s\n",
      "43:\tlearn: 1.0839742\ttotal: 1.31s\tremaining: 1.67s\n",
      "44:\tlearn: 1.0792475\ttotal: 1.34s\tremaining: 1.65s\n",
      "45:\tlearn: 1.0745303\ttotal: 1.35s\tremaining: 1.59s\n",
      "46:\tlearn: 1.0699151\ttotal: 1.37s\tremaining: 1.55s\n",
      "47:\tlearn: 1.0654509\ttotal: 1.4s\tremaining: 1.52s\n",
      "48:\tlearn: 1.0610626\ttotal: 1.44s\tremaining: 1.49s\n",
      "49:\tlearn: 1.0567435\ttotal: 1.47s\tremaining: 1.47s\n",
      "50:\tlearn: 1.0524921\ttotal: 1.49s\tremaining: 1.44s\n",
      "51:\tlearn: 1.0483025\ttotal: 1.52s\tremaining: 1.41s\n",
      "52:\tlearn: 1.0441348\ttotal: 1.56s\tremaining: 1.38s\n",
      "53:\tlearn: 1.0399151\ttotal: 1.56s\tremaining: 1.33s\n",
      "54:\tlearn: 1.0357585\ttotal: 1.57s\tremaining: 1.28s\n",
      "55:\tlearn: 1.0317725\ttotal: 1.59s\tremaining: 1.25s\n",
      "56:\tlearn: 1.0278183\ttotal: 1.62s\tremaining: 1.22s\n",
      "57:\tlearn: 1.0239315\ttotal: 1.65s\tremaining: 1.19s\n",
      "58:\tlearn: 1.0201304\ttotal: 1.67s\tremaining: 1.16s\n",
      "59:\tlearn: 1.0163876\ttotal: 1.7s\tremaining: 1.13s\n",
      "60:\tlearn: 1.0126512\ttotal: 1.73s\tremaining: 1.1s\n",
      "61:\tlearn: 1.0089860\ttotal: 1.76s\tremaining: 1.08s\n",
      "62:\tlearn: 1.0053793\ttotal: 1.79s\tremaining: 1.05s\n",
      "63:\tlearn: 1.0017817\ttotal: 1.82s\tremaining: 1.02s\n",
      "64:\tlearn: 0.9981685\ttotal: 1.83s\tremaining: 988ms\n",
      "65:\tlearn: 0.9946966\ttotal: 1.86s\tremaining: 957ms\n",
      "66:\tlearn: 0.9912298\ttotal: 1.88s\tremaining: 927ms\n",
      "67:\tlearn: 0.9878020\ttotal: 1.9s\tremaining: 896ms\n",
      "68:\tlearn: 0.9844307\ttotal: 1.93s\tremaining: 866ms\n",
      "69:\tlearn: 0.9810539\ttotal: 1.94s\tremaining: 832ms\n",
      "70:\tlearn: 0.9777270\ttotal: 1.97s\tremaining: 803ms\n",
      "71:\tlearn: 0.9744799\ttotal: 1.99s\tremaining: 774ms\n",
      "72:\tlearn: 0.9712074\ttotal: 1.99s\tremaining: 738ms\n",
      "73:\tlearn: 0.9679781\ttotal: 2s\tremaining: 702ms\n",
      "74:\tlearn: 0.9648750\ttotal: 2.03s\tremaining: 676ms\n",
      "75:\tlearn: 0.9617675\ttotal: 2.05s\tremaining: 648ms\n",
      "76:\tlearn: 0.9586884\ttotal: 2.08s\tremaining: 620ms\n",
      "77:\tlearn: 0.9557246\ttotal: 2.1s\tremaining: 593ms\n",
      "78:\tlearn: 0.9527570\ttotal: 2.13s\tremaining: 566ms\n",
      "79:\tlearn: 0.9498217\ttotal: 2.16s\tremaining: 539ms\n",
      "80:\tlearn: 0.9468755\ttotal: 2.17s\tremaining: 508ms\n",
      "81:\tlearn: 0.9440159\ttotal: 2.2s\tremaining: 483ms\n",
      "82:\tlearn: 0.9412267\ttotal: 2.23s\tremaining: 456ms\n",
      "83:\tlearn: 0.9384536\ttotal: 2.26s\tremaining: 430ms\n",
      "84:\tlearn: 0.9357581\ttotal: 2.3s\tremaining: 405ms\n",
      "85:\tlearn: 0.9330372\ttotal: 2.33s\tremaining: 380ms\n",
      "86:\tlearn: 0.9303384\ttotal: 2.36s\tremaining: 353ms\n",
      "87:\tlearn: 0.9276402\ttotal: 2.37s\tremaining: 324ms\n",
      "88:\tlearn: 0.9250255\ttotal: 2.4s\tremaining: 297ms\n",
      "89:\tlearn: 0.9224768\ttotal: 2.44s\tremaining: 271ms\n",
      "90:\tlearn: 0.9199902\ttotal: 2.47s\tremaining: 244ms\n",
      "91:\tlearn: 0.9175191\ttotal: 2.5s\tremaining: 218ms\n",
      "92:\tlearn: 0.9150419\ttotal: 2.53s\tremaining: 191ms\n",
      "93:\tlearn: 0.9125927\ttotal: 2.56s\tremaining: 164ms\n",
      "94:\tlearn: 0.9102133\ttotal: 2.59s\tremaining: 136ms\n",
      "95:\tlearn: 0.9077612\ttotal: 2.6s\tremaining: 108ms\n",
      "96:\tlearn: 0.9053929\ttotal: 2.63s\tremaining: 81.4ms\n",
      "97:\tlearn: 0.9030689\ttotal: 2.66s\tremaining: 54.3ms\n",
      "98:\tlearn: 0.9008215\ttotal: 2.76s\tremaining: 27.9ms\n",
      "99:\tlearn: 0.8984969\ttotal: 2.77s\tremaining: 0us\n"
     ]
    },
    {
     "data": {
      "text/plain": [
       "<catboost.core.CatBoostClassifier at 0x1adee7911f0>"
      ]
     },
     "execution_count": 24,
     "metadata": {},
     "output_type": "execute_result"
    }
   ],
   "source": [
    "model = CatBoostClassifier(**best_param_Xgboost_multi)\n",
    "model.fit(X_train, y_train)"
   ]
  },
  {
   "cell_type": "code",
   "execution_count": 25,
   "metadata": {},
   "outputs": [
    {
     "name": "stdout",
     "output_type": "stream",
     "text": [
      "              precision    recall  f1-score   support\n",
      "\n",
      "           0       0.59      0.02      0.03      1024\n",
      "           1       0.46      0.02      0.04      1795\n",
      "           2       0.53      0.99      0.69      1153\n",
      "           3       0.52      0.98      0.68      1962\n",
      "\n",
      "    accuracy                           0.52      5934\n",
      "   macro avg       0.53      0.50      0.36      5934\n",
      "weighted avg       0.52      0.52      0.38      5934\n",
      "\n"
     ]
    }
   ],
   "source": [
    "y_pred_test = model.predict(X_test)\n",
    "y_pred_test_prob = model.predict_proba(X_test)\n",
    "\n",
    "print(classification_report(y_test, y_pred_test))"
   ]
  },
  {
   "cell_type": "code",
   "execution_count": 26,
   "metadata": {},
   "outputs": [
    {
     "data": {
      "text/plain": [
       "0.5247724974721941"
      ]
     },
     "execution_count": 26,
     "metadata": {},
     "output_type": "execute_result"
    }
   ],
   "source": [
    "catboost_score_multi = accuracy_score(y_test, y_pred_test)\n",
    "catboost_score_multi"
   ]
  },
  {
   "cell_type": "markdown",
   "metadata": {},
   "source": [
    "# Logistique regression"
   ]
  },
  {
   "cell_type": "code",
   "execution_count": 28,
   "metadata": {},
   "outputs": [
    {
     "name": "stderr",
     "output_type": "stream",
     "text": [
      "c:\\Users\\mathi\\anaconda3\\envs\\Keras\\lib\\site-packages\\sklearn\\model_selection\\_validation.py:378: FitFailedWarning: \n",
      "10 fits failed out of a total of 50.\n",
      "The score on these train-test partitions for these parameters will be set to nan.\n",
      "If these failures are not expected, you can try to debug them by setting error_score='raise'.\n",
      "\n",
      "Below are more details about the failures:\n",
      "--------------------------------------------------------------------------------\n",
      "10 fits failed with the following error:\n",
      "Traceback (most recent call last):\n",
      "  File \"c:\\Users\\mathi\\anaconda3\\envs\\Keras\\lib\\site-packages\\sklearn\\model_selection\\_validation.py\", line 686, in _fit_and_score\n",
      "    estimator.fit(X_train, y_train, **fit_params)\n",
      "  File \"c:\\Users\\mathi\\anaconda3\\envs\\Keras\\lib\\site-packages\\sklearn\\linear_model\\_logistic.py\", line 1162, in fit\n",
      "    solver = _check_solver(self.solver, self.penalty, self.dual)\n",
      "  File \"c:\\Users\\mathi\\anaconda3\\envs\\Keras\\lib\\site-packages\\sklearn\\linear_model\\_logistic.py\", line 54, in _check_solver\n",
      "    raise ValueError(\n",
      "ValueError: Solver sag supports only 'l2' or 'none' penalties, got l1 penalty.\n",
      "\n",
      "  warnings.warn(some_fits_failed_message, FitFailedWarning)\n",
      "c:\\Users\\mathi\\anaconda3\\envs\\Keras\\lib\\site-packages\\sklearn\\model_selection\\_search.py:952: UserWarning: One or more of the test scores are non-finite: [0.51584105 0.33354375 0.33354375        nan 0.33358588]\n",
      "  warnings.warn(\n"
     ]
    },
    {
     "name": "stdout",
     "output_type": "stream",
     "text": [
      "Best Score: 0.5158410523329894\n",
      "Best Hyperparameters: {'solver': 'liblinear', 'penalty': 'l2', 'C': 1.0}\n"
     ]
    }
   ],
   "source": [
    "from sklearn.linear_model import LogisticRegression\n",
    "\n",
    "# Define model\n",
    "model = LogisticRegression()\n",
    "\n",
    "# define evaluation\n",
    "# gkf = GroupKFold(n_splits=3) if not spec as cv= in the randomized search default is 5 fold cv\n",
    "\n",
    "# define search space\n",
    "param_grid = {\n",
    "    'C' : np.logspace(0, 4, num=10),\n",
    "    'penalty' : ['l1', 'l2'],\n",
    "    'solver' : ['liblinear', 'sag']\n",
    "}\n",
    "\n",
    "search = RandomizedSearchCV(model, param_grid, n_iter=5, cv=10, scoring='accuracy', n_jobs=-1, random_state=1)\n",
    "\n",
    "# execute search\n",
    "result = search.fit(X_train, y_train)\n",
    "\n",
    "best_params_logist_reg_multi = result.best_params_\n",
    "# summarize result\n",
    "print('Best Score: %s' % result.best_score_)\n",
    "print('Best Hyperparameters: %s' % result.best_params_)"
   ]
  },
  {
   "cell_type": "code",
   "execution_count": 30,
   "metadata": {},
   "outputs": [
    {
     "data": {
      "text/html": [
       "<style>#sk-container-id-3 {color: black;background-color: white;}#sk-container-id-3 pre{padding: 0;}#sk-container-id-3 div.sk-toggleable {background-color: white;}#sk-container-id-3 label.sk-toggleable__label {cursor: pointer;display: block;width: 100%;margin-bottom: 0;padding: 0.3em;box-sizing: border-box;text-align: center;}#sk-container-id-3 label.sk-toggleable__label-arrow:before {content: \"▸\";float: left;margin-right: 0.25em;color: #696969;}#sk-container-id-3 label.sk-toggleable__label-arrow:hover:before {color: black;}#sk-container-id-3 div.sk-estimator:hover label.sk-toggleable__label-arrow:before {color: black;}#sk-container-id-3 div.sk-toggleable__content {max-height: 0;max-width: 0;overflow: hidden;text-align: left;background-color: #f0f8ff;}#sk-container-id-3 div.sk-toggleable__content pre {margin: 0.2em;color: black;border-radius: 0.25em;background-color: #f0f8ff;}#sk-container-id-3 input.sk-toggleable__control:checked~div.sk-toggleable__content {max-height: 200px;max-width: 100%;overflow: auto;}#sk-container-id-3 input.sk-toggleable__control:checked~label.sk-toggleable__label-arrow:before {content: \"▾\";}#sk-container-id-3 div.sk-estimator input.sk-toggleable__control:checked~label.sk-toggleable__label {background-color: #d4ebff;}#sk-container-id-3 div.sk-label input.sk-toggleable__control:checked~label.sk-toggleable__label {background-color: #d4ebff;}#sk-container-id-3 input.sk-hidden--visually {border: 0;clip: rect(1px 1px 1px 1px);clip: rect(1px, 1px, 1px, 1px);height: 1px;margin: -1px;overflow: hidden;padding: 0;position: absolute;width: 1px;}#sk-container-id-3 div.sk-estimator {font-family: monospace;background-color: #f0f8ff;border: 1px dotted black;border-radius: 0.25em;box-sizing: border-box;margin-bottom: 0.5em;}#sk-container-id-3 div.sk-estimator:hover {background-color: #d4ebff;}#sk-container-id-3 div.sk-parallel-item::after {content: \"\";width: 100%;border-bottom: 1px solid gray;flex-grow: 1;}#sk-container-id-3 div.sk-label:hover label.sk-toggleable__label {background-color: #d4ebff;}#sk-container-id-3 div.sk-serial::before {content: \"\";position: absolute;border-left: 1px solid gray;box-sizing: border-box;top: 0;bottom: 0;left: 50%;z-index: 0;}#sk-container-id-3 div.sk-serial {display: flex;flex-direction: column;align-items: center;background-color: white;padding-right: 0.2em;padding-left: 0.2em;position: relative;}#sk-container-id-3 div.sk-item {position: relative;z-index: 1;}#sk-container-id-3 div.sk-parallel {display: flex;align-items: stretch;justify-content: center;background-color: white;position: relative;}#sk-container-id-3 div.sk-item::before, #sk-container-id-3 div.sk-parallel-item::before {content: \"\";position: absolute;border-left: 1px solid gray;box-sizing: border-box;top: 0;bottom: 0;left: 50%;z-index: -1;}#sk-container-id-3 div.sk-parallel-item {display: flex;flex-direction: column;z-index: 1;position: relative;background-color: white;}#sk-container-id-3 div.sk-parallel-item:first-child::after {align-self: flex-end;width: 50%;}#sk-container-id-3 div.sk-parallel-item:last-child::after {align-self: flex-start;width: 50%;}#sk-container-id-3 div.sk-parallel-item:only-child::after {width: 0;}#sk-container-id-3 div.sk-dashed-wrapped {border: 1px dashed gray;margin: 0 0.4em 0.5em 0.4em;box-sizing: border-box;padding-bottom: 0.4em;background-color: white;}#sk-container-id-3 div.sk-label label {font-family: monospace;font-weight: bold;display: inline-block;line-height: 1.2em;}#sk-container-id-3 div.sk-label-container {text-align: center;}#sk-container-id-3 div.sk-container {/* jupyter's `normalize.less` sets `[hidden] { display: none; }` but bootstrap.min.css set `[hidden] { display: none !important; }` so we also need the `!important` here to be able to override the default hidden behavior on the sphinx rendered scikit-learn.org. See: https://github.com/scikit-learn/scikit-learn/issues/21755 */display: inline-block !important;position: relative;}#sk-container-id-3 div.sk-text-repr-fallback {display: none;}</style><div id=\"sk-container-id-3\" class=\"sk-top-container\"><div class=\"sk-text-repr-fallback\"><pre>LogisticRegression(solver=&#x27;liblinear&#x27;)</pre><b>In a Jupyter environment, please rerun this cell to show the HTML representation or trust the notebook. <br />On GitHub, the HTML representation is unable to render, please try loading this page with nbviewer.org.</b></div><div class=\"sk-container\" hidden><div class=\"sk-item\"><div class=\"sk-estimator sk-toggleable\"><input class=\"sk-toggleable__control sk-hidden--visually\" id=\"sk-estimator-id-3\" type=\"checkbox\" checked><label for=\"sk-estimator-id-3\" class=\"sk-toggleable__label sk-toggleable__label-arrow\">LogisticRegression</label><div class=\"sk-toggleable__content\"><pre>LogisticRegression(solver=&#x27;liblinear&#x27;)</pre></div></div></div></div></div>"
      ],
      "text/plain": [
       "LogisticRegression(solver='liblinear')"
      ]
     },
     "execution_count": 30,
     "metadata": {},
     "output_type": "execute_result"
    }
   ],
   "source": [
    "model = LogisticRegression(**best_params_logist_reg_multi)\n",
    "model.fit(X_train,y_train)"
   ]
  },
  {
   "cell_type": "code",
   "execution_count": 31,
   "metadata": {},
   "outputs": [
    {
     "name": "stdout",
     "output_type": "stream",
     "text": [
      "              precision    recall  f1-score   support\n",
      "\n",
      "           0       0.53      0.04      0.07      1024\n",
      "           1       0.50      0.09      0.16      1795\n",
      "           2       0.53      0.97      0.69      1153\n",
      "           3       0.52      0.91      0.67      1962\n",
      "\n",
      "    accuracy                           0.53      5934\n",
      "   macro avg       0.52      0.50      0.40      5934\n",
      "weighted avg       0.52      0.53      0.41      5934\n",
      "\n"
     ]
    }
   ],
   "source": [
    "y_pred_test = model.predict(X_test)\n",
    "y_pred_test_prob = model.predict_proba(X_test)\n",
    "\n",
    "print(classification_report(y_test, y_pred_test))"
   ]
  },
  {
   "cell_type": "code",
   "execution_count": 32,
   "metadata": {},
   "outputs": [
    {
     "data": {
      "text/plain": [
       "0.525278058645096"
      ]
     },
     "execution_count": 32,
     "metadata": {},
     "output_type": "execute_result"
    }
   ],
   "source": [
    "logisti_reg_score_multi = accuracy_score(y_test, y_pred_test)\n",
    "logisti_reg_score_multi"
   ]
  },
  {
   "cell_type": "markdown",
   "metadata": {},
   "source": [
    "# RandomForestClassifier"
   ]
  },
  {
   "cell_type": "code",
   "execution_count": 33,
   "metadata": {},
   "outputs": [
    {
     "name": "stdout",
     "output_type": "stream",
     "text": [
      "Best Score: 0.506235215679341\n",
      "Best Hyperparameters: {'n_estimators': 190, 'max_depth': 65}\n"
     ]
    }
   ],
   "source": [
    "model = RandomForestClassifier()\n",
    "\n",
    "# define search space\n",
    "param_grid = {\n",
    "    'max_depth': list(range(25, 100, 10)),\n",
    "    'n_estimators': list(range(80, 200, 10))\n",
    "}\n",
    "\n",
    "search = RandomizedSearchCV(model, param_grid, n_iter=5, cv=10, scoring='accuracy', n_jobs=-1, random_state=1)\n",
    "\n",
    "# execute search\n",
    "result = search.fit(X_train, y_train)\n",
    "\n",
    "best_params_random_multi = result.best_params_\n",
    "# summarize result\n",
    "print('Best Score: %s' % result.best_score_)\n",
    "print('Best Hyperparameters: %s' % result.best_params_)"
   ]
  },
  {
   "cell_type": "code",
   "execution_count": 34,
   "metadata": {},
   "outputs": [
    {
     "data": {
      "text/html": [
       "<style>#sk-container-id-4 {color: black;background-color: white;}#sk-container-id-4 pre{padding: 0;}#sk-container-id-4 div.sk-toggleable {background-color: white;}#sk-container-id-4 label.sk-toggleable__label {cursor: pointer;display: block;width: 100%;margin-bottom: 0;padding: 0.3em;box-sizing: border-box;text-align: center;}#sk-container-id-4 label.sk-toggleable__label-arrow:before {content: \"▸\";float: left;margin-right: 0.25em;color: #696969;}#sk-container-id-4 label.sk-toggleable__label-arrow:hover:before {color: black;}#sk-container-id-4 div.sk-estimator:hover label.sk-toggleable__label-arrow:before {color: black;}#sk-container-id-4 div.sk-toggleable__content {max-height: 0;max-width: 0;overflow: hidden;text-align: left;background-color: #f0f8ff;}#sk-container-id-4 div.sk-toggleable__content pre {margin: 0.2em;color: black;border-radius: 0.25em;background-color: #f0f8ff;}#sk-container-id-4 input.sk-toggleable__control:checked~div.sk-toggleable__content {max-height: 200px;max-width: 100%;overflow: auto;}#sk-container-id-4 input.sk-toggleable__control:checked~label.sk-toggleable__label-arrow:before {content: \"▾\";}#sk-container-id-4 div.sk-estimator input.sk-toggleable__control:checked~label.sk-toggleable__label {background-color: #d4ebff;}#sk-container-id-4 div.sk-label input.sk-toggleable__control:checked~label.sk-toggleable__label {background-color: #d4ebff;}#sk-container-id-4 input.sk-hidden--visually {border: 0;clip: rect(1px 1px 1px 1px);clip: rect(1px, 1px, 1px, 1px);height: 1px;margin: -1px;overflow: hidden;padding: 0;position: absolute;width: 1px;}#sk-container-id-4 div.sk-estimator {font-family: monospace;background-color: #f0f8ff;border: 1px dotted black;border-radius: 0.25em;box-sizing: border-box;margin-bottom: 0.5em;}#sk-container-id-4 div.sk-estimator:hover {background-color: #d4ebff;}#sk-container-id-4 div.sk-parallel-item::after {content: \"\";width: 100%;border-bottom: 1px solid gray;flex-grow: 1;}#sk-container-id-4 div.sk-label:hover label.sk-toggleable__label {background-color: #d4ebff;}#sk-container-id-4 div.sk-serial::before {content: \"\";position: absolute;border-left: 1px solid gray;box-sizing: border-box;top: 0;bottom: 0;left: 50%;z-index: 0;}#sk-container-id-4 div.sk-serial {display: flex;flex-direction: column;align-items: center;background-color: white;padding-right: 0.2em;padding-left: 0.2em;position: relative;}#sk-container-id-4 div.sk-item {position: relative;z-index: 1;}#sk-container-id-4 div.sk-parallel {display: flex;align-items: stretch;justify-content: center;background-color: white;position: relative;}#sk-container-id-4 div.sk-item::before, #sk-container-id-4 div.sk-parallel-item::before {content: \"\";position: absolute;border-left: 1px solid gray;box-sizing: border-box;top: 0;bottom: 0;left: 50%;z-index: -1;}#sk-container-id-4 div.sk-parallel-item {display: flex;flex-direction: column;z-index: 1;position: relative;background-color: white;}#sk-container-id-4 div.sk-parallel-item:first-child::after {align-self: flex-end;width: 50%;}#sk-container-id-4 div.sk-parallel-item:last-child::after {align-self: flex-start;width: 50%;}#sk-container-id-4 div.sk-parallel-item:only-child::after {width: 0;}#sk-container-id-4 div.sk-dashed-wrapped {border: 1px dashed gray;margin: 0 0.4em 0.5em 0.4em;box-sizing: border-box;padding-bottom: 0.4em;background-color: white;}#sk-container-id-4 div.sk-label label {font-family: monospace;font-weight: bold;display: inline-block;line-height: 1.2em;}#sk-container-id-4 div.sk-label-container {text-align: center;}#sk-container-id-4 div.sk-container {/* jupyter's `normalize.less` sets `[hidden] { display: none; }` but bootstrap.min.css set `[hidden] { display: none !important; }` so we also need the `!important` here to be able to override the default hidden behavior on the sphinx rendered scikit-learn.org. See: https://github.com/scikit-learn/scikit-learn/issues/21755 */display: inline-block !important;position: relative;}#sk-container-id-4 div.sk-text-repr-fallback {display: none;}</style><div id=\"sk-container-id-4\" class=\"sk-top-container\"><div class=\"sk-text-repr-fallback\"><pre>RandomForestClassifier(max_depth=65, n_estimators=190)</pre><b>In a Jupyter environment, please rerun this cell to show the HTML representation or trust the notebook. <br />On GitHub, the HTML representation is unable to render, please try loading this page with nbviewer.org.</b></div><div class=\"sk-container\" hidden><div class=\"sk-item\"><div class=\"sk-estimator sk-toggleable\"><input class=\"sk-toggleable__control sk-hidden--visually\" id=\"sk-estimator-id-4\" type=\"checkbox\" checked><label for=\"sk-estimator-id-4\" class=\"sk-toggleable__label sk-toggleable__label-arrow\">RandomForestClassifier</label><div class=\"sk-toggleable__content\"><pre>RandomForestClassifier(max_depth=65, n_estimators=190)</pre></div></div></div></div></div>"
      ],
      "text/plain": [
       "RandomForestClassifier(max_depth=65, n_estimators=190)"
      ]
     },
     "execution_count": 34,
     "metadata": {},
     "output_type": "execute_result"
    }
   ],
   "source": [
    "model = RandomForestClassifier(**best_params_random_multi)\n",
    "model.fit(X_train, y_train)"
   ]
  },
  {
   "cell_type": "code",
   "execution_count": 35,
   "metadata": {},
   "outputs": [
    {
     "name": "stdout",
     "output_type": "stream",
     "text": [
      "              precision    recall  f1-score   support\n",
      "\n",
      "           0       0.46      0.42      0.44      1024\n",
      "           1       0.46      0.43      0.44      1795\n",
      "           2       0.52      0.56      0.54      1153\n",
      "           3       0.51      0.53      0.52      1962\n",
      "\n",
      "    accuracy                           0.49      5934\n",
      "   macro avg       0.49      0.49      0.48      5934\n",
      "weighted avg       0.49      0.49      0.49      5934\n",
      "\n"
     ]
    }
   ],
   "source": [
    "y_pred_test = model.predict(X_test)\n",
    "y_pred_test_prob = model.predict_proba(X_test)\n",
    "print(classification_report(y_test, y_pred_test))"
   ]
  },
  {
   "cell_type": "code",
   "execution_count": 36,
   "metadata": {},
   "outputs": [
    {
     "data": {
      "text/plain": [
       "0.48702392989551735"
      ]
     },
     "execution_count": 36,
     "metadata": {},
     "output_type": "execute_result"
    }
   ],
   "source": [
    "random_score_multi = accuracy_score(y_test, y_pred_test)\n",
    "random_score_multi"
   ]
  },
  {
   "cell_type": "markdown",
   "metadata": {},
   "source": [
    "# MPLClassifier"
   ]
  },
  {
   "cell_type": "code",
   "execution_count": 37,
   "metadata": {},
   "outputs": [
    {
     "data": {
      "text/html": [
       "<style>#sk-container-id-5 {color: black;background-color: white;}#sk-container-id-5 pre{padding: 0;}#sk-container-id-5 div.sk-toggleable {background-color: white;}#sk-container-id-5 label.sk-toggleable__label {cursor: pointer;display: block;width: 100%;margin-bottom: 0;padding: 0.3em;box-sizing: border-box;text-align: center;}#sk-container-id-5 label.sk-toggleable__label-arrow:before {content: \"▸\";float: left;margin-right: 0.25em;color: #696969;}#sk-container-id-5 label.sk-toggleable__label-arrow:hover:before {color: black;}#sk-container-id-5 div.sk-estimator:hover label.sk-toggleable__label-arrow:before {color: black;}#sk-container-id-5 div.sk-toggleable__content {max-height: 0;max-width: 0;overflow: hidden;text-align: left;background-color: #f0f8ff;}#sk-container-id-5 div.sk-toggleable__content pre {margin: 0.2em;color: black;border-radius: 0.25em;background-color: #f0f8ff;}#sk-container-id-5 input.sk-toggleable__control:checked~div.sk-toggleable__content {max-height: 200px;max-width: 100%;overflow: auto;}#sk-container-id-5 input.sk-toggleable__control:checked~label.sk-toggleable__label-arrow:before {content: \"▾\";}#sk-container-id-5 div.sk-estimator input.sk-toggleable__control:checked~label.sk-toggleable__label {background-color: #d4ebff;}#sk-container-id-5 div.sk-label input.sk-toggleable__control:checked~label.sk-toggleable__label {background-color: #d4ebff;}#sk-container-id-5 input.sk-hidden--visually {border: 0;clip: rect(1px 1px 1px 1px);clip: rect(1px, 1px, 1px, 1px);height: 1px;margin: -1px;overflow: hidden;padding: 0;position: absolute;width: 1px;}#sk-container-id-5 div.sk-estimator {font-family: monospace;background-color: #f0f8ff;border: 1px dotted black;border-radius: 0.25em;box-sizing: border-box;margin-bottom: 0.5em;}#sk-container-id-5 div.sk-estimator:hover {background-color: #d4ebff;}#sk-container-id-5 div.sk-parallel-item::after {content: \"\";width: 100%;border-bottom: 1px solid gray;flex-grow: 1;}#sk-container-id-5 div.sk-label:hover label.sk-toggleable__label {background-color: #d4ebff;}#sk-container-id-5 div.sk-serial::before {content: \"\";position: absolute;border-left: 1px solid gray;box-sizing: border-box;top: 0;bottom: 0;left: 50%;z-index: 0;}#sk-container-id-5 div.sk-serial {display: flex;flex-direction: column;align-items: center;background-color: white;padding-right: 0.2em;padding-left: 0.2em;position: relative;}#sk-container-id-5 div.sk-item {position: relative;z-index: 1;}#sk-container-id-5 div.sk-parallel {display: flex;align-items: stretch;justify-content: center;background-color: white;position: relative;}#sk-container-id-5 div.sk-item::before, #sk-container-id-5 div.sk-parallel-item::before {content: \"\";position: absolute;border-left: 1px solid gray;box-sizing: border-box;top: 0;bottom: 0;left: 50%;z-index: -1;}#sk-container-id-5 div.sk-parallel-item {display: flex;flex-direction: column;z-index: 1;position: relative;background-color: white;}#sk-container-id-5 div.sk-parallel-item:first-child::after {align-self: flex-end;width: 50%;}#sk-container-id-5 div.sk-parallel-item:last-child::after {align-self: flex-start;width: 50%;}#sk-container-id-5 div.sk-parallel-item:only-child::after {width: 0;}#sk-container-id-5 div.sk-dashed-wrapped {border: 1px dashed gray;margin: 0 0.4em 0.5em 0.4em;box-sizing: border-box;padding-bottom: 0.4em;background-color: white;}#sk-container-id-5 div.sk-label label {font-family: monospace;font-weight: bold;display: inline-block;line-height: 1.2em;}#sk-container-id-5 div.sk-label-container {text-align: center;}#sk-container-id-5 div.sk-container {/* jupyter's `normalize.less` sets `[hidden] { display: none; }` but bootstrap.min.css set `[hidden] { display: none !important; }` so we also need the `!important` here to be able to override the default hidden behavior on the sphinx rendered scikit-learn.org. See: https://github.com/scikit-learn/scikit-learn/issues/21755 */display: inline-block !important;position: relative;}#sk-container-id-5 div.sk-text-repr-fallback {display: none;}</style><div id=\"sk-container-id-5\" class=\"sk-top-container\"><div class=\"sk-text-repr-fallback\"><pre>GridSearchCV(cv=3, estimator=MLPClassifier(), n_jobs=-1,\n",
       "             param_grid={&#x27;activation&#x27;: [&#x27;relu&#x27;, &#x27;tanh&#x27;, &#x27;logistic&#x27;],\n",
       "                         &#x27;hidden_layer_sizes&#x27;: [(30, 20, 15, 25),\n",
       "                                                (50, 40, 30, 20)],\n",
       "                         &#x27;solver&#x27;: [&#x27;adam&#x27;, &#x27;lbfgs&#x27;, &#x27;sgd&#x27;]})</pre><b>In a Jupyter environment, please rerun this cell to show the HTML representation or trust the notebook. <br />On GitHub, the HTML representation is unable to render, please try loading this page with nbviewer.org.</b></div><div class=\"sk-container\" hidden><div class=\"sk-item sk-dashed-wrapped\"><div class=\"sk-label-container\"><div class=\"sk-label sk-toggleable\"><input class=\"sk-toggleable__control sk-hidden--visually\" id=\"sk-estimator-id-5\" type=\"checkbox\" ><label for=\"sk-estimator-id-5\" class=\"sk-toggleable__label sk-toggleable__label-arrow\">GridSearchCV</label><div class=\"sk-toggleable__content\"><pre>GridSearchCV(cv=3, estimator=MLPClassifier(), n_jobs=-1,\n",
       "             param_grid={&#x27;activation&#x27;: [&#x27;relu&#x27;, &#x27;tanh&#x27;, &#x27;logistic&#x27;],\n",
       "                         &#x27;hidden_layer_sizes&#x27;: [(30, 20, 15, 25),\n",
       "                                                (50, 40, 30, 20)],\n",
       "                         &#x27;solver&#x27;: [&#x27;adam&#x27;, &#x27;lbfgs&#x27;, &#x27;sgd&#x27;]})</pre></div></div></div><div class=\"sk-parallel\"><div class=\"sk-parallel-item\"><div class=\"sk-item\"><div class=\"sk-label-container\"><div class=\"sk-label sk-toggleable\"><input class=\"sk-toggleable__control sk-hidden--visually\" id=\"sk-estimator-id-6\" type=\"checkbox\" ><label for=\"sk-estimator-id-6\" class=\"sk-toggleable__label sk-toggleable__label-arrow\">estimator: MLPClassifier</label><div class=\"sk-toggleable__content\"><pre>MLPClassifier()</pre></div></div></div><div class=\"sk-serial\"><div class=\"sk-item\"><div class=\"sk-estimator sk-toggleable\"><input class=\"sk-toggleable__control sk-hidden--visually\" id=\"sk-estimator-id-7\" type=\"checkbox\" ><label for=\"sk-estimator-id-7\" class=\"sk-toggleable__label sk-toggleable__label-arrow\">MLPClassifier</label><div class=\"sk-toggleable__content\"><pre>MLPClassifier()</pre></div></div></div></div></div></div></div></div></div></div>"
      ],
      "text/plain": [
       "GridSearchCV(cv=3, estimator=MLPClassifier(), n_jobs=-1,\n",
       "             param_grid={'activation': ['relu', 'tanh', 'logistic'],\n",
       "                         'hidden_layer_sizes': [(30, 20, 15, 25),\n",
       "                                                (50, 40, 30, 20)],\n",
       "                         'solver': ['adam', 'lbfgs', 'sgd']})"
      ]
     },
     "execution_count": 37,
     "metadata": {},
     "output_type": "execute_result"
    }
   ],
   "source": [
    "from sklearn.neural_network import MLPClassifier\n",
    "from sklearn.model_selection import GridSearchCV\n",
    "\n",
    "mlp = MLPClassifier()\n",
    "# Couche de sortie multiclasse \n",
    "# donc la fonction d’activation des neurones de la couche de sortie est 'Softmax'\n",
    "mlp.out_activation_ = 'Softmax'\n",
    "mlp.n_outputs_ = 1\n",
    "\n",
    "param_grid = {\n",
    "    'hidden_layer_sizes': [(30, 20, 15, 25),(50, 40, 30,20)],\n",
    "    'activation':['relu', 'tanh', 'logistic'],\n",
    "    'solver':  ['adam', 'lbfgs', 'sgd'],\n",
    "}\n",
    "\n",
    "grid_search = GridSearchCV(mlp, param_grid, n_jobs=-1, cv=3)\n",
    "grid_search.fit(X_train, y_train)"
   ]
  },
  {
   "cell_type": "code",
   "execution_count": 38,
   "metadata": {},
   "outputs": [
    {
     "name": "stdout",
     "output_type": "stream",
     "text": [
      "Best parameters found : {'activation': 'logistic', 'hidden_layer_sizes': (30, 20, 15, 25), 'solver': 'adam'}\n"
     ]
    }
   ],
   "source": [
    "best_params_mlp_multi = grid_search.best_params_\n",
    "# meilleur parametre\n",
    "print(f'Best parameters found : {best_params_mlp_multi}')"
   ]
  },
  {
   "cell_type": "code",
   "execution_count": 39,
   "metadata": {},
   "outputs": [
    {
     "data": {
      "text/html": [
       "<style>#sk-container-id-6 {color: black;background-color: white;}#sk-container-id-6 pre{padding: 0;}#sk-container-id-6 div.sk-toggleable {background-color: white;}#sk-container-id-6 label.sk-toggleable__label {cursor: pointer;display: block;width: 100%;margin-bottom: 0;padding: 0.3em;box-sizing: border-box;text-align: center;}#sk-container-id-6 label.sk-toggleable__label-arrow:before {content: \"▸\";float: left;margin-right: 0.25em;color: #696969;}#sk-container-id-6 label.sk-toggleable__label-arrow:hover:before {color: black;}#sk-container-id-6 div.sk-estimator:hover label.sk-toggleable__label-arrow:before {color: black;}#sk-container-id-6 div.sk-toggleable__content {max-height: 0;max-width: 0;overflow: hidden;text-align: left;background-color: #f0f8ff;}#sk-container-id-6 div.sk-toggleable__content pre {margin: 0.2em;color: black;border-radius: 0.25em;background-color: #f0f8ff;}#sk-container-id-6 input.sk-toggleable__control:checked~div.sk-toggleable__content {max-height: 200px;max-width: 100%;overflow: auto;}#sk-container-id-6 input.sk-toggleable__control:checked~label.sk-toggleable__label-arrow:before {content: \"▾\";}#sk-container-id-6 div.sk-estimator input.sk-toggleable__control:checked~label.sk-toggleable__label {background-color: #d4ebff;}#sk-container-id-6 div.sk-label input.sk-toggleable__control:checked~label.sk-toggleable__label {background-color: #d4ebff;}#sk-container-id-6 input.sk-hidden--visually {border: 0;clip: rect(1px 1px 1px 1px);clip: rect(1px, 1px, 1px, 1px);height: 1px;margin: -1px;overflow: hidden;padding: 0;position: absolute;width: 1px;}#sk-container-id-6 div.sk-estimator {font-family: monospace;background-color: #f0f8ff;border: 1px dotted black;border-radius: 0.25em;box-sizing: border-box;margin-bottom: 0.5em;}#sk-container-id-6 div.sk-estimator:hover {background-color: #d4ebff;}#sk-container-id-6 div.sk-parallel-item::after {content: \"\";width: 100%;border-bottom: 1px solid gray;flex-grow: 1;}#sk-container-id-6 div.sk-label:hover label.sk-toggleable__label {background-color: #d4ebff;}#sk-container-id-6 div.sk-serial::before {content: \"\";position: absolute;border-left: 1px solid gray;box-sizing: border-box;top: 0;bottom: 0;left: 50%;z-index: 0;}#sk-container-id-6 div.sk-serial {display: flex;flex-direction: column;align-items: center;background-color: white;padding-right: 0.2em;padding-left: 0.2em;position: relative;}#sk-container-id-6 div.sk-item {position: relative;z-index: 1;}#sk-container-id-6 div.sk-parallel {display: flex;align-items: stretch;justify-content: center;background-color: white;position: relative;}#sk-container-id-6 div.sk-item::before, #sk-container-id-6 div.sk-parallel-item::before {content: \"\";position: absolute;border-left: 1px solid gray;box-sizing: border-box;top: 0;bottom: 0;left: 50%;z-index: -1;}#sk-container-id-6 div.sk-parallel-item {display: flex;flex-direction: column;z-index: 1;position: relative;background-color: white;}#sk-container-id-6 div.sk-parallel-item:first-child::after {align-self: flex-end;width: 50%;}#sk-container-id-6 div.sk-parallel-item:last-child::after {align-self: flex-start;width: 50%;}#sk-container-id-6 div.sk-parallel-item:only-child::after {width: 0;}#sk-container-id-6 div.sk-dashed-wrapped {border: 1px dashed gray;margin: 0 0.4em 0.5em 0.4em;box-sizing: border-box;padding-bottom: 0.4em;background-color: white;}#sk-container-id-6 div.sk-label label {font-family: monospace;font-weight: bold;display: inline-block;line-height: 1.2em;}#sk-container-id-6 div.sk-label-container {text-align: center;}#sk-container-id-6 div.sk-container {/* jupyter's `normalize.less` sets `[hidden] { display: none; }` but bootstrap.min.css set `[hidden] { display: none !important; }` so we also need the `!important` here to be able to override the default hidden behavior on the sphinx rendered scikit-learn.org. See: https://github.com/scikit-learn/scikit-learn/issues/21755 */display: inline-block !important;position: relative;}#sk-container-id-6 div.sk-text-repr-fallback {display: none;}</style><div id=\"sk-container-id-6\" class=\"sk-top-container\"><div class=\"sk-text-repr-fallback\"><pre>MLPClassifier(activation=&#x27;logistic&#x27;, hidden_layer_sizes=(30, 20, 15, 25))</pre><b>In a Jupyter environment, please rerun this cell to show the HTML representation or trust the notebook. <br />On GitHub, the HTML representation is unable to render, please try loading this page with nbviewer.org.</b></div><div class=\"sk-container\" hidden><div class=\"sk-item\"><div class=\"sk-estimator sk-toggleable\"><input class=\"sk-toggleable__control sk-hidden--visually\" id=\"sk-estimator-id-8\" type=\"checkbox\" checked><label for=\"sk-estimator-id-8\" class=\"sk-toggleable__label sk-toggleable__label-arrow\">MLPClassifier</label><div class=\"sk-toggleable__content\"><pre>MLPClassifier(activation=&#x27;logistic&#x27;, hidden_layer_sizes=(30, 20, 15, 25))</pre></div></div></div></div></div>"
      ],
      "text/plain": [
       "MLPClassifier(activation='logistic', hidden_layer_sizes=(30, 20, 15, 25))"
      ]
     },
     "execution_count": 39,
     "metadata": {},
     "output_type": "execute_result"
    }
   ],
   "source": [
    "best_mlp = MLPClassifier(**best_params_mlp_multi)\n",
    "best_mlp.fit(X_train, y_train)"
   ]
  },
  {
   "cell_type": "code",
   "execution_count": 40,
   "metadata": {},
   "outputs": [
    {
     "name": "stdout",
     "output_type": "stream",
     "text": [
      "              precision    recall  f1-score   support\n",
      "\n",
      "           0       0.00      0.00      0.00      1024\n",
      "           1       0.00      0.00      0.00      1795\n",
      "           2       0.53      1.00      0.69      1153\n",
      "           3       0.52      1.00      0.69      1962\n",
      "\n",
      "    accuracy                           0.52      5934\n",
      "   macro avg       0.26      0.50      0.34      5934\n",
      "weighted avg       0.28      0.52      0.36      5934\n",
      "\n"
     ]
    },
    {
     "name": "stderr",
     "output_type": "stream",
     "text": [
      "c:\\Users\\mathi\\anaconda3\\envs\\Keras\\lib\\site-packages\\sklearn\\metrics\\_classification.py:1344: UndefinedMetricWarning: Precision and F-score are ill-defined and being set to 0.0 in labels with no predicted samples. Use `zero_division` parameter to control this behavior.\n",
      "  _warn_prf(average, modifier, msg_start, len(result))\n",
      "c:\\Users\\mathi\\anaconda3\\envs\\Keras\\lib\\site-packages\\sklearn\\metrics\\_classification.py:1344: UndefinedMetricWarning: Precision and F-score are ill-defined and being set to 0.0 in labels with no predicted samples. Use `zero_division` parameter to control this behavior.\n",
      "  _warn_prf(average, modifier, msg_start, len(result))\n",
      "c:\\Users\\mathi\\anaconda3\\envs\\Keras\\lib\\site-packages\\sklearn\\metrics\\_classification.py:1344: UndefinedMetricWarning: Precision and F-score are ill-defined and being set to 0.0 in labels with no predicted samples. Use `zero_division` parameter to control this behavior.\n",
      "  _warn_prf(average, modifier, msg_start, len(result))\n"
     ]
    }
   ],
   "source": [
    "y_pred_test = best_mlp.predict(X_test)\n",
    "y_pred_test_prob = best_mlp.predict_proba(X_test)\n",
    "print(classification_report(y_test, y_pred_test))"
   ]
  },
  {
   "cell_type": "code",
   "execution_count": 41,
   "metadata": {},
   "outputs": [
    {
     "data": {
      "text/plain": [
       "0.5249410178631615"
      ]
     },
     "execution_count": 41,
     "metadata": {},
     "output_type": "execute_result"
    }
   ],
   "source": [
    "mlp_multi = accuracy_score(y_test, y_pred_test)\n",
    "mlp_multi"
   ]
  },
  {
   "cell_type": "markdown",
   "metadata": {},
   "source": [
    "# Comparaison modèles multiclass"
   ]
  },
  {
   "cell_type": "code",
   "execution_count": 42,
   "metadata": {},
   "outputs": [
    {
     "data": {
      "image/png": "[encoded data removed]",
      "text/plain": [
       "<Figure size 1000x600 with 1 Axes>"
      ]
     },
     "metadata": {},
     "output_type": "display_data"
    }
   ],
   "source": [
    "import matplotlib.pyplot as plt\n",
    "import numpy as np\n",
    "\n",
    "# Scores d'accuracy des différents modèles\n",
    "accuracy_scores = [DescisionTree_score_multi, Xgboost_score_multi, catboost_score_multi, logisti_reg_score_multi, random_score_multi, mlp_multi] \n",
    "\n",
    "# Noms des modèles correspondants\n",
    "model_names = ['DecisionTree', 'Xgboost', 'Catboost', 'Reg logistique', 'Random forest', 'MLP'] \n",
    "\n",
    "# Création de l'histogramme\n",
    "plt.figure(figsize=(10, 6))\n",
    "plt.bar(model_names, accuracy_scores, color='blue', alpha=0.7)\n",
    "plt.xlabel('Modèles')\n",
    "plt.ylabel('Accuracy')\n",
    "plt.title('Comparaison des résultats d\\'accuracy des modèles de classification multiclass')\n",
    "plt.ylim(0, 1)  # Assurez-vous que l'axe y va de 0 à 1 pour l'accuracy\n",
    "plt.grid(axis='y', linestyle='--', alpha=0.7)\n",
    "\n",
    "# Affichage des scores sur chaque barre\n",
    "for i, v in enumerate(accuracy_scores):\n",
    "    plt.text(i, v + 0.01, f'{v:.4f}', ha='center', va='bottom')\n",
    "\n",
    "# Affichage de l'histogramme\n",
    "plt.show()"
   ]
  }
 ],
 "metadata": {
  "kernelspec": {
   "display_name": "Keras",
   "language": "python",
   "name": "python3"
  },
  "language_info": {
   "codemirror_mode": {
    "name": "ipython",
    "version": 3
   },
   "file_extension": ".py",
   "mimetype": "text/x-python",
   "name": "python",
   "nbconvert_exporter": "python",
   "pygments_lexer": "ipython3",
   "version": "3.9.18"
  }
 },
 "nbformat": 4,
 "nbformat_minor": 2
}
