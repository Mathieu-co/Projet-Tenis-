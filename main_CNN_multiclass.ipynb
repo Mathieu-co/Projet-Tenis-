{
 "cells": [
  {
   "cell_type": "markdown",
   "metadata": {},
   "source": [
    "# CNN pour classification multiclass"
   ]
  },
  {
   "cell_type": "code",
   "execution_count": 19,
   "metadata": {},
   "outputs": [],
   "source": [
    "import pandas as pd\n",
    "from test import convertCatToNum, drop_rows_with_missing, normalize, encode_player_names, split_data\n",
    "import numpy as np\n",
    "import matplotlib.pyplot as plt\n",
    "\n",
    "# on import toutes les données\n",
    "\n",
    "df_atp_multi = pd.read_csv('all_matches_ATP_multi.csv')"
   ]
  },
  {
   "cell_type": "code",
   "execution_count": 20,
   "metadata": {},
   "outputs": [
    {
     "data": {
      "text/plain": [
       "Index(['ATP', 'Court', 'Surface', 'Round', 'Best of', 'WRank', 'LRank',\n",
       "       'Comment', 'PSW', 'PSL', 'B365W', 'B365L', 'Series', 'y_multicat'],\n",
       "      dtype='object')"
      ]
     },
     "execution_count": 20,
     "metadata": {},
     "output_type": "execute_result"
    }
   ],
   "source": [
    "df_atp_multi.columns"
   ]
  },
  {
   "cell_type": "code",
   "execution_count": 21,
   "metadata": {},
   "outputs": [],
   "source": [
    "cat_cols = ['Court','Surface','Round','Comment']\n",
    "num_cols = [\"PSW\",\"PSL\",\"Best of\",\"B365W\",\"B365L\",\"Series\",\"ATP\",\"WRank\",\"LRank\"]"
   ]
  },
  {
   "cell_type": "code",
   "execution_count": 22,
   "metadata": {},
   "outputs": [
    {
     "name": "stdout",
     "output_type": "stream",
     "text": [
      " ===     Replace categorial variable     ===\n",
      " ===   Convert categorical to numerical  ===\n",
      " ===         drop missing values         ===\n",
      " ===            Normalize data           ===\n"
     ]
    }
   ],
   "source": [
    "df_processed = convertCatToNum(df=df_atp_multi,cat_cols=cat_cols)\n",
    "df = drop_rows_with_missing(df_processed,columns=[\"y_multicat\",\"Series\"])\n",
    "df_final = normalize(df,num_cols)"
   ]
  },
  {
   "cell_type": "code",
   "execution_count": 23,
   "metadata": {},
   "outputs": [
    {
     "data": {
      "text/html": [
       "<div>\n",
       "<style scoped>\n",
       "    .dataframe tbody tr th:only-of-type {\n",
       "        vertical-align: middle;\n",
       "    }\n",
       "\n",
       "    .dataframe tbody tr th {\n",
       "        vertical-align: top;\n",
       "    }\n",
       "\n",
       "    .dataframe thead th {\n",
       "        text-align: right;\n",
       "    }\n",
       "</style>\n",
       "<table border=\"1\" class=\"dataframe\">\n",
       "  <thead>\n",
       "    <tr style=\"text-align: right;\">\n",
       "      <th></th>\n",
       "      <th>ATP</th>\n",
       "      <th>Best of</th>\n",
       "      <th>WRank</th>\n",
       "      <th>LRank</th>\n",
       "      <th>PSW</th>\n",
       "      <th>PSL</th>\n",
       "      <th>B365W</th>\n",
       "      <th>B365L</th>\n",
       "      <th>Series</th>\n",
       "      <th>y_multicat</th>\n",
       "      <th>...</th>\n",
       "      <th>Round_1st Round</th>\n",
       "      <th>Round_2nd Round</th>\n",
       "      <th>Round_3rd Round</th>\n",
       "      <th>Round_4th Round</th>\n",
       "      <th>Round_Quarterfinals</th>\n",
       "      <th>Round_Round Robin</th>\n",
       "      <th>Round_Semifinals</th>\n",
       "      <th>Round_The Final</th>\n",
       "      <th>Comment_Completed</th>\n",
       "      <th>Comment_Retired</th>\n",
       "    </tr>\n",
       "  </thead>\n",
       "  <tbody>\n",
       "    <tr>\n",
       "      <th>62</th>\n",
       "      <td>0.074627</td>\n",
       "      <td>1.0</td>\n",
       "      <td>0.014815</td>\n",
       "      <td>0.022584</td>\n",
       "      <td>0.006143</td>\n",
       "      <td>0.032836</td>\n",
       "      <td>0.007591</td>\n",
       "      <td>0.034903</td>\n",
       "      <td>1.0</td>\n",
       "      <td>1</td>\n",
       "      <td>...</td>\n",
       "      <td>1</td>\n",
       "      <td>0</td>\n",
       "      <td>0</td>\n",
       "      <td>0</td>\n",
       "      <td>0</td>\n",
       "      <td>0</td>\n",
       "      <td>0</td>\n",
       "      <td>0</td>\n",
       "      <td>0</td>\n",
       "      <td>1</td>\n",
       "    </tr>\n",
       "    <tr>\n",
       "      <th>63</th>\n",
       "      <td>0.074627</td>\n",
       "      <td>1.0</td>\n",
       "      <td>0.005820</td>\n",
       "      <td>0.039674</td>\n",
       "      <td>0.000914</td>\n",
       "      <td>0.174931</td>\n",
       "      <td>0.001364</td>\n",
       "      <td>0.089909</td>\n",
       "      <td>1.0</td>\n",
       "      <td>1</td>\n",
       "      <td>...</td>\n",
       "      <td>1</td>\n",
       "      <td>0</td>\n",
       "      <td>0</td>\n",
       "      <td>0</td>\n",
       "      <td>0</td>\n",
       "      <td>0</td>\n",
       "      <td>0</td>\n",
       "      <td>0</td>\n",
       "      <td>0</td>\n",
       "      <td>1</td>\n",
       "    </tr>\n",
       "  </tbody>\n",
       "</table>\n",
       "<p>2 rows × 26 columns</p>\n",
       "</div>"
      ],
      "text/plain": [
       "         ATP  Best of     WRank     LRank       PSW       PSL     B365W  \\\n",
       "62  0.074627      1.0  0.014815  0.022584  0.006143  0.032836  0.007591   \n",
       "63  0.074627      1.0  0.005820  0.039674  0.000914  0.174931  0.001364   \n",
       "\n",
       "       B365L  Series  y_multicat  ...  Round_1st Round  Round_2nd Round  \\\n",
       "62  0.034903     1.0           1  ...                1                0   \n",
       "63  0.089909     1.0           1  ...                1                0   \n",
       "\n",
       "    Round_3rd Round  Round_4th Round  Round_Quarterfinals  Round_Round Robin  \\\n",
       "62                0                0                    0                  0   \n",
       "63                0                0                    0                  0   \n",
       "\n",
       "    Round_Semifinals  Round_The Final  Comment_Completed  Comment_Retired  \n",
       "62                 0                0                  0                1  \n",
       "63                 0                0                  0                1  \n",
       "\n",
       "[2 rows x 26 columns]"
      ]
     },
     "execution_count": 23,
     "metadata": {},
     "output_type": "execute_result"
    }
   ],
   "source": [
    "df_final.head(2)"
   ]
  },
  {
   "cell_type": "code",
   "execution_count": 24,
   "metadata": {},
   "outputs": [
    {
     "data": {
      "text/plain": [
       "1    8808\n",
       "3    8752\n",
       "2    4986\n",
       "0    4910\n",
       "Name: y_multicat, dtype: int64"
      ]
     },
     "execution_count": 24,
     "metadata": {},
     "output_type": "execute_result"
    }
   ],
   "source": [
    "df_final['y_multicat'].value_counts()"
   ]
  },
  {
   "cell_type": "code",
   "execution_count": 25,
   "metadata": {},
   "outputs": [
    {
     "name": "stdout",
     "output_type": "stream",
     "text": [
      "=== Splitting data into train and test sets ===\n",
      "Data split completed.\n"
     ]
    }
   ],
   "source": [
    "X_train, X_test, y_train, y_test = split_data(df_final,target_column='y_multicat', test_size=0.2, random_state=42)"
   ]
  },
  {
   "cell_type": "code",
   "execution_count": 26,
   "metadata": {},
   "outputs": [],
   "source": [
    "X_test = X_test.values.reshape((X_test.shape[0], 25, 1))\n",
    "X_train = X_train.values.reshape((X_train.shape[0], 25, 1))"
   ]
  },
  {
   "cell_type": "code",
   "execution_count": 27,
   "metadata": {},
   "outputs": [
    {
     "name": "stdout",
     "output_type": "stream",
     "text": [
      "X_train : (21964, 25, 1)\n",
      "y_train : (21964,)\n",
      "X_test : (5492, 25, 1)\n",
      "y_test : (5492,)\n"
     ]
    }
   ],
   "source": [
    "print('X_train :',X_train.shape)\n",
    "print('y_train :',y_train.shape)\n",
    "print('X_test :',X_test.shape)\n",
    "print('y_test :',y_test.shape)"
   ]
  },
  {
   "cell_type": "code",
   "execution_count": 28,
   "metadata": {},
   "outputs": [
    {
     "name": "stdout",
     "output_type": "stream",
     "text": [
      "X_valid : (2746, 25, 1)\n",
      "y_valid : (2746,)\n"
     ]
    }
   ],
   "source": [
    "# On crée notre jeux de validation\n",
    "nbr_test_valid = int(len(X_test)/2)\n",
    "\n",
    "X_valid = X_test[:nbr_test_valid]\n",
    "X_test = X_test[nbr_test_valid:]\n",
    "\n",
    "y_valid = y_test[:nbr_test_valid]\n",
    "y_test = y_test[nbr_test_valid:]\n",
    "\n",
    "print('X_valid :',X_valid.shape)\n",
    "print('y_valid :',y_valid.shape)"
   ]
  },
  {
   "cell_type": "markdown",
   "metadata": {},
   "source": [
    "# CNN multiclass"
   ]
  },
  {
   "cell_type": "code",
   "execution_count": 29,
   "metadata": {},
   "outputs": [],
   "source": [
    "from tensorflow.keras.models import Sequential\n",
    "from keras.layers import Conv1D, MaxPooling1D, Flatten, Dense\n",
    "from tensorflow.keras.wrappers.scikit_learn import KerasClassifier\n",
    "from tensorflow.keras import layers, models\n",
    "import tensorflow as tf\n",
    "import time"
   ]
  },
  {
   "cell_type": "code",
   "execution_count": 30,
   "metadata": {},
   "outputs": [
    {
     "name": "stdout",
     "output_type": "stream",
     "text": [
      "WARNING:tensorflow:There are non-GPU devices in `tf.distribute.Strategy`, not using nccl allreduce.\n",
      "INFO:tensorflow:Using MirroredStrategy with devices ('/job:localhost/replica:0/task:0/device:CPU:0',)\n"
     ]
    }
   ],
   "source": [
    "strategy = tf.distribute.MirroredStrategy()\n",
    "\n",
    "with strategy.scope():\n",
    "\n",
    "    model_cnn_multi = models.Sequential([\n",
    "        layers.Conv1D(128, kernel_size=3, activation='relu', padding='same', kernel_initializer='he_uniform', input_shape=(25, 1)),\n",
    "        layers.BatchNormalization(),\n",
    "        layers.Conv1D(128, kernel_size=3, activation='relu', padding='same', kernel_initializer='he_uniform', input_shape=(25, 1)),\n",
    "        layers.BatchNormalization(),\n",
    "        layers.MaxPooling1D(pool_size=2),\n",
    "        layers.Dropout(0.25),\n",
    "\n",
    "        layers.Flatten(),\n",
    "        layers.Dense(128, activation='relu'),\n",
    "        layers.BatchNormalization(),\n",
    "        layers.Dropout(0.25),\n",
    "        layers.Dense(4, activation='softmax')\n",
    "    ])\n",
    "\n",
    "    model_cnn_multi.compile(optimizer='adam',\n",
    "                      loss='sparse_categorical_crossentropy',\n",
    "                      metrics=['accuracy'])"
   ]
  },
  {
   "cell_type": "code",
   "execution_count": 31,
   "metadata": {},
   "outputs": [
    {
     "name": "stdout",
     "output_type": "stream",
     "text": [
      "Model: \"sequential_1\"\n",
      "_________________________________________________________________\n",
      " Layer (type)                Output Shape              Param #   \n",
      "=================================================================\n",
      " conv1d_2 (Conv1D)           (None, 25, 128)           512       \n",
      "                                                                 \n",
      " batch_normalization_3 (Batc  (None, 25, 128)          512       \n",
      " hNormalization)                                                 \n",
      "                                                                 \n",
      " conv1d_3 (Conv1D)           (None, 25, 128)           49280     \n",
      "                                                                 \n",
      " batch_normalization_4 (Batc  (None, 25, 128)          512       \n",
      " hNormalization)                                                 \n",
      "                                                                 \n",
      " max_pooling1d_1 (MaxPooling  (None, 12, 128)          0         \n",
      " 1D)                                                             \n",
      "                                                                 \n",
      " dropout_2 (Dropout)         (None, 12, 128)           0         \n",
      "                                                                 \n",
      " flatten_1 (Flatten)         (None, 1536)              0         \n",
      "                                                                 \n",
      " dense_2 (Dense)             (None, 128)               196736    \n",
      "                                                                 \n",
      " batch_normalization_5 (Batc  (None, 128)              512       \n",
      " hNormalization)                                                 \n",
      "                                                                 \n",
      " dropout_3 (Dropout)         (None, 128)               0         \n",
      "                                                                 \n",
      " dense_3 (Dense)             (None, 4)                 516       \n",
      "                                                                 \n",
      "=================================================================\n",
      "Total params: 248,580\n",
      "Trainable params: 247,812\n",
      "Non-trainable params: 768\n",
      "_________________________________________________________________\n"
     ]
    }
   ],
   "source": [
    "model_cnn_multi.summary()"
   ]
  },
  {
   "cell_type": "code",
   "execution_count": 32,
   "metadata": {},
   "outputs": [
    {
     "name": "stdout",
     "output_type": "stream",
     "text": [
      "Epoch 1/20\n"
     ]
    },
    {
     "name": "stdout",
     "output_type": "stream",
     "text": [
      "687/687 [==============================] - 14s 14ms/step - loss: 1.4893 - accuracy: 0.2966 - val_loss: 1.3591 - val_accuracy: 0.3179\n",
      "Epoch 2/20\n",
      "687/687 [==============================] - 8s 11ms/step - loss: 1.3718 - accuracy: 0.3102 - val_loss: 1.3489 - val_accuracy: 0.3121\n",
      "Epoch 3/20\n",
      "687/687 [==============================] - 8s 11ms/step - loss: 1.3561 - accuracy: 0.3135 - val_loss: 1.3381 - val_accuracy: 0.3212\n",
      "Epoch 4/20\n",
      "687/687 [==============================] - 8s 12ms/step - loss: 1.3496 - accuracy: 0.3141 - val_loss: 1.3445 - val_accuracy: 0.3168\n",
      "Epoch 5/20\n",
      "687/687 [==============================] - 8s 12ms/step - loss: 1.3490 - accuracy: 0.3172 - val_loss: 1.3533 - val_accuracy: 0.3030\n",
      "Epoch 6/20\n",
      "687/687 [==============================] - 8s 12ms/step - loss: 1.3493 - accuracy: 0.3165 - val_loss: 1.3381 - val_accuracy: 0.3314\n",
      "Epoch 7/20\n",
      "687/687 [==============================] - 8s 12ms/step - loss: 1.3461 - accuracy: 0.3136 - val_loss: 1.3374 - val_accuracy: 0.3154\n",
      "Epoch 8/20\n",
      "687/687 [==============================] - 8s 12ms/step - loss: 1.3462 - accuracy: 0.3199 - val_loss: 1.3410 - val_accuracy: 0.3270\n",
      "Epoch 9/20\n",
      "687/687 [==============================] - 8s 12ms/step - loss: 1.3450 - accuracy: 0.3160 - val_loss: 1.3430 - val_accuracy: 0.3168\n",
      "Epoch 10/20\n",
      "687/687 [==============================] - 8s 12ms/step - loss: 1.3455 - accuracy: 0.3178 - val_loss: 1.3570 - val_accuracy: 0.3095\n",
      "Epoch 11/20\n",
      "687/687 [==============================] - 11s 17ms/step - loss: 1.3436 - accuracy: 0.3181 - val_loss: 1.3388 - val_accuracy: 0.3190\n",
      "Epoch 12/20\n",
      "687/687 [==============================] - 8s 11ms/step - loss: 1.3431 - accuracy: 0.3235 - val_loss: 1.3366 - val_accuracy: 0.3176\n",
      "Epoch 13/20\n",
      "687/687 [==============================] - 8s 12ms/step - loss: 1.3421 - accuracy: 0.3187 - val_loss: 1.3384 - val_accuracy: 0.3125\n",
      "Epoch 14/20\n",
      "687/687 [==============================] - 8s 12ms/step - loss: 1.3421 - accuracy: 0.3182 - val_loss: 1.3345 - val_accuracy: 0.3234\n",
      "Epoch 15/20\n",
      "687/687 [==============================] - 10s 15ms/step - loss: 1.3422 - accuracy: 0.3203 - val_loss: 1.3402 - val_accuracy: 0.3095\n",
      "Epoch 16/20\n",
      "687/687 [==============================] - 12s 17ms/step - loss: 1.3403 - accuracy: 0.3211 - val_loss: 1.3425 - val_accuracy: 0.3139\n",
      "Epoch 17/20\n",
      "687/687 [==============================] - 12s 18ms/step - loss: 1.3405 - accuracy: 0.3227 - val_loss: 1.3392 - val_accuracy: 0.3176\n",
      "Epoch 18/20\n",
      "687/687 [==============================] - 13s 18ms/step - loss: 1.3400 - accuracy: 0.3213 - val_loss: 1.3386 - val_accuracy: 0.3157\n",
      "Epoch 19/20\n",
      "687/687 [==============================] - 12s 17ms/step - loss: 1.3392 - accuracy: 0.3215 - val_loss: 1.3361 - val_accuracy: 0.3208\n",
      "Epoch 20/20\n",
      "687/687 [==============================] - 12s 17ms/step - loss: 1.3400 - accuracy: 0.3174 - val_loss: 1.3380 - val_accuracy: 0.3223\n",
      "Temps du modèle: 192.28846287727356 s\n"
     ]
    }
   ],
   "source": [
    "start_time = time.time()\n",
    "history = model_cnn_multi.fit(X_train, y_train, epochs=20, validation_data=(X_valid, y_valid), batch_size=32)\n",
    "end_time = time.time()\n",
    "cnn_time = end_time - start_time\n",
    "print(f\"Temps du modèle: {cnn_time} s\")"
   ]
  },
  {
   "cell_type": "code",
   "execution_count": 33,
   "metadata": {},
   "outputs": [
    {
     "data": {
      "image/png": "[encoded data removed]",
      "text/plain": [
       "<Figure size 800x500 with 1 Axes>"
      ]
     },
     "metadata": {},
     "output_type": "display_data"
    }
   ],
   "source": [
    "pd.DataFrame(history.history).plot(figsize=(8, 5))\n",
    "plt.grid(True)\n",
    "plt.gca().set_ylim(0, 1)\n",
    "plt.xlabel('Epoch')\n",
    "plt.ylabel('Accuracy & loss')\n",
    "plt.show()"
   ]
  },
  {
   "cell_type": "code",
   "execution_count": 34,
   "metadata": {},
   "outputs": [
    {
     "name": "stdout",
     "output_type": "stream",
     "text": [
      "86/86 [==============================] - 1s 7ms/step - loss: 1.3213 - accuracy: 0.3299\n",
      "Loss on test set: 1.3213378190994263\n",
      "Accuracy on test set: 0.3299344480037689\n"
     ]
    }
   ],
   "source": [
    "# Évaluer la performance sur l'ensemble de test\n",
    "loss, accuracy = model_cnn_multi.evaluate(X_test, y_test)\n",
    "\n",
    "# Affichez les résultats\n",
    "print(f\"Loss on test set: {loss}\")\n",
    "print(f\"Accuracy on test set: {accuracy}\")"
   ]
  }
 ],
 "metadata": {
  "kernelspec": {
   "display_name": "Keras",
   "language": "python",
   "name": "python3"
  },
  "language_info": {
   "codemirror_mode": {
    "name": "ipython",
    "version": 3
   },
   "file_extension": ".py",
   "mimetype": "text/x-python",
   "name": "python",
   "nbconvert_exporter": "python",
   "pygments_lexer": "ipython3",
   "version": "3.9.18"
  }
 },
 "nbformat": 4,
 "nbformat_minor": 2
}
