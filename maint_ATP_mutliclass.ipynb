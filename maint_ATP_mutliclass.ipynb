{
 "cells": [
  {
   "cell_type": "markdown",
   "metadata": {},
   "source": [
    "# Préparation pour la classification mutliclass"
   ]
  },
  {
   "cell_type": "code",
   "execution_count": 1,
   "metadata": {},
   "outputs": [],
   "source": [
    "import pandas as pd\n",
    "from test import convertCatToNum, drop_rows_with_missing, normalize, encode_player_names, split_data\n",
    "import numpy as np\n",
    "from sklearn.metrics import classification_report\n",
    "from sklearn.model_selection import RandomizedSearchCV\n",
    "from sklearn.ensemble import RandomForestClassifier\n",
    "import matplotlib as plt\n",
    "import time\n",
    "\n",
    "# on import toutes les données\n",
    "\n",
    "df_atp_multi = pd.read_csv('all_matches_ATP_multi.csv')"
   ]
  },
  {
   "cell_type": "code",
   "execution_count": 2,
   "metadata": {},
   "outputs": [
    {
     "name": "stdout",
     "output_type": "stream",
     "text": [
      "<class 'pandas.core.frame.DataFrame'>\n",
      "RangeIndex: 37861 entries, 0 to 37860\n",
      "Data columns (total 14 columns):\n",
      " #   Column      Non-Null Count  Dtype  \n",
      "---  ------      --------------  -----  \n",
      " 0   ATP         37861 non-null  int64  \n",
      " 1   Court       37861 non-null  object \n",
      " 2   Surface     37861 non-null  object \n",
      " 3   Round       37861 non-null  object \n",
      " 4   Best of     37861 non-null  float64\n",
      " 5   WRank       37861 non-null  int64  \n",
      " 6   LRank       37861 non-null  int64  \n",
      " 7   Comment     37861 non-null  object \n",
      " 8   PSW         37861 non-null  float64\n",
      " 9   PSL         37861 non-null  float64\n",
      " 10  B365W       37861 non-null  float64\n",
      " 11  B365L       37861 non-null  float64\n",
      " 12  Series      27456 non-null  float64\n",
      " 13  y_multicat  37861 non-null  int64  \n",
      "dtypes: float64(6), int64(4), object(4)\n",
      "memory usage: 4.0+ MB\n"
     ]
    }
   ],
   "source": [
    "df_atp_multi.info()"
   ]
  },
  {
   "cell_type": "code",
   "execution_count": 3,
   "metadata": {},
   "outputs": [
    {
     "data": {
      "text/html": [
       "<div>\n",
       "<style scoped>\n",
       "    .dataframe tbody tr th:only-of-type {\n",
       "        vertical-align: middle;\n",
       "    }\n",
       "\n",
       "    .dataframe tbody tr th {\n",
       "        vertical-align: top;\n",
       "    }\n",
       "\n",
       "    .dataframe thead th {\n",
       "        text-align: right;\n",
       "    }\n",
       "</style>\n",
       "<table border=\"1\" class=\"dataframe\">\n",
       "  <thead>\n",
       "    <tr style=\"text-align: right;\">\n",
       "      <th></th>\n",
       "      <th>ATP</th>\n",
       "      <th>Court</th>\n",
       "      <th>Surface</th>\n",
       "      <th>Round</th>\n",
       "      <th>Best of</th>\n",
       "      <th>WRank</th>\n",
       "      <th>LRank</th>\n",
       "      <th>Comment</th>\n",
       "      <th>PSW</th>\n",
       "      <th>PSL</th>\n",
       "      <th>B365W</th>\n",
       "      <th>B365L</th>\n",
       "      <th>Series</th>\n",
       "      <th>y_multicat</th>\n",
       "    </tr>\n",
       "  </thead>\n",
       "  <tbody>\n",
       "    <tr>\n",
       "      <th>0</th>\n",
       "      <td>3</td>\n",
       "      <td>Outdoor</td>\n",
       "      <td>Hard</td>\n",
       "      <td>1st Round</td>\n",
       "      <td>3.0</td>\n",
       "      <td>246</td>\n",
       "      <td>58</td>\n",
       "      <td>Completed</td>\n",
       "      <td>2.21</td>\n",
       "      <td>1.719</td>\n",
       "      <td>2.200</td>\n",
       "      <td>1.615</td>\n",
       "      <td>NaN</td>\n",
       "      <td>1</td>\n",
       "    </tr>\n",
       "    <tr>\n",
       "      <th>1</th>\n",
       "      <td>3</td>\n",
       "      <td>Outdoor</td>\n",
       "      <td>Hard</td>\n",
       "      <td>1st Round</td>\n",
       "      <td>3.0</td>\n",
       "      <td>43</td>\n",
       "      <td>6</td>\n",
       "      <td>Completed</td>\n",
       "      <td>3.25</td>\n",
       "      <td>1.385</td>\n",
       "      <td>2.875</td>\n",
       "      <td>1.364</td>\n",
       "      <td>NaN</td>\n",
       "      <td>1</td>\n",
       "    </tr>\n",
       "  </tbody>\n",
       "</table>\n",
       "</div>"
      ],
      "text/plain": [
       "   ATP    Court Surface      Round  Best of  WRank  LRank    Comment   PSW  \\\n",
       "0    3  Outdoor    Hard  1st Round      3.0    246     58  Completed  2.21   \n",
       "1    3  Outdoor    Hard  1st Round      3.0     43      6  Completed  3.25   \n",
       "\n",
       "     PSL  B365W  B365L  Series  y_multicat  \n",
       "0  1.719  2.200  1.615     NaN           1  \n",
       "1  1.385  2.875  1.364     NaN           1  "
      ]
     },
     "execution_count": 3,
     "metadata": {},
     "output_type": "execute_result"
    }
   ],
   "source": [
    "df_atp_multi.head(2)"
   ]
  },
  {
   "cell_type": "code",
   "execution_count": 4,
   "metadata": {},
   "outputs": [],
   "source": [
    "cat_cols = ['Court','Surface','Round','Comment']\n",
    "num_cols = [\"PSW\",\"PSL\",\"Best of\",\"B365W\",\"B365L\",\"Series\",\"ATP\",\"WRank\",\"LRank\"]"
   ]
  },
  {
   "cell_type": "code",
   "execution_count": 5,
   "metadata": {},
   "outputs": [
    {
     "name": "stdout",
     "output_type": "stream",
     "text": [
      " ===     Replace categorial variable     ===\n",
      " ===   Convert categorical to numerical  ===\n",
      " ===         drop missing values         ===\n",
      " ===            Normalize data           ===\n"
     ]
    }
   ],
   "source": [
    "df_processed = convertCatToNum(df=df_atp_multi,cat_cols=cat_cols)\n",
    "df = drop_rows_with_missing(df_processed,columns=[\"y_multicat\",\"Series\"])\n",
    "df_final = normalize(df,num_cols)"
   ]
  },
  {
   "cell_type": "code",
   "execution_count": 6,
   "metadata": {},
   "outputs": [
    {
     "data": {
      "text/html": [
       "<div>\n",
       "<style scoped>\n",
       "    .dataframe tbody tr th:only-of-type {\n",
       "        vertical-align: middle;\n",
       "    }\n",
       "\n",
       "    .dataframe tbody tr th {\n",
       "        vertical-align: top;\n",
       "    }\n",
       "\n",
       "    .dataframe thead th {\n",
       "        text-align: right;\n",
       "    }\n",
       "</style>\n",
       "<table border=\"1\" class=\"dataframe\">\n",
       "  <thead>\n",
       "    <tr style=\"text-align: right;\">\n",
       "      <th></th>\n",
       "      <th>ATP</th>\n",
       "      <th>Best of</th>\n",
       "      <th>WRank</th>\n",
       "      <th>LRank</th>\n",
       "      <th>PSW</th>\n",
       "      <th>PSL</th>\n",
       "      <th>B365W</th>\n",
       "      <th>B365L</th>\n",
       "      <th>Series</th>\n",
       "      <th>y_multicat</th>\n",
       "      <th>...</th>\n",
       "      <th>Round_1st Round</th>\n",
       "      <th>Round_2nd Round</th>\n",
       "      <th>Round_3rd Round</th>\n",
       "      <th>Round_4th Round</th>\n",
       "      <th>Round_Quarterfinals</th>\n",
       "      <th>Round_Round Robin</th>\n",
       "      <th>Round_Semifinals</th>\n",
       "      <th>Round_The Final</th>\n",
       "      <th>Comment_Completed</th>\n",
       "      <th>Comment_Retired</th>\n",
       "    </tr>\n",
       "  </thead>\n",
       "  <tbody>\n",
       "    <tr>\n",
       "      <th>62</th>\n",
       "      <td>0.074627</td>\n",
       "      <td>1.0</td>\n",
       "      <td>0.014815</td>\n",
       "      <td>0.022584</td>\n",
       "      <td>0.006143</td>\n",
       "      <td>0.032836</td>\n",
       "      <td>0.007591</td>\n",
       "      <td>0.034903</td>\n",
       "      <td>1.000000</td>\n",
       "      <td>1</td>\n",
       "      <td>...</td>\n",
       "      <td>1</td>\n",
       "      <td>0</td>\n",
       "      <td>0</td>\n",
       "      <td>0</td>\n",
       "      <td>0</td>\n",
       "      <td>0</td>\n",
       "      <td>0</td>\n",
       "      <td>0</td>\n",
       "      <td>0</td>\n",
       "      <td>1</td>\n",
       "    </tr>\n",
       "    <tr>\n",
       "      <th>63</th>\n",
       "      <td>0.074627</td>\n",
       "      <td>1.0</td>\n",
       "      <td>0.005820</td>\n",
       "      <td>0.039674</td>\n",
       "      <td>0.000914</td>\n",
       "      <td>0.174931</td>\n",
       "      <td>0.001364</td>\n",
       "      <td>0.089909</td>\n",
       "      <td>1.000000</td>\n",
       "      <td>1</td>\n",
       "      <td>...</td>\n",
       "      <td>1</td>\n",
       "      <td>0</td>\n",
       "      <td>0</td>\n",
       "      <td>0</td>\n",
       "      <td>0</td>\n",
       "      <td>0</td>\n",
       "      <td>0</td>\n",
       "      <td>0</td>\n",
       "      <td>0</td>\n",
       "      <td>1</td>\n",
       "    </tr>\n",
       "    <tr>\n",
       "      <th>984</th>\n",
       "      <td>0.985075</td>\n",
       "      <td>0.0</td>\n",
       "      <td>0.001058</td>\n",
       "      <td>0.001424</td>\n",
       "      <td>0.009743</td>\n",
       "      <td>0.021002</td>\n",
       "      <td>0.015136</td>\n",
       "      <td>0.022402</td>\n",
       "      <td>0.714286</td>\n",
       "      <td>1</td>\n",
       "      <td>...</td>\n",
       "      <td>0</td>\n",
       "      <td>0</td>\n",
       "      <td>0</td>\n",
       "      <td>0</td>\n",
       "      <td>0</td>\n",
       "      <td>1</td>\n",
       "      <td>0</td>\n",
       "      <td>0</td>\n",
       "      <td>1</td>\n",
       "      <td>0</td>\n",
       "    </tr>\n",
       "    <tr>\n",
       "      <th>985</th>\n",
       "      <td>0.985075</td>\n",
       "      <td>0.0</td>\n",
       "      <td>0.003704</td>\n",
       "      <td>0.001221</td>\n",
       "      <td>0.008943</td>\n",
       "      <td>0.022752</td>\n",
       "      <td>0.013636</td>\n",
       "      <td>0.023902</td>\n",
       "      <td>0.714286</td>\n",
       "      <td>1</td>\n",
       "      <td>...</td>\n",
       "      <td>0</td>\n",
       "      <td>0</td>\n",
       "      <td>0</td>\n",
       "      <td>0</td>\n",
       "      <td>0</td>\n",
       "      <td>1</td>\n",
       "      <td>0</td>\n",
       "      <td>0</td>\n",
       "      <td>1</td>\n",
       "      <td>0</td>\n",
       "    </tr>\n",
       "    <tr>\n",
       "      <th>1056</th>\n",
       "      <td>0.074627</td>\n",
       "      <td>1.0</td>\n",
       "      <td>0.001058</td>\n",
       "      <td>0.005290</td>\n",
       "      <td>0.004114</td>\n",
       "      <td>0.046004</td>\n",
       "      <td>0.004545</td>\n",
       "      <td>0.054905</td>\n",
       "      <td>1.000000</td>\n",
       "      <td>1</td>\n",
       "      <td>...</td>\n",
       "      <td>0</td>\n",
       "      <td>0</td>\n",
       "      <td>0</td>\n",
       "      <td>0</td>\n",
       "      <td>1</td>\n",
       "      <td>0</td>\n",
       "      <td>0</td>\n",
       "      <td>0</td>\n",
       "      <td>0</td>\n",
       "      <td>1</td>\n",
       "    </tr>\n",
       "  </tbody>\n",
       "</table>\n",
       "<p>5 rows × 26 columns</p>\n",
       "</div>"
      ],
      "text/plain": [
       "           ATP  Best of     WRank     LRank       PSW       PSL     B365W  \\\n",
       "62    0.074627      1.0  0.014815  0.022584  0.006143  0.032836  0.007591   \n",
       "63    0.074627      1.0  0.005820  0.039674  0.000914  0.174931  0.001364   \n",
       "984   0.985075      0.0  0.001058  0.001424  0.009743  0.021002  0.015136   \n",
       "985   0.985075      0.0  0.003704  0.001221  0.008943  0.022752  0.013636   \n",
       "1056  0.074627      1.0  0.001058  0.005290  0.004114  0.046004  0.004545   \n",
       "\n",
       "         B365L    Series  y_multicat  ...  Round_1st Round  Round_2nd Round  \\\n",
       "62    0.034903  1.000000           1  ...                1                0   \n",
       "63    0.089909  1.000000           1  ...                1                0   \n",
       "984   0.022402  0.714286           1  ...                0                0   \n",
       "985   0.023902  0.714286           1  ...                0                0   \n",
       "1056  0.054905  1.000000           1  ...                0                0   \n",
       "\n",
       "      Round_3rd Round  Round_4th Round  Round_Quarterfinals  \\\n",
       "62                  0                0                    0   \n",
       "63                  0                0                    0   \n",
       "984                 0                0                    0   \n",
       "985                 0                0                    0   \n",
       "1056                0                0                    1   \n",
       "\n",
       "      Round_Round Robin  Round_Semifinals  Round_The Final  Comment_Completed  \\\n",
       "62                    0                 0                0                  0   \n",
       "63                    0                 0                0                  0   \n",
       "984                   1                 0                0                  1   \n",
       "985                   1                 0                0                  1   \n",
       "1056                  0                 0                0                  0   \n",
       "\n",
       "      Comment_Retired  \n",
       "62                  1  \n",
       "63                  1  \n",
       "984                 0  \n",
       "985                 0  \n",
       "1056                1  \n",
       "\n",
       "[5 rows x 26 columns]"
      ]
     },
     "execution_count": 6,
     "metadata": {},
     "output_type": "execute_result"
    }
   ],
   "source": [
    "df_final.head()"
   ]
  },
  {
   "cell_type": "code",
   "execution_count": 7,
   "metadata": {},
   "outputs": [
    {
     "name": "stdout",
     "output_type": "stream",
     "text": [
      "=== Splitting data into train and test sets ===\n",
      "Data split completed.\n"
     ]
    }
   ],
   "source": [
    "X_train, X_test, y_train, y_test = split_data(df_final,target_column='y_multicat', test_size=0.2, random_state=42)"
   ]
  },
  {
   "cell_type": "code",
   "execution_count": 8,
   "metadata": {},
   "outputs": [
    {
     "data": {
      "text/plain": [
       "(21964, 25)"
      ]
     },
     "execution_count": 8,
     "metadata": {},
     "output_type": "execute_result"
    }
   ],
   "source": [
    "X_train.shape"
   ]
  },
  {
   "cell_type": "markdown",
   "metadata": {},
   "source": [
    "# Decision Tree"
   ]
  },
  {
   "cell_type": "code",
   "execution_count": 9,
   "metadata": {},
   "outputs": [
    {
     "name": "stdout",
     "output_type": "stream",
     "text": [
      "Best Score: 0.2765435645394904\n",
      "Best Hyperparameters: {'max_features': 'sqrt', 'max_depth': 35}\n"
     ]
    }
   ],
   "source": [
    "from sklearn.tree import DecisionTreeClassifier\n",
    "\n",
    "# Define model\n",
    "model = DecisionTreeClassifier()\n",
    "\n",
    "\n",
    "# define search space\n",
    "param_grid = {\n",
    "    'max_depth': list(range(25, 100, 10)),\n",
    "    'max_features': ['auto', 'sqrt', 'log2']\n",
    "}\n",
    "\n",
    "search = RandomizedSearchCV(model, param_grid, n_iter=10, cv=10, scoring='accuracy', n_jobs=-1, random_state=1)\n",
    "\n",
    "# execute search\n",
    "result = search.fit(X_train, y_train)\n",
    "\n",
    "best_params_deci_tree_bin = result.best_params_\n",
    "# summarize result\n",
    "print('Best Score: %s' % result.best_score_)\n",
    "print('Best Hyperparameters: %s' % result.best_params_)"
   ]
  },
  {
   "cell_type": "code",
   "execution_count": 10,
   "metadata": {},
   "outputs": [],
   "source": [
    "model = DecisionTreeClassifier(**best_params_deci_tree_bin)\n",
    "\n",
    "start_time = time.time()\n",
    "\n",
    "model.fit(X_train, y_train)\n",
    "\n",
    "end_time = time.time()\n",
    "DecisionTree_time = end_time - start_time"
   ]
  },
  {
   "cell_type": "code",
   "execution_count": 11,
   "metadata": {},
   "outputs": [
    {
     "name": "stdout",
     "output_type": "stream",
     "text": [
      "              precision    recall  f1-score   support\n",
      "\n",
      "           0       0.19      0.21      0.20       961\n",
      "           1       0.33      0.32      0.33      1840\n",
      "           2       0.19      0.20      0.19       936\n",
      "           3       0.34      0.33      0.33      1755\n",
      "\n",
      "    accuracy                           0.28      5492\n",
      "   macro avg       0.26      0.26      0.26      5492\n",
      "weighted avg       0.29      0.28      0.28      5492\n",
      "\n"
     ]
    }
   ],
   "source": [
    "y_pred_test = model.predict(X_test)\n",
    "print(classification_report(y_test, y_pred_test))"
   ]
  },
  {
   "cell_type": "code",
   "execution_count": 12,
   "metadata": {},
   "outputs": [
    {
     "data": {
      "text/plain": [
       "0.28168244719592134"
      ]
     },
     "execution_count": 12,
     "metadata": {},
     "output_type": "execute_result"
    }
   ],
   "source": [
    "# On va garder le score d'accuracy pour pouvoir le comparer avec d'autres modèle\n",
    "from sklearn.metrics import accuracy_score\n",
    "\n",
    "DescisionTree_score_multi = accuracy_score(y_test, y_pred_test)\n",
    "DescisionTree_score_multi"
   ]
  },
  {
   "cell_type": "markdown",
   "metadata": {},
   "source": [
    "# Xgboost"
   ]
  },
  {
   "cell_type": "code",
   "execution_count": 13,
   "metadata": {},
   "outputs": [
    {
     "name": "stdout",
     "output_type": "stream",
     "text": [
      "Best Score: 0.3131030302804138\n",
      "Best Hyperparameters: {'subsample': 0.7, 'n_estimators': 500, 'max_depth': 5, 'learning_rate': 0.001, 'colsample_bytree': 0.8}\n"
     ]
    }
   ],
   "source": [
    "import xgboost as xgb\n",
    "from sklearn.model_selection import RandomizedSearchCV\n",
    "import numpy as np\n",
    "\n",
    "# Define the XGBoost model\n",
    "model = xgb.XGBClassifier()\n",
    "\n",
    "# Define the search space (parameter grid)\n",
    "param_grid = {\n",
    "    'n_estimators': np.arange(100, 1000, 100),  # Number of boosting rounds\n",
    "    'max_depth': np.arange(3, 10),  # Maximum tree depth\n",
    "    'learning_rate': [0.001,0.005,0.01, 0.1],  # Step size shrinkage used in update to prevent overfitting\n",
    "    'subsample': [0.7, 0.8, 0.9, 1.0],  # Fraction of samples used for fitting the trees\n",
    "    'colsample_bytree': [0.7, 0.8, 0.9, 1.0],  # Fraction of features used for fitting the trees\n",
    "}\n",
    "\n",
    "# Create a RandomizedSearchCV object\n",
    "search = RandomizedSearchCV(model, param_distributions=param_grid, n_iter=10, cv=5, scoring='accuracy', n_jobs=-1, random_state=1)\n",
    "\n",
    "# Execute the search\n",
    "result = search.fit(X_train, y_train)\n",
    "\n",
    "best_param_Xgboost_multi=result.best_params_\n",
    "\n",
    "# Summarize the results\n",
    "print('Best Score: %s' % result.best_score_)\n",
    "print('Best Hyperparameters: %s' % result.best_params_)"
   ]
  },
  {
   "cell_type": "code",
   "execution_count": 14,
   "metadata": {},
   "outputs": [],
   "source": [
    "model = xgb.XGBClassifier(**best_param_Xgboost_multi)\n",
    "\n",
    "start_time = time.time()\n",
    "\n",
    "model.fit(X_train, y_train)\n",
    "\n",
    "end_time = time.time()\n",
    "Xgboost_time = end_time - start_time"
   ]
  },
  {
   "cell_type": "code",
   "execution_count": 15,
   "metadata": {},
   "outputs": [
    {
     "name": "stdout",
     "output_type": "stream",
     "text": [
      "              precision    recall  f1-score   support\n",
      "\n",
      "           0       0.36      0.01      0.01       961\n",
      "           1       0.33      0.50      0.40      1840\n",
      "           2       0.21      0.01      0.02       936\n",
      "           3       0.31      0.47      0.38      1755\n",
      "\n",
      "    accuracy                           0.32      5492\n",
      "   macro avg       0.30      0.25      0.20      5492\n",
      "weighted avg       0.31      0.32      0.26      5492\n",
      "\n"
     ]
    }
   ],
   "source": [
    "y_pred_test = model.predict(X_test)\n",
    "print(classification_report(y_test, y_pred_test))"
   ]
  },
  {
   "cell_type": "code",
   "execution_count": 16,
   "metadata": {},
   "outputs": [
    {
     "data": {
      "text/plain": [
       "0.3221048798252003"
      ]
     },
     "execution_count": 16,
     "metadata": {},
     "output_type": "execute_result"
    }
   ],
   "source": [
    "Xgboost_score_multi = accuracy_score(y_test, y_pred_test)\n",
    "Xgboost_score_multi"
   ]
  },
  {
   "cell_type": "markdown",
   "metadata": {},
   "source": [
    "# CatBoost"
   ]
  },
  {
   "cell_type": "code",
   "execution_count": 17,
   "metadata": {},
   "outputs": [
    {
     "name": "stdout",
     "output_type": "stream",
     "text": [
      "0:\tlearn: 1.3853222\ttotal: 228ms\tremaining: 22.5s\n",
      "1:\tlearn: 1.3843275\ttotal: 311ms\tremaining: 15.3s\n",
      "2:\tlearn: 1.3834581\ttotal: 320ms\tremaining: 10.4s\n",
      "3:\tlearn: 1.3825401\ttotal: 418ms\tremaining: 10s\n",
      "4:\tlearn: 1.3815922\ttotal: 496ms\tremaining: 9.42s\n",
      "5:\tlearn: 1.3806543\ttotal: 572ms\tremaining: 8.96s\n",
      "6:\tlearn: 1.3798006\ttotal: 645ms\tremaining: 8.57s\n",
      "7:\tlearn: 1.3789350\ttotal: 718ms\tremaining: 8.25s\n",
      "8:\tlearn: 1.3780727\ttotal: 790ms\tremaining: 7.99s\n",
      "9:\tlearn: 1.3772660\ttotal: 859ms\tremaining: 7.73s\n",
      "10:\tlearn: 1.3764371\ttotal: 931ms\tremaining: 7.53s\n",
      "11:\tlearn: 1.3755592\ttotal: 1.01s\tremaining: 7.38s\n",
      "12:\tlearn: 1.3747544\ttotal: 1.08s\tremaining: 7.24s\n",
      "13:\tlearn: 1.3740913\ttotal: 1.09s\tremaining: 6.68s\n",
      "14:\tlearn: 1.3733040\ttotal: 1.16s\tremaining: 6.58s\n",
      "15:\tlearn: 1.3725122\ttotal: 1.23s\tremaining: 6.47s\n",
      "16:\tlearn: 1.3717942\ttotal: 1.31s\tremaining: 6.38s\n",
      "17:\tlearn: 1.3710841\ttotal: 1.38s\tremaining: 6.3s\n",
      "18:\tlearn: 1.3703663\ttotal: 1.46s\tremaining: 6.21s\n",
      "19:\tlearn: 1.3696445\ttotal: 1.52s\tremaining: 6.1s\n",
      "20:\tlearn: 1.3689587\ttotal: 1.6s\tremaining: 6.01s\n",
      "21:\tlearn: 1.3682753\ttotal: 1.67s\tremaining: 5.93s\n",
      "22:\tlearn: 1.3675809\ttotal: 1.74s\tremaining: 5.84s\n",
      "23:\tlearn: 1.3669407\ttotal: 1.81s\tremaining: 5.74s\n",
      "24:\tlearn: 1.3662023\ttotal: 1.89s\tremaining: 5.66s\n",
      "25:\tlearn: 1.3654920\ttotal: 1.96s\tremaining: 5.58s\n",
      "26:\tlearn: 1.3648770\ttotal: 2.03s\tremaining: 5.49s\n",
      "27:\tlearn: 1.3642366\ttotal: 2.1s\tremaining: 5.41s\n",
      "28:\tlearn: 1.3635988\ttotal: 2.17s\tremaining: 5.32s\n",
      "29:\tlearn: 1.3629940\ttotal: 2.25s\tremaining: 5.25s\n",
      "30:\tlearn: 1.3623684\ttotal: 2.32s\tremaining: 5.17s\n",
      "31:\tlearn: 1.3617321\ttotal: 2.39s\tremaining: 5.09s\n",
      "32:\tlearn: 1.3610697\ttotal: 2.47s\tremaining: 5.02s\n",
      "33:\tlearn: 1.3605212\ttotal: 2.54s\tremaining: 4.94s\n",
      "34:\tlearn: 1.3599118\ttotal: 2.62s\tremaining: 4.86s\n",
      "35:\tlearn: 1.3593141\ttotal: 2.69s\tremaining: 4.78s\n",
      "36:\tlearn: 1.3588041\ttotal: 2.8s\tremaining: 4.77s\n",
      "37:\tlearn: 1.3582084\ttotal: 2.89s\tremaining: 4.72s\n",
      "38:\tlearn: 1.3576819\ttotal: 3s\tremaining: 4.68s\n",
      "39:\tlearn: 1.3571405\ttotal: 3.11s\tremaining: 4.66s\n",
      "40:\tlearn: 1.3564932\ttotal: 3.2s\tremaining: 4.6s\n",
      "41:\tlearn: 1.3559466\ttotal: 3.28s\tremaining: 4.53s\n",
      "42:\tlearn: 1.3554775\ttotal: 3.36s\tremaining: 4.45s\n",
      "43:\tlearn: 1.3550698\ttotal: 3.38s\tremaining: 4.3s\n",
      "44:\tlearn: 1.3545699\ttotal: 3.45s\tremaining: 4.22s\n",
      "45:\tlearn: 1.3540587\ttotal: 3.54s\tremaining: 4.15s\n",
      "46:\tlearn: 1.3535678\ttotal: 3.63s\tremaining: 4.09s\n",
      "47:\tlearn: 1.3530076\ttotal: 3.74s\tremaining: 4.05s\n",
      "48:\tlearn: 1.3525153\ttotal: 3.83s\tremaining: 3.98s\n",
      "49:\tlearn: 1.3521433\ttotal: 3.84s\tremaining: 3.84s\n",
      "50:\tlearn: 1.3517056\ttotal: 3.92s\tremaining: 3.76s\n",
      "51:\tlearn: 1.3511954\ttotal: 4s\tremaining: 3.7s\n",
      "52:\tlearn: 1.3507600\ttotal: 4.13s\tremaining: 3.66s\n",
      "53:\tlearn: 1.3502886\ttotal: 4.25s\tremaining: 3.62s\n",
      "54:\tlearn: 1.3498612\ttotal: 4.37s\tremaining: 3.58s\n",
      "55:\tlearn: 1.3494087\ttotal: 4.46s\tremaining: 3.5s\n",
      "56:\tlearn: 1.3489691\ttotal: 4.53s\tremaining: 3.42s\n",
      "57:\tlearn: 1.3485827\ttotal: 4.65s\tremaining: 3.37s\n",
      "58:\tlearn: 1.3481324\ttotal: 4.77s\tremaining: 3.32s\n",
      "59:\tlearn: 1.3477629\ttotal: 4.93s\tremaining: 3.29s\n",
      "60:\tlearn: 1.3473626\ttotal: 5.07s\tremaining: 3.24s\n",
      "61:\tlearn: 1.3468903\ttotal: 5.2s\tremaining: 3.19s\n",
      "62:\tlearn: 1.3465453\ttotal: 5.33s\tremaining: 3.13s\n",
      "63:\tlearn: 1.3461385\ttotal: 5.4s\tremaining: 3.04s\n",
      "64:\tlearn: 1.3457130\ttotal: 5.47s\tremaining: 2.94s\n",
      "65:\tlearn: 1.3453849\ttotal: 5.54s\tremaining: 2.85s\n",
      "66:\tlearn: 1.3449942\ttotal: 5.6s\tremaining: 2.76s\n",
      "67:\tlearn: 1.3446070\ttotal: 5.67s\tremaining: 2.67s\n",
      "68:\tlearn: 1.3442758\ttotal: 5.74s\tremaining: 2.58s\n",
      "69:\tlearn: 1.3438875\ttotal: 5.81s\tremaining: 2.49s\n",
      "70:\tlearn: 1.3435585\ttotal: 5.88s\tremaining: 2.4s\n",
      "71:\tlearn: 1.3431327\ttotal: 5.95s\tremaining: 2.31s\n",
      "72:\tlearn: 1.3427320\ttotal: 6.02s\tremaining: 2.23s\n",
      "73:\tlearn: 1.3424301\ttotal: 6.09s\tremaining: 2.14s\n",
      "74:\tlearn: 1.3420923\ttotal: 6.16s\tremaining: 2.05s\n",
      "75:\tlearn: 1.3417234\ttotal: 6.23s\tremaining: 1.97s\n",
      "76:\tlearn: 1.3413526\ttotal: 6.3s\tremaining: 1.88s\n",
      "77:\tlearn: 1.3410537\ttotal: 6.36s\tremaining: 1.79s\n",
      "78:\tlearn: 1.3407640\ttotal: 6.43s\tremaining: 1.71s\n",
      "79:\tlearn: 1.3404258\ttotal: 6.5s\tremaining: 1.63s\n",
      "80:\tlearn: 1.3400713\ttotal: 6.57s\tremaining: 1.54s\n",
      "81:\tlearn: 1.3397607\ttotal: 6.64s\tremaining: 1.46s\n",
      "82:\tlearn: 1.3394772\ttotal: 6.71s\tremaining: 1.37s\n",
      "83:\tlearn: 1.3392034\ttotal: 6.78s\tremaining: 1.29s\n",
      "84:\tlearn: 1.3388744\ttotal: 6.85s\tremaining: 1.21s\n",
      "85:\tlearn: 1.3385492\ttotal: 6.92s\tremaining: 1.13s\n",
      "86:\tlearn: 1.3382003\ttotal: 6.98s\tremaining: 1.04s\n",
      "87:\tlearn: 1.3379503\ttotal: 7.05s\tremaining: 962ms\n",
      "88:\tlearn: 1.3377029\ttotal: 7.12s\tremaining: 880ms\n",
      "89:\tlearn: 1.3374449\ttotal: 7.19s\tremaining: 799ms\n",
      "90:\tlearn: 1.3370970\ttotal: 7.26s\tremaining: 718ms\n",
      "91:\tlearn: 1.3368539\ttotal: 7.33s\tremaining: 637ms\n",
      "92:\tlearn: 1.3364995\ttotal: 7.4s\tremaining: 557ms\n",
      "93:\tlearn: 1.3362611\ttotal: 7.46s\tremaining: 477ms\n",
      "94:\tlearn: 1.3360357\ttotal: 7.53s\tremaining: 396ms\n",
      "95:\tlearn: 1.3357705\ttotal: 7.6s\tremaining: 317ms\n",
      "96:\tlearn: 1.3353894\ttotal: 7.67s\tremaining: 237ms\n",
      "97:\tlearn: 1.3351230\ttotal: 7.74s\tremaining: 158ms\n",
      "98:\tlearn: 1.3348611\ttotal: 7.81s\tremaining: 78.9ms\n",
      "99:\tlearn: 1.3345607\ttotal: 7.88s\tremaining: 0us\n",
      "Best Score: 0.3184758248861722\n",
      "Best Hyperparameters: {'learning_rate': 0.01, 'iterations': 100, 'depth': 10, 'colsample_bylevel': 0.9}\n"
     ]
    }
   ],
   "source": [
    "from catboost import CatBoostClassifier\n",
    "from sklearn.model_selection import RandomizedSearchCV\n",
    "\n",
    "# Define the CatBoost model\n",
    "model = CatBoostClassifier()\n",
    "\n",
    "# Define the search space (parameter grid)\n",
    "param_grid = {\n",
    "    'iterations': [100, 200, 300],  # Number of boosting rounds\n",
    "    'depth': [8,10,12],  # Maximum tree depth\n",
    "    'learning_rate': [0.01, 0.1, 0.2, 0.3],  # Step size shrinkage used in update\n",
    "    'colsample_bylevel': [0.7, 0.8, 0.9, 1.0],  # Fraction of features used for fitting the trees at each level\n",
    "}\n",
    "\n",
    "# Create a RandomizedSearchCV object\n",
    "search = RandomizedSearchCV(model, param_distributions=param_grid, n_iter=10, cv=5, scoring='accuracy', n_jobs=-1, random_state=1)\n",
    "\n",
    "# Execute the search\n",
    "result = search.fit(X_train, y_train)\n",
    "\n",
    "best_param_Xgboost_multi = result.best_params_\n",
    "\n",
    "# Summarize the results\n",
    "print('Best Score: %s' % result.best_score_)\n",
    "print('Best Hyperparameters: %s' % result.best_params_)"
   ]
  },
  {
   "cell_type": "code",
   "execution_count": 18,
   "metadata": {},
   "outputs": [
    {
     "name": "stdout",
     "output_type": "stream",
     "text": [
      "0:\tlearn: 1.3853222\ttotal: 74ms\tremaining: 7.32s\n",
      "1:\tlearn: 1.3843275\ttotal: 144ms\tremaining: 7.05s\n",
      "2:\tlearn: 1.3834581\ttotal: 151ms\tremaining: 4.87s\n",
      "3:\tlearn: 1.3825401\ttotal: 225ms\tremaining: 5.4s\n",
      "4:\tlearn: 1.3815922\ttotal: 300ms\tremaining: 5.7s\n",
      "5:\tlearn: 1.3806543\ttotal: 384ms\tremaining: 6.02s\n",
      "6:\tlearn: 1.3798006\ttotal: 466ms\tremaining: 6.19s\n",
      "7:\tlearn: 1.3789350\ttotal: 543ms\tremaining: 6.24s\n",
      "8:\tlearn: 1.3780727\ttotal: 612ms\tremaining: 6.19s\n",
      "9:\tlearn: 1.3772660\ttotal: 682ms\tremaining: 6.13s\n",
      "10:\tlearn: 1.3764371\ttotal: 752ms\tremaining: 6.08s\n",
      "11:\tlearn: 1.3755592\ttotal: 824ms\tremaining: 6.04s\n",
      "12:\tlearn: 1.3747544\ttotal: 894ms\tremaining: 5.98s\n",
      "13:\tlearn: 1.3740913\ttotal: 898ms\tremaining: 5.52s\n",
      "14:\tlearn: 1.3733040\ttotal: 966ms\tremaining: 5.48s\n",
      "15:\tlearn: 1.3725122\ttotal: 1.04s\tremaining: 5.44s\n",
      "16:\tlearn: 1.3717942\ttotal: 1.1s\tremaining: 5.4s\n",
      "17:\tlearn: 1.3710841\ttotal: 1.18s\tremaining: 5.35s\n",
      "18:\tlearn: 1.3703663\ttotal: 1.25s\tremaining: 5.31s\n",
      "19:\tlearn: 1.3696445\ttotal: 1.31s\tremaining: 5.24s\n",
      "20:\tlearn: 1.3689587\ttotal: 1.38s\tremaining: 5.19s\n",
      "21:\tlearn: 1.3682753\ttotal: 1.45s\tremaining: 5.14s\n",
      "22:\tlearn: 1.3675809\ttotal: 1.52s\tremaining: 5.08s\n",
      "23:\tlearn: 1.3669407\ttotal: 1.58s\tremaining: 5.02s\n",
      "24:\tlearn: 1.3662023\ttotal: 1.66s\tremaining: 4.97s\n",
      "25:\tlearn: 1.3654920\ttotal: 1.73s\tremaining: 4.91s\n",
      "26:\tlearn: 1.3648770\ttotal: 1.79s\tremaining: 4.85s\n",
      "27:\tlearn: 1.3642366\ttotal: 1.87s\tremaining: 4.8s\n",
      "28:\tlearn: 1.3635988\ttotal: 1.94s\tremaining: 4.75s\n",
      "29:\tlearn: 1.3629940\ttotal: 2.01s\tremaining: 4.7s\n",
      "30:\tlearn: 1.3623684\ttotal: 2.09s\tremaining: 4.64s\n",
      "31:\tlearn: 1.3617321\ttotal: 2.16s\tremaining: 4.59s\n",
      "32:\tlearn: 1.3610697\ttotal: 2.24s\tremaining: 4.54s\n",
      "33:\tlearn: 1.3605212\ttotal: 2.31s\tremaining: 4.49s\n",
      "34:\tlearn: 1.3599118\ttotal: 2.38s\tremaining: 4.42s\n",
      "35:\tlearn: 1.3593141\ttotal: 2.45s\tremaining: 4.35s\n",
      "36:\tlearn: 1.3588041\ttotal: 2.52s\tremaining: 4.3s\n",
      "37:\tlearn: 1.3582084\ttotal: 2.59s\tremaining: 4.23s\n",
      "38:\tlearn: 1.3576819\ttotal: 2.66s\tremaining: 4.16s\n",
      "39:\tlearn: 1.3571405\ttotal: 2.73s\tremaining: 4.1s\n",
      "40:\tlearn: 1.3564932\ttotal: 2.8s\tremaining: 4.03s\n",
      "41:\tlearn: 1.3559466\ttotal: 2.87s\tremaining: 3.96s\n",
      "42:\tlearn: 1.3554775\ttotal: 2.94s\tremaining: 3.9s\n",
      "43:\tlearn: 1.3550698\ttotal: 2.95s\tremaining: 3.76s\n",
      "44:\tlearn: 1.3545699\ttotal: 3.03s\tremaining: 3.7s\n",
      "45:\tlearn: 1.3540587\ttotal: 3.09s\tremaining: 3.63s\n",
      "46:\tlearn: 1.3535678\ttotal: 3.16s\tremaining: 3.56s\n",
      "47:\tlearn: 1.3530076\ttotal: 3.23s\tremaining: 3.5s\n",
      "48:\tlearn: 1.3525153\ttotal: 3.31s\tremaining: 3.44s\n",
      "49:\tlearn: 1.3521433\ttotal: 3.31s\tremaining: 3.31s\n",
      "50:\tlearn: 1.3517056\ttotal: 3.38s\tremaining: 3.25s\n",
      "51:\tlearn: 1.3511954\ttotal: 3.45s\tremaining: 3.19s\n",
      "52:\tlearn: 1.3507600\ttotal: 3.52s\tremaining: 3.12s\n",
      "53:\tlearn: 1.3502886\ttotal: 3.59s\tremaining: 3.06s\n",
      "54:\tlearn: 1.3498612\ttotal: 3.66s\tremaining: 3s\n",
      "55:\tlearn: 1.3494087\ttotal: 3.73s\tremaining: 2.93s\n",
      "56:\tlearn: 1.3489691\ttotal: 3.81s\tremaining: 2.87s\n",
      "57:\tlearn: 1.3485827\ttotal: 3.88s\tremaining: 2.81s\n",
      "58:\tlearn: 1.3481324\ttotal: 3.95s\tremaining: 2.74s\n",
      "59:\tlearn: 1.3477629\ttotal: 4.01s\tremaining: 2.68s\n",
      "60:\tlearn: 1.3473626\ttotal: 4.09s\tremaining: 2.62s\n",
      "61:\tlearn: 1.3468903\ttotal: 4.16s\tremaining: 2.55s\n",
      "62:\tlearn: 1.3465453\ttotal: 4.24s\tremaining: 2.49s\n",
      "63:\tlearn: 1.3461385\ttotal: 4.31s\tremaining: 2.42s\n",
      "64:\tlearn: 1.3457130\ttotal: 4.38s\tremaining: 2.36s\n",
      "65:\tlearn: 1.3453849\ttotal: 4.46s\tremaining: 2.3s\n",
      "66:\tlearn: 1.3449942\ttotal: 4.53s\tremaining: 2.23s\n",
      "67:\tlearn: 1.3446070\ttotal: 4.6s\tremaining: 2.17s\n",
      "68:\tlearn: 1.3442758\ttotal: 4.68s\tremaining: 2.1s\n",
      "69:\tlearn: 1.3438875\ttotal: 4.75s\tremaining: 2.04s\n",
      "70:\tlearn: 1.3435585\ttotal: 4.83s\tremaining: 1.97s\n",
      "71:\tlearn: 1.3431327\ttotal: 4.91s\tremaining: 1.91s\n",
      "72:\tlearn: 1.3427320\ttotal: 4.98s\tremaining: 1.84s\n",
      "73:\tlearn: 1.3424301\ttotal: 5.05s\tremaining: 1.78s\n",
      "74:\tlearn: 1.3420923\ttotal: 5.13s\tremaining: 1.71s\n",
      "75:\tlearn: 1.3417234\ttotal: 5.2s\tremaining: 1.64s\n",
      "76:\tlearn: 1.3413526\ttotal: 5.28s\tremaining: 1.58s\n",
      "77:\tlearn: 1.3410537\ttotal: 5.35s\tremaining: 1.51s\n",
      "78:\tlearn: 1.3407640\ttotal: 5.43s\tremaining: 1.44s\n",
      "79:\tlearn: 1.3404258\ttotal: 5.5s\tremaining: 1.38s\n",
      "80:\tlearn: 1.3400713\ttotal: 5.58s\tremaining: 1.31s\n",
      "81:\tlearn: 1.3397607\ttotal: 5.66s\tremaining: 1.24s\n",
      "82:\tlearn: 1.3394772\ttotal: 5.73s\tremaining: 1.17s\n",
      "83:\tlearn: 1.3392034\ttotal: 5.8s\tremaining: 1.1s\n",
      "84:\tlearn: 1.3388744\ttotal: 5.88s\tremaining: 1.04s\n",
      "85:\tlearn: 1.3385492\ttotal: 5.95s\tremaining: 968ms\n",
      "86:\tlearn: 1.3382003\ttotal: 6.02s\tremaining: 899ms\n",
      "87:\tlearn: 1.3379503\ttotal: 6.09s\tremaining: 830ms\n",
      "88:\tlearn: 1.3377029\ttotal: 6.15s\tremaining: 761ms\n",
      "89:\tlearn: 1.3374449\ttotal: 6.22s\tremaining: 691ms\n",
      "90:\tlearn: 1.3370970\ttotal: 6.29s\tremaining: 622ms\n",
      "91:\tlearn: 1.3368539\ttotal: 6.36s\tremaining: 553ms\n",
      "92:\tlearn: 1.3364995\ttotal: 6.43s\tremaining: 484ms\n",
      "93:\tlearn: 1.3362611\ttotal: 6.5s\tremaining: 415ms\n",
      "94:\tlearn: 1.3360357\ttotal: 6.57s\tremaining: 346ms\n",
      "95:\tlearn: 1.3357705\ttotal: 6.63s\tremaining: 276ms\n",
      "96:\tlearn: 1.3353894\ttotal: 6.7s\tremaining: 207ms\n",
      "97:\tlearn: 1.3351230\ttotal: 6.77s\tremaining: 138ms\n",
      "98:\tlearn: 1.3348611\ttotal: 6.84s\tremaining: 69.1ms\n",
      "99:\tlearn: 1.3345607\ttotal: 6.91s\tremaining: 0us\n"
     ]
    }
   ],
   "source": [
    "model = CatBoostClassifier(**best_param_Xgboost_multi)\n",
    "\n",
    "start_time = time.time()\n",
    "\n",
    "model.fit(X_train, y_train)\n",
    "\n",
    "end_time = time.time()\n",
    "CatBoost_time = end_time - start_time"
   ]
  },
  {
   "cell_type": "code",
   "execution_count": 19,
   "metadata": {},
   "outputs": [
    {
     "name": "stdout",
     "output_type": "stream",
     "text": [
      "              precision    recall  f1-score   support\n",
      "\n",
      "           0       0.00      0.00      0.00       961\n",
      "           1       0.34      0.48      0.40      1840\n",
      "           2       0.67      0.00      0.00       936\n",
      "           3       0.32      0.52      0.39      1755\n",
      "\n",
      "    accuracy                           0.33      5492\n",
      "   macro avg       0.33      0.25      0.20      5492\n",
      "weighted avg       0.33      0.33      0.26      5492\n",
      "\n"
     ]
    }
   ],
   "source": [
    "y_pred_test = model.predict(X_test)\n",
    "y_pred_test_prob = model.predict_proba(X_test)\n",
    "\n",
    "print(classification_report(y_test, y_pred_test))"
   ]
  },
  {
   "cell_type": "code",
   "execution_count": 20,
   "metadata": {},
   "outputs": [
    {
     "data": {
      "text/plain": [
       "0.32665695557174074"
      ]
     },
     "execution_count": 20,
     "metadata": {},
     "output_type": "execute_result"
    }
   ],
   "source": [
    "catboost_score_multi = accuracy_score(y_test, y_pred_test)\n",
    "catboost_score_multi"
   ]
  },
  {
   "cell_type": "markdown",
   "metadata": {},
   "source": [
    "# Logistique regression"
   ]
  },
  {
   "cell_type": "code",
   "execution_count": 21,
   "metadata": {},
   "outputs": [
    {
     "name": "stderr",
     "output_type": "stream",
     "text": [
      "c:\\Users\\mathi\\anaconda3\\envs\\Keras\\lib\\site-packages\\sklearn\\model_selection\\_validation.py:378: FitFailedWarning: \n",
      "10 fits failed out of a total of 50.\n",
      "The score on these train-test partitions for these parameters will be set to nan.\n",
      "If these failures are not expected, you can try to debug them by setting error_score='raise'.\n",
      "\n",
      "Below are more details about the failures:\n",
      "--------------------------------------------------------------------------------\n",
      "10 fits failed with the following error:\n",
      "Traceback (most recent call last):\n",
      "  File \"c:\\Users\\mathi\\anaconda3\\envs\\Keras\\lib\\site-packages\\sklearn\\model_selection\\_validation.py\", line 686, in _fit_and_score\n",
      "    estimator.fit(X_train, y_train, **fit_params)\n",
      "  File \"c:\\Users\\mathi\\anaconda3\\envs\\Keras\\lib\\site-packages\\sklearn\\linear_model\\_logistic.py\", line 1162, in fit\n",
      "    solver = _check_solver(self.solver, self.penalty, self.dual)\n",
      "  File \"c:\\Users\\mathi\\anaconda3\\envs\\Keras\\lib\\site-packages\\sklearn\\linear_model\\_logistic.py\", line 54, in _check_solver\n",
      "    raise ValueError(\n",
      "ValueError: Solver sag supports only 'l2' or 'none' penalties, got l1 penalty.\n",
      "\n",
      "  warnings.warn(some_fits_failed_message, FitFailedWarning)\n",
      "c:\\Users\\mathi\\anaconda3\\envs\\Keras\\lib\\site-packages\\sklearn\\model_selection\\_search.py:952: UserWarning: One or more of the test scores are non-finite: [0.32111687 0.32125348 0.32025189        nan 0.32116241]\n",
      "  warnings.warn(\n"
     ]
    },
    {
     "name": "stdout",
     "output_type": "stream",
     "text": [
      "Best Score: 0.3212534811089472\n",
      "Best Hyperparameters: {'solver': 'sag', 'penalty': 'l2', 'C': 1291.5496650148827}\n"
     ]
    },
    {
     "name": "stderr",
     "output_type": "stream",
     "text": [
      "c:\\Users\\mathi\\anaconda3\\envs\\Keras\\lib\\site-packages\\sklearn\\linear_model\\_sag.py:350: ConvergenceWarning: The max_iter was reached which means the coef_ did not converge\n",
      "  warnings.warn(\n"
     ]
    }
   ],
   "source": [
    "from sklearn.linear_model import LogisticRegression\n",
    "\n",
    "# Define model\n",
    "model = LogisticRegression()\n",
    "\n",
    "# define evaluation\n",
    "# gkf = GroupKFold(n_splits=3) if not spec as cv= in the randomized search default is 5 fold cv\n",
    "\n",
    "# define search space\n",
    "param_grid = {\n",
    "    'C' : np.logspace(0, 4, num=10),\n",
    "    'penalty' : ['l1', 'l2'],\n",
    "    'solver' : ['liblinear', 'sag']\n",
    "}\n",
    "\n",
    "search = RandomizedSearchCV(model, param_grid, n_iter=5, cv=10, scoring='accuracy', n_jobs=-1, random_state=1)\n",
    "\n",
    "# execute search\n",
    "result = search.fit(X_train, y_train)\n",
    "\n",
    "best_params_logist_reg_multi = result.best_params_\n",
    "# summarize result\n",
    "print('Best Score: %s' % result.best_score_)\n",
    "print('Best Hyperparameters: %s' % result.best_params_)"
   ]
  },
  {
   "cell_type": "code",
   "execution_count": 22,
   "metadata": {},
   "outputs": [
    {
     "name": "stderr",
     "output_type": "stream",
     "text": [
      "c:\\Users\\mathi\\anaconda3\\envs\\Keras\\lib\\site-packages\\sklearn\\linear_model\\_sag.py:350: ConvergenceWarning: The max_iter was reached which means the coef_ did not converge\n",
      "  warnings.warn(\n"
     ]
    }
   ],
   "source": [
    "model = LogisticRegression(**best_params_logist_reg_multi)\n",
    "\n",
    "start_time = time.time()\n",
    "\n",
    "model.fit(X_train,y_train)\n",
    "\n",
    "end_time = time.time()\n",
    "Logisti_reg_time = end_time - start_time"
   ]
  },
  {
   "cell_type": "code",
   "execution_count": 23,
   "metadata": {},
   "outputs": [
    {
     "name": "stdout",
     "output_type": "stream",
     "text": [
      "              precision    recall  f1-score   support\n",
      "\n",
      "           0       0.31      0.01      0.02       961\n",
      "           1       0.33      0.49      0.39      1840\n",
      "           2       0.25      0.01      0.03       936\n",
      "           3       0.30      0.47      0.37      1755\n",
      "\n",
      "    accuracy                           0.32      5492\n",
      "   macro avg       0.30      0.25      0.20      5492\n",
      "weighted avg       0.31      0.32      0.26      5492\n",
      "\n"
     ]
    }
   ],
   "source": [
    "y_pred_test = model.predict(X_test)\n",
    "y_pred_test_prob = model.predict_proba(X_test)\n",
    "\n",
    "print(classification_report(y_test, y_pred_test))"
   ]
  },
  {
   "cell_type": "code",
   "execution_count": 24,
   "metadata": {},
   "outputs": [
    {
     "data": {
      "text/plain": [
       "0.3179169701383831"
      ]
     },
     "execution_count": 24,
     "metadata": {},
     "output_type": "execute_result"
    }
   ],
   "source": [
    "logisti_reg_score_multi = accuracy_score(y_test, y_pred_test)\n",
    "logisti_reg_score_multi"
   ]
  },
  {
   "cell_type": "markdown",
   "metadata": {},
   "source": [
    "# RandomForestClassifier"
   ]
  },
  {
   "cell_type": "code",
   "execution_count": 25,
   "metadata": {},
   "outputs": [
    {
     "name": "stdout",
     "output_type": "stream",
     "text": [
      "Best Score: 0.29502726851402766\n",
      "Best Hyperparameters: {'n_estimators': 120, 'max_depth': 55}\n"
     ]
    }
   ],
   "source": [
    "model = RandomForestClassifier()\n",
    "\n",
    "# define search space\n",
    "param_grid = {\n",
    "    'max_depth': list(range(25, 100, 10)),\n",
    "    'n_estimators': list(range(80, 200, 10))\n",
    "}\n",
    "\n",
    "search = RandomizedSearchCV(model, param_grid, n_iter=5, cv=10, scoring='accuracy', n_jobs=-1, random_state=1)\n",
    "\n",
    "# execute search\n",
    "result = search.fit(X_train, y_train)\n",
    "\n",
    "best_params_random_multi = result.best_params_\n",
    "# summarize result\n",
    "print('Best Score: %s' % result.best_score_)\n",
    "print('Best Hyperparameters: %s' % result.best_params_)"
   ]
  },
  {
   "cell_type": "code",
   "execution_count": 26,
   "metadata": {},
   "outputs": [],
   "source": [
    "model = RandomForestClassifier(**best_params_random_multi)\n",
    "\n",
    "start_time = time.time()\n",
    "\n",
    "model.fit(X_train, y_train)\n",
    "\n",
    "end_time = time.time()\n",
    "Random_time = end_time - start_time"
   ]
  },
  {
   "cell_type": "code",
   "execution_count": 27,
   "metadata": {},
   "outputs": [
    {
     "name": "stdout",
     "output_type": "stream",
     "text": [
      "              precision    recall  f1-score   support\n",
      "\n",
      "           0       0.19      0.10      0.13       961\n",
      "           1       0.34      0.43      0.38      1840\n",
      "           2       0.19      0.10      0.13       936\n",
      "           3       0.33      0.40      0.36      1755\n",
      "\n",
      "    accuracy                           0.31      5492\n",
      "   macro avg       0.26      0.26      0.25      5492\n",
      "weighted avg       0.28      0.31      0.29      5492\n",
      "\n"
     ]
    }
   ],
   "source": [
    "y_pred_test = model.predict(X_test)\n",
    "y_pred_test_prob = model.predict_proba(X_test)\n",
    "print(classification_report(y_test, y_pred_test))"
   ]
  },
  {
   "cell_type": "code",
   "execution_count": 28,
   "metadata": {},
   "outputs": [
    {
     "data": {
      "text/plain": [
       "0.3057174071376548"
      ]
     },
     "execution_count": 28,
     "metadata": {},
     "output_type": "execute_result"
    }
   ],
   "source": [
    "random_score_multi = accuracy_score(y_test, y_pred_test)\n",
    "random_score_multi"
   ]
  },
  {
   "cell_type": "markdown",
   "metadata": {},
   "source": [
    "# MPLClassifier"
   ]
  },
  {
   "cell_type": "code",
   "execution_count": 29,
   "metadata": {},
   "outputs": [
    {
     "data": {
      "text/html": [
       "<style>#sk-container-id-1 {color: black;background-color: white;}#sk-container-id-1 pre{padding: 0;}#sk-container-id-1 div.sk-toggleable {background-color: white;}#sk-container-id-1 label.sk-toggleable__label {cursor: pointer;display: block;width: 100%;margin-bottom: 0;padding: 0.3em;box-sizing: border-box;text-align: center;}#sk-container-id-1 label.sk-toggleable__label-arrow:before {content: \"▸\";float: left;margin-right: 0.25em;color: #696969;}#sk-container-id-1 label.sk-toggleable__label-arrow:hover:before {color: black;}#sk-container-id-1 div.sk-estimator:hover label.sk-toggleable__label-arrow:before {color: black;}#sk-container-id-1 div.sk-toggleable__content {max-height: 0;max-width: 0;overflow: hidden;text-align: left;background-color: #f0f8ff;}#sk-container-id-1 div.sk-toggleable__content pre {margin: 0.2em;color: black;border-radius: 0.25em;background-color: #f0f8ff;}#sk-container-id-1 input.sk-toggleable__control:checked~div.sk-toggleable__content {max-height: 200px;max-width: 100%;overflow: auto;}#sk-container-id-1 input.sk-toggleable__control:checked~label.sk-toggleable__label-arrow:before {content: \"▾\";}#sk-container-id-1 div.sk-estimator input.sk-toggleable__control:checked~label.sk-toggleable__label {background-color: #d4ebff;}#sk-container-id-1 div.sk-label input.sk-toggleable__control:checked~label.sk-toggleable__label {background-color: #d4ebff;}#sk-container-id-1 input.sk-hidden--visually {border: 0;clip: rect(1px 1px 1px 1px);clip: rect(1px, 1px, 1px, 1px);height: 1px;margin: -1px;overflow: hidden;padding: 0;position: absolute;width: 1px;}#sk-container-id-1 div.sk-estimator {font-family: monospace;background-color: #f0f8ff;border: 1px dotted black;border-radius: 0.25em;box-sizing: border-box;margin-bottom: 0.5em;}#sk-container-id-1 div.sk-estimator:hover {background-color: #d4ebff;}#sk-container-id-1 div.sk-parallel-item::after {content: \"\";width: 100%;border-bottom: 1px solid gray;flex-grow: 1;}#sk-container-id-1 div.sk-label:hover label.sk-toggleable__label {background-color: #d4ebff;}#sk-container-id-1 div.sk-serial::before {content: \"\";position: absolute;border-left: 1px solid gray;box-sizing: border-box;top: 0;bottom: 0;left: 50%;z-index: 0;}#sk-container-id-1 div.sk-serial {display: flex;flex-direction: column;align-items: center;background-color: white;padding-right: 0.2em;padding-left: 0.2em;position: relative;}#sk-container-id-1 div.sk-item {position: relative;z-index: 1;}#sk-container-id-1 div.sk-parallel {display: flex;align-items: stretch;justify-content: center;background-color: white;position: relative;}#sk-container-id-1 div.sk-item::before, #sk-container-id-1 div.sk-parallel-item::before {content: \"\";position: absolute;border-left: 1px solid gray;box-sizing: border-box;top: 0;bottom: 0;left: 50%;z-index: -1;}#sk-container-id-1 div.sk-parallel-item {display: flex;flex-direction: column;z-index: 1;position: relative;background-color: white;}#sk-container-id-1 div.sk-parallel-item:first-child::after {align-self: flex-end;width: 50%;}#sk-container-id-1 div.sk-parallel-item:last-child::after {align-self: flex-start;width: 50%;}#sk-container-id-1 div.sk-parallel-item:only-child::after {width: 0;}#sk-container-id-1 div.sk-dashed-wrapped {border: 1px dashed gray;margin: 0 0.4em 0.5em 0.4em;box-sizing: border-box;padding-bottom: 0.4em;background-color: white;}#sk-container-id-1 div.sk-label label {font-family: monospace;font-weight: bold;display: inline-block;line-height: 1.2em;}#sk-container-id-1 div.sk-label-container {text-align: center;}#sk-container-id-1 div.sk-container {/* jupyter's `normalize.less` sets `[hidden] { display: none; }` but bootstrap.min.css set `[hidden] { display: none !important; }` so we also need the `!important` here to be able to override the default hidden behavior on the sphinx rendered scikit-learn.org. See: https://github.com/scikit-learn/scikit-learn/issues/21755 */display: inline-block !important;position: relative;}#sk-container-id-1 div.sk-text-repr-fallback {display: none;}</style><div id=\"sk-container-id-1\" class=\"sk-top-container\"><div class=\"sk-text-repr-fallback\"><pre>GridSearchCV(cv=3, estimator=MLPClassifier(), n_jobs=-1,\n",
       "             param_grid={&#x27;activation&#x27;: [&#x27;relu&#x27;, &#x27;tanh&#x27;, &#x27;logistic&#x27;],\n",
       "                         &#x27;hidden_layer_sizes&#x27;: [(30, 20, 15, 25),\n",
       "                                                (50, 40, 30, 20)],\n",
       "                         &#x27;solver&#x27;: [&#x27;adam&#x27;, &#x27;lbfgs&#x27;, &#x27;sgd&#x27;]})</pre><b>In a Jupyter environment, please rerun this cell to show the HTML representation or trust the notebook. <br />On GitHub, the HTML representation is unable to render, please try loading this page with nbviewer.org.</b></div><div class=\"sk-container\" hidden><div class=\"sk-item sk-dashed-wrapped\"><div class=\"sk-label-container\"><div class=\"sk-label sk-toggleable\"><input class=\"sk-toggleable__control sk-hidden--visually\" id=\"sk-estimator-id-1\" type=\"checkbox\" ><label for=\"sk-estimator-id-1\" class=\"sk-toggleable__label sk-toggleable__label-arrow\">GridSearchCV</label><div class=\"sk-toggleable__content\"><pre>GridSearchCV(cv=3, estimator=MLPClassifier(), n_jobs=-1,\n",
       "             param_grid={&#x27;activation&#x27;: [&#x27;relu&#x27;, &#x27;tanh&#x27;, &#x27;logistic&#x27;],\n",
       "                         &#x27;hidden_layer_sizes&#x27;: [(30, 20, 15, 25),\n",
       "                                                (50, 40, 30, 20)],\n",
       "                         &#x27;solver&#x27;: [&#x27;adam&#x27;, &#x27;lbfgs&#x27;, &#x27;sgd&#x27;]})</pre></div></div></div><div class=\"sk-parallel\"><div class=\"sk-parallel-item\"><div class=\"sk-item\"><div class=\"sk-label-container\"><div class=\"sk-label sk-toggleable\"><input class=\"sk-toggleable__control sk-hidden--visually\" id=\"sk-estimator-id-2\" type=\"checkbox\" ><label for=\"sk-estimator-id-2\" class=\"sk-toggleable__label sk-toggleable__label-arrow\">estimator: MLPClassifier</label><div class=\"sk-toggleable__content\"><pre>MLPClassifier()</pre></div></div></div><div class=\"sk-serial\"><div class=\"sk-item\"><div class=\"sk-estimator sk-toggleable\"><input class=\"sk-toggleable__control sk-hidden--visually\" id=\"sk-estimator-id-3\" type=\"checkbox\" ><label for=\"sk-estimator-id-3\" class=\"sk-toggleable__label sk-toggleable__label-arrow\">MLPClassifier</label><div class=\"sk-toggleable__content\"><pre>MLPClassifier()</pre></div></div></div></div></div></div></div></div></div></div>"
      ],
      "text/plain": [
       "GridSearchCV(cv=3, estimator=MLPClassifier(), n_jobs=-1,\n",
       "             param_grid={'activation': ['relu', 'tanh', 'logistic'],\n",
       "                         'hidden_layer_sizes': [(30, 20, 15, 25),\n",
       "                                                (50, 40, 30, 20)],\n",
       "                         'solver': ['adam', 'lbfgs', 'sgd']})"
      ]
     },
     "execution_count": 29,
     "metadata": {},
     "output_type": "execute_result"
    }
   ],
   "source": [
    "from sklearn.neural_network import MLPClassifier\n",
    "from sklearn.model_selection import GridSearchCV\n",
    "\n",
    "mlp = MLPClassifier()\n",
    "# Couche de sortie multiclasse \n",
    "# donc la fonction d’activation des neurones de la couche de sortie est 'Softmax'\n",
    "mlp.out_activation_ = 'Softmax'\n",
    "mlp.n_outputs_ = 1\n",
    "\n",
    "param_grid = {\n",
    "    'hidden_layer_sizes': [(30, 20, 15, 25),(50, 40, 30,20)],\n",
    "    'activation':['relu', 'tanh', 'logistic'],\n",
    "    'solver':  ['adam', 'lbfgs', 'sgd'],\n",
    "}\n",
    "\n",
    "grid_search = GridSearchCV(mlp, param_grid, n_jobs=-1, cv=3)\n",
    "grid_search.fit(X_train, y_train)"
   ]
  },
  {
   "cell_type": "code",
   "execution_count": 30,
   "metadata": {},
   "outputs": [
    {
     "name": "stdout",
     "output_type": "stream",
     "text": [
      "Best parameters found : {'activation': 'tanh', 'hidden_layer_sizes': (30, 20, 15, 25), 'solver': 'sgd'}\n"
     ]
    }
   ],
   "source": [
    "best_params_mlp_multi = grid_search.best_params_\n",
    "# meilleur parametre\n",
    "print(f'Best parameters found : {best_params_mlp_multi}')"
   ]
  },
  {
   "cell_type": "code",
   "execution_count": 31,
   "metadata": {},
   "outputs": [],
   "source": [
    "best_mlp = MLPClassifier(**best_params_mlp_multi)\n",
    "\n",
    "start_time = time.time()\n",
    "\n",
    "best_mlp.fit(X_train, y_train)\n",
    "\n",
    "end_time = time.time()\n",
    "mlp_time = end_time - start_time"
   ]
  },
  {
   "cell_type": "code",
   "execution_count": 32,
   "metadata": {},
   "outputs": [
    {
     "name": "stdout",
     "output_type": "stream",
     "text": [
      "              precision    recall  f1-score   support\n",
      "\n",
      "           0       0.00      0.00      0.00       961\n",
      "           1       0.33      0.59      0.42      1840\n",
      "           2       0.00      0.00      0.00       936\n",
      "           3       0.30      0.38      0.34      1755\n",
      "\n",
      "    accuracy                           0.32      5492\n",
      "   macro avg       0.16      0.24      0.19      5492\n",
      "weighted avg       0.21      0.32      0.25      5492\n",
      "\n"
     ]
    },
    {
     "name": "stderr",
     "output_type": "stream",
     "text": [
      "c:\\Users\\mathi\\anaconda3\\envs\\Keras\\lib\\site-packages\\sklearn\\metrics\\_classification.py:1344: UndefinedMetricWarning: Precision and F-score are ill-defined and being set to 0.0 in labels with no predicted samples. Use `zero_division` parameter to control this behavior.\n",
      "  _warn_prf(average, modifier, msg_start, len(result))\n",
      "c:\\Users\\mathi\\anaconda3\\envs\\Keras\\lib\\site-packages\\sklearn\\metrics\\_classification.py:1344: UndefinedMetricWarning: Precision and F-score are ill-defined and being set to 0.0 in labels with no predicted samples. Use `zero_division` parameter to control this behavior.\n",
      "  _warn_prf(average, modifier, msg_start, len(result))\n",
      "c:\\Users\\mathi\\anaconda3\\envs\\Keras\\lib\\site-packages\\sklearn\\metrics\\_classification.py:1344: UndefinedMetricWarning: Precision and F-score are ill-defined and being set to 0.0 in labels with no predicted samples. Use `zero_division` parameter to control this behavior.\n",
      "  _warn_prf(average, modifier, msg_start, len(result))\n"
     ]
    }
   ],
   "source": [
    "y_pred_test = best_mlp.predict(X_test)\n",
    "y_pred_test_prob = best_mlp.predict_proba(X_test)\n",
    "print(classification_report(y_test, y_pred_test))"
   ]
  },
  {
   "cell_type": "code",
   "execution_count": 33,
   "metadata": {},
   "outputs": [
    {
     "data": {
      "text/plain": [
       "0.3199198834668609"
      ]
     },
     "execution_count": 33,
     "metadata": {},
     "output_type": "execute_result"
    }
   ],
   "source": [
    "mlp_multi = accuracy_score(y_test, y_pred_test)\n",
    "mlp_multi"
   ]
  },
  {
   "cell_type": "markdown",
   "metadata": {},
   "source": [
    "# Comparaison modèles multiclass"
   ]
  },
  {
   "cell_type": "code",
   "execution_count": 34,
   "metadata": {},
   "outputs": [
    {
     "data": {
      "image/png": "[encoded data removed]",
      "text/plain": [
       "<Figure size 1000x600 with 1 Axes>"
      ]
     },
     "metadata": {},
     "output_type": "display_data"
    }
   ],
   "source": [
    "import matplotlib.pyplot as plt\n",
    "import numpy as np\n",
    "\n",
    "# Scores d'accuracy des différents modèles\n",
    "accuracy_scores = [DescisionTree_score_multi, Xgboost_score_multi, catboost_score_multi, logisti_reg_score_multi, random_score_multi, mlp_multi] \n",
    "\n",
    "# Noms des modèles correspondants\n",
    "model_names = ['DecisionTree', 'Xgboost', 'Catboost', 'Reg logistique', 'Random forest', 'MLP'] \n",
    "\n",
    "# Création de l'histogramme\n",
    "plt.figure(figsize=(10, 6))\n",
    "plt.bar(model_names, accuracy_scores, color='blue', alpha=0.7)\n",
    "plt.xlabel('Modèles')\n",
    "plt.ylabel('Accuracy')\n",
    "plt.title('Comparaison des résultats d\\'accuracy des modèles de classification multiclass')\n",
    "plt.ylim(0, 1)  # Assurez-vous que l'axe y va de 0 à 1 pour l'accuracy\n",
    "plt.grid(axis='y', linestyle='--', alpha=0.7)\n",
    "\n",
    "# Affichage des scores sur chaque barre\n",
    "for i, v in enumerate(accuracy_scores):\n",
    "    plt.text(i, v + 0.01, f'{v:.4f}', ha='center', va='bottom')\n",
    "\n",
    "# Affichage de l'histogramme\n",
    "plt.show()"
   ]
  },
  {
   "cell_type": "code",
   "execution_count": 35,
   "metadata": {},
   "outputs": [
    {
     "data": {
      "image/png": "[encoded data removed]",
      "text/plain": [
       "<Figure size 1000x600 with 1 Axes>"
      ]
     },
     "metadata": {},
     "output_type": "display_data"
    }
   ],
   "source": [
    "Temps = [DecisionTree_time, Xgboost_time, CatBoost_time, Logisti_reg_time, Random_time, mlp_time] \n",
    "\n",
    "# Noms des modèles correspondants\n",
    "model_names = ['DecisionTree_time', 'Xgboost_time', 'Catboost_time', 'Reg logistique_time', 'Random forest_time', 'MLP_time'] \n",
    "\n",
    "# Création de l'histogramme\n",
    "plt.figure(figsize=(10, 6))\n",
    "plt.bar(model_names, Temps, color='blue', alpha=0.7)\n",
    "plt.xlabel('Modèles')\n",
    "plt.ylabel('Temps en s')\n",
    "plt.title('Comparaison temporelle des modèles de classification binaire')\n",
    "plt.grid(axis='y', linestyle='--', alpha=0.7)\n",
    "\n",
    "for i, v in enumerate(Temps):\n",
    "    plt.text(i, v + 0.01, f'{v:.4f}', ha='center', va='bottom')\n",
    "\n",
    "# Affichage de l'histogramme\n",
    "plt.show()"
   ]
  }
 ],
 "metadata": {
  "kernelspec": {
   "display_name": "Keras",
   "language": "python",
   "name": "python3"
  },
  "language_info": {
   "codemirror_mode": {
    "name": "ipython",
    "version": 3
   },
   "file_extension": ".py",
   "mimetype": "text/x-python",
   "name": "python",
   "nbconvert_exporter": "python",
   "pygments_lexer": "ipython3",
   "version": "3.9.18"
  }
 },
 "nbformat": 4,
 "nbformat_minor": 2
}
