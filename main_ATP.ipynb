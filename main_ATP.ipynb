{
 "cells": [
  {
   "cell_type": "markdown",
   "metadata": {},
   "source": [
    "# Préparation pour la classification binaire"
   ]
  },
  {
   "cell_type": "code",
   "execution_count": 42,
   "metadata": {},
   "outputs": [],
   "source": [
    "import pandas as pd\n",
    "from test import convertCatToNum, drop_rows_with_missing, normalize, encode_player_names, split_data\n",
    "import matplotlib.pyplot as plt\n",
    "import numpy as np\n",
    "import time\n",
    "\n",
    "# on import toutes les données\n",
    "\n",
    "df_atp = pd.read_csv('all_matches_ATP.csv')"
   ]
  },
  {
   "cell_type": "code",
   "execution_count": 43,
   "metadata": {},
   "outputs": [
    {
     "name": "stdout",
     "output_type": "stream",
     "text": [
      "<class 'pandas.core.frame.DataFrame'>\n",
      "RangeIndex: 58182 entries, 0 to 58181\n",
      "Data columns (total 10 columns):\n",
      " #   Column        Non-Null Count  Dtype  \n",
      "---  ------        --------------  -----  \n",
      " 0   Court         58182 non-null  object \n",
      " 1   Surface       58182 non-null  object \n",
      " 2   Round         58182 non-null  object \n",
      " 3   Player1_name  58182 non-null  object \n",
      " 4   Player2_name  58182 non-null  object \n",
      " 5   Player1_rank  58182 non-null  int64  \n",
      " 6   Player2_rank  58182 non-null  int64  \n",
      " 7   Comment       58182 non-null  object \n",
      " 8   Series        41811 non-null  float64\n",
      " 9   y             58182 non-null  int64  \n",
      "dtypes: float64(1), int64(3), object(6)\n",
      "memory usage: 4.4+ MB\n"
     ]
    }
   ],
   "source": [
    "df_atp.info()"
   ]
  },
  {
   "cell_type": "code",
   "execution_count": 44,
   "metadata": {},
   "outputs": [],
   "source": [
    "cat_cols = ['Court','Surface','Round',]\n",
    "\n",
    "num_cols = [\"Player1_rank\",\"Player2_rank\",\"Series\",]\n"
   ]
  },
  {
   "cell_type": "code",
   "execution_count": 45,
   "metadata": {},
   "outputs": [
    {
     "name": "stdout",
     "output_type": "stream",
     "text": [
      " ===     Replace categorial variable     ===\n",
      " ===   Convert categorical to numerical  ===\n",
      " ===         drop missing values         ===\n",
      " ===            Normalize data           ===\n"
     ]
    }
   ],
   "source": [
    "df_processed = convertCatToNum(df=df_atp,cat_cols=cat_cols)\n",
    "df = drop_rows_with_missing(df_processed,columns=[\"y\",\"Series\"])\n",
    "df_atp = normalize(df,num_cols)\n"
   ]
  },
  {
   "cell_type": "code",
   "execution_count": 46,
   "metadata": {},
   "outputs": [
    {
     "name": "stdout",
     "output_type": "stream",
     "text": [
      "<class 'pandas.core.frame.DataFrame'>\n",
      "Int64Index: 41811 entries, 155 to 58181\n",
      "Data columns (total 21 columns):\n",
      " #   Column               Non-Null Count  Dtype  \n",
      "---  ------               --------------  -----  \n",
      " 0   Player1_name         41811 non-null  object \n",
      " 1   Player2_name         41811 non-null  object \n",
      " 2   Player1_rank         41811 non-null  float64\n",
      " 3   Player2_rank         41811 non-null  float64\n",
      " 4   Comment              41811 non-null  object \n",
      " 5   Series               41811 non-null  float64\n",
      " 6   y                    41811 non-null  int64  \n",
      " 7   Court_Indoor         41811 non-null  uint8  \n",
      " 8   Court_Outdoor        41811 non-null  uint8  \n",
      " 9   Surface_Carpet       41811 non-null  uint8  \n",
      " 10  Surface_Clay         41811 non-null  uint8  \n",
      " 11  Surface_Grass        41811 non-null  uint8  \n",
      " 12  Surface_Hard         41811 non-null  uint8  \n",
      " 13  Round_1st Round      41811 non-null  uint8  \n",
      " 14  Round_2nd Round      41811 non-null  uint8  \n",
      " 15  Round_3rd Round      41811 non-null  uint8  \n",
      " 16  Round_4th Round      41811 non-null  uint8  \n",
      " 17  Round_Quarterfinals  41811 non-null  uint8  \n",
      " 18  Round_Round Robin    41811 non-null  uint8  \n",
      " 19  Round_Semifinals     41811 non-null  uint8  \n",
      " 20  Round_The Final      41811 non-null  uint8  \n",
      "dtypes: float64(3), int64(1), object(3), uint8(14)\n",
      "memory usage: 3.1+ MB\n"
     ]
    }
   ],
   "source": [
    "df_atp.info()\n"
   ]
  },
  {
   "cell_type": "code",
   "execution_count": 47,
   "metadata": {},
   "outputs": [
    {
     "data": {
      "text/html": [
       "<div>\n",
       "<style scoped>\n",
       "    .dataframe tbody tr th:only-of-type {\n",
       "        vertical-align: middle;\n",
       "    }\n",
       "\n",
       "    .dataframe tbody tr th {\n",
       "        vertical-align: top;\n",
       "    }\n",
       "\n",
       "    .dataframe thead th {\n",
       "        text-align: right;\n",
       "    }\n",
       "</style>\n",
       "<table border=\"1\" class=\"dataframe\">\n",
       "  <thead>\n",
       "    <tr style=\"text-align: right;\">\n",
       "      <th></th>\n",
       "      <th>Player1_name</th>\n",
       "      <th>Player2_name</th>\n",
       "      <th>Player1_rank</th>\n",
       "      <th>Player2_rank</th>\n",
       "      <th>Comment</th>\n",
       "      <th>Series</th>\n",
       "      <th>y</th>\n",
       "      <th>Court_Indoor</th>\n",
       "      <th>Court_Outdoor</th>\n",
       "      <th>Surface_Carpet</th>\n",
       "      <th>...</th>\n",
       "      <th>Surface_Grass</th>\n",
       "      <th>Surface_Hard</th>\n",
       "      <th>Round_1st Round</th>\n",
       "      <th>Round_2nd Round</th>\n",
       "      <th>Round_3rd Round</th>\n",
       "      <th>Round_4th Round</th>\n",
       "      <th>Round_Quarterfinals</th>\n",
       "      <th>Round_Round Robin</th>\n",
       "      <th>Round_Semifinals</th>\n",
       "      <th>Round_The Final</th>\n",
       "    </tr>\n",
       "  </thead>\n",
       "  <tbody>\n",
       "    <tr>\n",
       "      <th>155</th>\n",
       "      <td>Dosedel S.</td>\n",
       "      <td>Pioline C.</td>\n",
       "      <td>0.014649</td>\n",
       "      <td>0.005015</td>\n",
       "      <td>Completed</td>\n",
       "      <td>1.0</td>\n",
       "      <td>0</td>\n",
       "      <td>0</td>\n",
       "      <td>1</td>\n",
       "      <td>0</td>\n",
       "      <td>...</td>\n",
       "      <td>0</td>\n",
       "      <td>1</td>\n",
       "      <td>0</td>\n",
       "      <td>1</td>\n",
       "      <td>0</td>\n",
       "      <td>0</td>\n",
       "      <td>0</td>\n",
       "      <td>0</td>\n",
       "      <td>0</td>\n",
       "      <td>0</td>\n",
       "    </tr>\n",
       "    <tr>\n",
       "      <th>156</th>\n",
       "      <td>Arthurs W.</td>\n",
       "      <td>Heuberger I.</td>\n",
       "      <td>0.016684</td>\n",
       "      <td>0.069027</td>\n",
       "      <td>Completed</td>\n",
       "      <td>1.0</td>\n",
       "      <td>1</td>\n",
       "      <td>0</td>\n",
       "      <td>1</td>\n",
       "      <td>0</td>\n",
       "      <td>...</td>\n",
       "      <td>0</td>\n",
       "      <td>1</td>\n",
       "      <td>0</td>\n",
       "      <td>1</td>\n",
       "      <td>0</td>\n",
       "      <td>0</td>\n",
       "      <td>0</td>\n",
       "      <td>0</td>\n",
       "      <td>0</td>\n",
       "      <td>0</td>\n",
       "    </tr>\n",
       "    <tr>\n",
       "      <th>157</th>\n",
       "      <td>Squillari F.</td>\n",
       "      <td>Nestor D.</td>\n",
       "      <td>0.002848</td>\n",
       "      <td>0.064307</td>\n",
       "      <td>Completed</td>\n",
       "      <td>1.0</td>\n",
       "      <td>0</td>\n",
       "      <td>0</td>\n",
       "      <td>1</td>\n",
       "      <td>0</td>\n",
       "      <td>...</td>\n",
       "      <td>0</td>\n",
       "      <td>1</td>\n",
       "      <td>0</td>\n",
       "      <td>1</td>\n",
       "      <td>0</td>\n",
       "      <td>0</td>\n",
       "      <td>0</td>\n",
       "      <td>0</td>\n",
       "      <td>0</td>\n",
       "      <td>0</td>\n",
       "    </tr>\n",
       "    <tr>\n",
       "      <th>158</th>\n",
       "      <td>Santoro F.</td>\n",
       "      <td>Norman M.</td>\n",
       "      <td>0.009563</td>\n",
       "      <td>0.001180</td>\n",
       "      <td>Completed</td>\n",
       "      <td>1.0</td>\n",
       "      <td>0</td>\n",
       "      <td>0</td>\n",
       "      <td>1</td>\n",
       "      <td>0</td>\n",
       "      <td>...</td>\n",
       "      <td>0</td>\n",
       "      <td>1</td>\n",
       "      <td>0</td>\n",
       "      <td>1</td>\n",
       "      <td>0</td>\n",
       "      <td>0</td>\n",
       "      <td>0</td>\n",
       "      <td>0</td>\n",
       "      <td>0</td>\n",
       "      <td>0</td>\n",
       "    </tr>\n",
       "    <tr>\n",
       "      <th>159</th>\n",
       "      <td>Mamiit C.</td>\n",
       "      <td>Prinosil D.</td>\n",
       "      <td>0.025432</td>\n",
       "      <td>0.011504</td>\n",
       "      <td>Completed</td>\n",
       "      <td>1.0</td>\n",
       "      <td>0</td>\n",
       "      <td>0</td>\n",
       "      <td>1</td>\n",
       "      <td>0</td>\n",
       "      <td>...</td>\n",
       "      <td>0</td>\n",
       "      <td>1</td>\n",
       "      <td>0</td>\n",
       "      <td>1</td>\n",
       "      <td>0</td>\n",
       "      <td>0</td>\n",
       "      <td>0</td>\n",
       "      <td>0</td>\n",
       "      <td>0</td>\n",
       "      <td>0</td>\n",
       "    </tr>\n",
       "  </tbody>\n",
       "</table>\n",
       "<p>5 rows × 21 columns</p>\n",
       "</div>"
      ],
      "text/plain": [
       "     Player1_name  Player2_name  Player1_rank  Player2_rank    Comment  \\\n",
       "155    Dosedel S.    Pioline C.      0.014649      0.005015  Completed   \n",
       "156    Arthurs W.  Heuberger I.      0.016684      0.069027  Completed   \n",
       "157  Squillari F.     Nestor D.      0.002848      0.064307  Completed   \n",
       "158    Santoro F.     Norman M.      0.009563      0.001180  Completed   \n",
       "159     Mamiit C.   Prinosil D.      0.025432      0.011504  Completed   \n",
       "\n",
       "     Series  y  Court_Indoor  Court_Outdoor  Surface_Carpet  ...  \\\n",
       "155     1.0  0             0              1               0  ...   \n",
       "156     1.0  1             0              1               0  ...   \n",
       "157     1.0  0             0              1               0  ...   \n",
       "158     1.0  0             0              1               0  ...   \n",
       "159     1.0  0             0              1               0  ...   \n",
       "\n",
       "     Surface_Grass  Surface_Hard  Round_1st Round  Round_2nd Round  \\\n",
       "155              0             1                0                1   \n",
       "156              0             1                0                1   \n",
       "157              0             1                0                1   \n",
       "158              0             1                0                1   \n",
       "159              0             1                0                1   \n",
       "\n",
       "     Round_3rd Round  Round_4th Round  Round_Quarterfinals  Round_Round Robin  \\\n",
       "155                0                0                    0                  0   \n",
       "156                0                0                    0                  0   \n",
       "157                0                0                    0                  0   \n",
       "158                0                0                    0                  0   \n",
       "159                0                0                    0                  0   \n",
       "\n",
       "     Round_Semifinals  Round_The Final  \n",
       "155                 0                0  \n",
       "156                 0                0  \n",
       "157                 0                0  \n",
       "158                 0                0  \n",
       "159                 0                0  \n",
       "\n",
       "[5 rows x 21 columns]"
      ]
     },
     "execution_count": 47,
     "metadata": {},
     "output_type": "execute_result"
    }
   ],
   "source": [
    "df_atp.head()"
   ]
  },
  {
   "cell_type": "code",
   "execution_count": 48,
   "metadata": {},
   "outputs": [
    {
     "data": {
      "text/plain": [
       "Completed       40248\n",
       "Retired          1315\n",
       "Walkover          241\n",
       "Awarded             3\n",
       "Disqualified        2\n",
       "Sched               1\n",
       "Rrtired             1\n",
       "Name: Comment, dtype: int64"
      ]
     },
     "execution_count": 48,
     "metadata": {},
     "output_type": "execute_result"
    }
   ],
   "source": [
    "df_atp['Comment'].value_counts()"
   ]
  },
  {
   "cell_type": "code",
   "execution_count": 49,
   "metadata": {},
   "outputs": [
    {
     "name": "stdout",
     "output_type": "stream",
     "text": [
      "=== Encoding player names ===\n",
      "Encoding completed.\n"
     ]
    }
   ],
   "source": [
    "df_final = encode_player_names(df=df_atp)"
   ]
  },
  {
   "cell_type": "code",
   "execution_count": 50,
   "metadata": {},
   "outputs": [
    {
     "name": "stdout",
     "output_type": "stream",
     "text": [
      "=== Splitting data into train and test sets ===\n",
      "Data split completed.\n"
     ]
    }
   ],
   "source": [
    "# On sépare le jeu de données\n",
    "x_train, x_test, y_train, y_test = split_data(df_final, test_size=0.2, random_state=42)"
   ]
  },
  {
   "cell_type": "code",
   "execution_count": 51,
   "metadata": {},
   "outputs": [],
   "source": [
    "X_train = x_train.drop(['Comment'],axis=1)\n",
    "X_test = x_test.drop(['Comment'],axis=1)"
   ]
  },
  {
   "cell_type": "markdown",
   "metadata": {},
   "source": [
    "# Decision tree"
   ]
  },
  {
   "cell_type": "code",
   "execution_count": 52,
   "metadata": {},
   "outputs": [],
   "source": [
    "from sklearn.metrics import classification_report\n",
    "from sklearn.model_selection import RandomizedSearchCV\n",
    "from sklearn.ensemble import RandomForestClassifier\n",
    "from sklearn.tree import DecisionTreeClassifier\n",
    "from sklearn.metrics import accuracy_score"
   ]
  },
  {
   "cell_type": "code",
   "execution_count": 53,
   "metadata": {},
   "outputs": [
    {
     "name": "stdout",
     "output_type": "stream",
     "text": [
      "Best Score: 0.5774335132061708\n",
      "Best Hyperparameters: {'max_features': 'sqrt', 'max_depth': 55}\n"
     ]
    }
   ],
   "source": [
    "# Define model\n",
    "model = DecisionTreeClassifier()\n",
    "\n",
    "\n",
    "# define search space\n",
    "param_grid = {\n",
    "    'max_depth': list(range(25, 100, 10)),\n",
    "    'max_features': ['auto', 'sqrt', 'log2']\n",
    "}\n",
    "\n",
    "search = RandomizedSearchCV(model, param_grid, n_iter=10, cv=10, scoring='accuracy', n_jobs=-1, random_state=1)\n",
    "\n",
    "# execute search\n",
    "result = search.fit(X_train, y_train)\n",
    "\n",
    "best_params_deci_tree_bin = result.best_params_\n",
    "# summarize result\n",
    "print('Best Score: %s' % result.best_score_)\n",
    "print('Best Hyperparameters: %s' % result.best_params_)\n",
    "# {'max_features': 'auto', 'max_depth': 85}"
   ]
  },
  {
   "cell_type": "code",
   "execution_count": 54,
   "metadata": {},
   "outputs": [],
   "source": [
    "model = DecisionTreeClassifier(**best_params_deci_tree_bin)\n",
    "\n",
    "start_time = time.time()\n",
    "\n",
    "model.fit(X_train, y_train)\n",
    "\n",
    "end_time = time.time()\n",
    "DecisionTree_time = end_time - start_time\n"
   ]
  },
  {
   "cell_type": "code",
   "execution_count": 55,
   "metadata": {},
   "outputs": [
    {
     "name": "stdout",
     "output_type": "stream",
     "text": [
      "              precision    recall  f1-score   support\n",
      "\n",
      "           0       0.59      0.59      0.59      4246\n",
      "           1       0.58      0.58      0.58      4117\n",
      "\n",
      "    accuracy                           0.58      8363\n",
      "   macro avg       0.58      0.58      0.58      8363\n",
      "weighted avg       0.58      0.58      0.58      8363\n",
      "\n"
     ]
    }
   ],
   "source": [
    "# Prediction with best model from random search \n",
    "\n",
    "y_pred_test = model.predict(X_test)\n",
    "print(classification_report(y_test, y_pred_test))"
   ]
  },
  {
   "cell_type": "code",
   "execution_count": 56,
   "metadata": {},
   "outputs": [
    {
     "data": {
      "text/plain": [
       "0.5830443620710272"
      ]
     },
     "execution_count": 56,
     "metadata": {},
     "output_type": "execute_result"
    }
   ],
   "source": [
    "# On va garder le score d'accuracy pour pouvoir le comparer avec d'autres modèle\n",
    "DescisionTree_score_bin = accuracy_score(y_test, y_pred_test)\n",
    "DescisionTree_score_bin"
   ]
  },
  {
   "cell_type": "markdown",
   "metadata": {},
   "source": [
    "# xgboost"
   ]
  },
  {
   "cell_type": "markdown",
   "metadata": {},
   "source": [
    "XGBoost, ou eXtreme Gradient Boosting, est une bibliothèque de machine learning puissante basée sur des arbres de décision boostés. Elle construit des modèles séquentiels, corrigeant les erreurs des prédictions précédentes à l'aide de la technique de gradient boosting. XGBoost utilise une régularisation efficace pour éviter le surajustement et assigne des importances aux variables pour indiquer leur contribution à la prédiction. Grâce à une optimisation robuste et une gestion flexible des types de données, XGBoost est largement utilisé pour des tâches de classification, de régression et de ranking, se distinguant par sa performance élevée et sa capacité à traiter des ensembles de données volumineux."
   ]
  },
  {
   "cell_type": "markdown",
   "metadata": {},
   "source": [
    "En résumé, XGBoost construit des arbres les uns après les autres, corrigeant les erreurs précédentes à chaque étape, tout en utilisant diverses techniques pour optimiser la performance et éviter le surajustement. C'est une méthode puissante et polyvalente largement utilisée dans la pratique."
   ]
  },
  {
   "cell_type": "code",
   "execution_count": 57,
   "metadata": {},
   "outputs": [
    {
     "name": "stdout",
     "output_type": "stream",
     "text": [
      "Best Score: 0.6569001423705922\n",
      "Best Hyperparameters: {'subsample': 1.0, 'n_estimators': 600, 'max_depth': 4, 'learning_rate': 0.1, 'colsample_bytree': 1.0}\n"
     ]
    }
   ],
   "source": [
    "import xgboost as xgb\n",
    "from sklearn.model_selection import RandomizedSearchCV\n",
    "\n",
    "# Define the XGBoost model\n",
    "model = xgb.XGBClassifier()\n",
    "\n",
    "# Define the search space (parameter grid)\n",
    "param_grid = {\n",
    "    'n_estimators': np.arange(100, 1000, 100),  # Number of boosting rounds\n",
    "    'max_depth': np.arange(3, 10),  # Maximum tree depth\n",
    "    'learning_rate': [0.001,0.005,0.01, 0.1],  # Step size shrinkage used in update to prevent overfitting\n",
    "    'subsample': [0.7, 0.8, 0.9, 1.0],  # Fraction of samples used for fitting the trees\n",
    "    'colsample_bytree': [0.7, 0.8, 0.9, 1.0],  # Fraction of features used for fitting the trees\n",
    "}\n",
    "\n",
    "# Create a RandomizedSearchCV object\n",
    "search = RandomizedSearchCV(model, param_distributions=param_grid, n_iter=10, cv=5, scoring='accuracy', n_jobs=-1, random_state=1)\n",
    "\n",
    "# Execute the search\n",
    "result = search.fit(X_train, y_train)\n",
    "\n",
    "best_param_Xgboost_bin=result.best_params_\n",
    "\n",
    "# Summarize the results\n",
    "print('Best Score: %s' % result.best_score_)\n",
    "print('Best Hyperparameters: %s' % result.best_params_)\n"
   ]
  },
  {
   "cell_type": "code",
   "execution_count": 58,
   "metadata": {},
   "outputs": [
    {
     "data": {
      "text/plain": [
       "{'subsample': 1.0,\n",
       " 'n_estimators': 600,\n",
       " 'max_depth': 4,\n",
       " 'learning_rate': 0.1,\n",
       " 'colsample_bytree': 1.0}"
      ]
     },
     "execution_count": 58,
     "metadata": {},
     "output_type": "execute_result"
    }
   ],
   "source": [
    "best_param_Xgboost_bin"
   ]
  },
  {
   "cell_type": "code",
   "execution_count": 59,
   "metadata": {},
   "outputs": [],
   "source": [
    "# Define the XGBoost model\n",
    "model = xgb.XGBClassifier(**best_param_Xgboost_bin)\n",
    "\n",
    "start_time = time.time()\n",
    "\n",
    "model.fit(X_train, y_train)\n",
    "\n",
    "end_time = time.time()\n",
    "Xgboost_time = end_time - start_time"
   ]
  },
  {
   "cell_type": "code",
   "execution_count": 60,
   "metadata": {},
   "outputs": [
    {
     "name": "stdout",
     "output_type": "stream",
     "text": [
      "              precision    recall  f1-score   support\n",
      "\n",
      "           0       0.66      0.66      0.66      4246\n",
      "           1       0.65      0.66      0.65      4117\n",
      "\n",
      "    accuracy                           0.66      8363\n",
      "   macro avg       0.66      0.66      0.66      8363\n",
      "weighted avg       0.66      0.66      0.66      8363\n",
      "\n"
     ]
    }
   ],
   "source": [
    "# Prediction with best model from random search \n",
    "y_pred_test = model.predict(X_test)\n",
    "\n",
    "\n",
    "print(classification_report(y_test, y_pred_test))"
   ]
  },
  {
   "cell_type": "code",
   "execution_count": 61,
   "metadata": {},
   "outputs": [
    {
     "data": {
      "text/plain": [
       "0.6578978835346168"
      ]
     },
     "execution_count": 61,
     "metadata": {},
     "output_type": "execute_result"
    }
   ],
   "source": [
    "Xgboost_score_bin = accuracy_score(y_test, y_pred_test)\n",
    "Xgboost_score_bin"
   ]
  },
  {
   "cell_type": "markdown",
   "metadata": {},
   "source": [
    "# CatBoost"
   ]
  },
  {
   "cell_type": "markdown",
   "metadata": {},
   "source": [
    "\n",
    "CatBoost est une bibliothèque de machine learning spécialisée dans les arbres de décision boostés, mettant particulièrement l'accent sur la gestion facile des variables catégorielles. Elle simplifie le processus en traitant directement les variables catégorielles, éliminant ainsi la nécessité de les convertir en variables numériques. CatBoost intègre des mécanismes d'optimisation automatique des hyperparamètres et de régularisation pour prévenir le surajustement. Sa polyvalence en fait un choix adapté à la classification, la régression et le ranking, et il est reconnu pour sa facilité d'utilisation et ses performances élevées, surtout dans les cas où les variables catégorielles sont importantes."
   ]
  },
  {
   "cell_type": "markdown",
   "metadata": {},
   "source": [
    "En résum, CatBoost est un algorithme de gradient boosting qui a été conçu pour gérer efficacement les données catégorielles sans nécessiter une préparation de données étendue, comme l'encodage des catégories. "
   ]
  },
  {
   "cell_type": "code",
   "execution_count": 62,
   "metadata": {},
   "outputs": [
    {
     "name": "stdout",
     "output_type": "stream",
     "text": [
      "0:\tlearn: 0.6915302\ttotal: 132ms\tremaining: 26.3s\n",
      "1:\tlearn: 0.6901489\ttotal: 183ms\tremaining: 18.1s\n",
      "2:\tlearn: 0.6886102\ttotal: 296ms\tremaining: 19.5s\n",
      "3:\tlearn: 0.6870817\ttotal: 425ms\tremaining: 20.8s\n",
      "4:\tlearn: 0.6855858\ttotal: 546ms\tremaining: 21.3s\n",
      "5:\tlearn: 0.6841068\ttotal: 656ms\tremaining: 21.2s\n",
      "6:\tlearn: 0.6826000\ttotal: 770ms\tremaining: 21.2s\n",
      "7:\tlearn: 0.6811775\ttotal: 887ms\tremaining: 21.3s\n",
      "8:\tlearn: 0.6797021\ttotal: 999ms\tremaining: 21.2s\n",
      "9:\tlearn: 0.6784006\ttotal: 1.13s\tremaining: 21.5s\n",
      "10:\tlearn: 0.6770864\ttotal: 1.28s\tremaining: 22s\n",
      "11:\tlearn: 0.6759400\ttotal: 1.3s\tremaining: 20.3s\n",
      "12:\tlearn: 0.6750025\ttotal: 1.31s\tremaining: 18.8s\n",
      "13:\tlearn: 0.6737678\ttotal: 1.43s\tremaining: 18.9s\n",
      "14:\tlearn: 0.6725654\ttotal: 1.53s\tremaining: 18.9s\n",
      "15:\tlearn: 0.6713736\ttotal: 1.64s\tremaining: 18.8s\n",
      "16:\tlearn: 0.6700452\ttotal: 1.75s\tremaining: 18.8s\n",
      "17:\tlearn: 0.6689240\ttotal: 1.79s\tremaining: 18.2s\n",
      "18:\tlearn: 0.6679440\ttotal: 1.81s\tremaining: 17.2s\n",
      "19:\tlearn: 0.6669566\ttotal: 1.83s\tremaining: 16.4s\n",
      "20:\tlearn: 0.6657909\ttotal: 1.94s\tremaining: 16.6s\n",
      "21:\tlearn: 0.6646669\ttotal: 2.06s\tremaining: 16.7s\n",
      "22:\tlearn: 0.6636346\ttotal: 2.19s\tremaining: 16.8s\n",
      "23:\tlearn: 0.6625315\ttotal: 2.34s\tremaining: 17.2s\n",
      "24:\tlearn: 0.6614948\ttotal: 2.48s\tremaining: 17.4s\n",
      "25:\tlearn: 0.6604612\ttotal: 2.61s\tremaining: 17.5s\n",
      "26:\tlearn: 0.6594981\ttotal: 2.72s\tremaining: 17.5s\n",
      "27:\tlearn: 0.6584048\ttotal: 2.83s\tremaining: 17.4s\n",
      "28:\tlearn: 0.6573870\ttotal: 2.93s\tremaining: 17.3s\n",
      "29:\tlearn: 0.6564480\ttotal: 3.04s\tremaining: 17.2s\n",
      "30:\tlearn: 0.6555218\ttotal: 3.14s\tremaining: 17.1s\n",
      "31:\tlearn: 0.6546125\ttotal: 3.24s\tremaining: 17s\n",
      "32:\tlearn: 0.6537167\ttotal: 3.33s\tremaining: 16.9s\n",
      "33:\tlearn: 0.6531890\ttotal: 3.34s\tremaining: 16.3s\n",
      "34:\tlearn: 0.6523134\ttotal: 3.44s\tremaining: 16.2s\n",
      "35:\tlearn: 0.6514457\ttotal: 3.54s\tremaining: 16.1s\n",
      "36:\tlearn: 0.6505541\ttotal: 3.64s\tremaining: 16s\n",
      "37:\tlearn: 0.6496942\ttotal: 3.73s\tremaining: 15.9s\n",
      "38:\tlearn: 0.6488147\ttotal: 3.83s\tremaining: 15.8s\n",
      "39:\tlearn: 0.6480301\ttotal: 3.93s\tremaining: 15.7s\n",
      "40:\tlearn: 0.6472438\ttotal: 4.03s\tremaining: 15.6s\n",
      "41:\tlearn: 0.6464616\ttotal: 4.13s\tremaining: 15.5s\n",
      "42:\tlearn: 0.6456769\ttotal: 4.23s\tremaining: 15.4s\n",
      "43:\tlearn: 0.6450425\ttotal: 4.26s\tremaining: 15.1s\n",
      "44:\tlearn: 0.6442538\ttotal: 4.36s\tremaining: 15s\n",
      "45:\tlearn: 0.6434840\ttotal: 4.46s\tremaining: 14.9s\n",
      "46:\tlearn: 0.6426725\ttotal: 4.56s\tremaining: 14.8s\n",
      "47:\tlearn: 0.6420024\ttotal: 4.66s\tremaining: 14.8s\n",
      "48:\tlearn: 0.6412733\ttotal: 4.76s\tremaining: 14.7s\n",
      "49:\tlearn: 0.6405250\ttotal: 4.87s\tremaining: 14.6s\n",
      "50:\tlearn: 0.6398154\ttotal: 4.97s\tremaining: 14.5s\n",
      "51:\tlearn: 0.6391562\ttotal: 5.06s\tremaining: 14.4s\n",
      "52:\tlearn: 0.6383952\ttotal: 5.17s\tremaining: 14.3s\n",
      "53:\tlearn: 0.6377198\ttotal: 5.27s\tremaining: 14.3s\n",
      "54:\tlearn: 0.6371793\ttotal: 5.36s\tremaining: 14.1s\n",
      "55:\tlearn: 0.6364862\ttotal: 5.47s\tremaining: 14.1s\n",
      "56:\tlearn: 0.6358997\ttotal: 5.57s\tremaining: 14s\n",
      "57:\tlearn: 0.6352936\ttotal: 5.66s\tremaining: 13.9s\n",
      "58:\tlearn: 0.6345831\ttotal: 5.77s\tremaining: 13.8s\n",
      "59:\tlearn: 0.6339663\ttotal: 5.87s\tremaining: 13.7s\n",
      "60:\tlearn: 0.6334075\ttotal: 5.98s\tremaining: 13.6s\n",
      "61:\tlearn: 0.6327874\ttotal: 6.08s\tremaining: 13.5s\n",
      "62:\tlearn: 0.6321519\ttotal: 6.18s\tremaining: 13.4s\n",
      "63:\tlearn: 0.6315732\ttotal: 6.28s\tremaining: 13.4s\n",
      "64:\tlearn: 0.6311103\ttotal: 6.37s\tremaining: 13.2s\n",
      "65:\tlearn: 0.6306189\ttotal: 6.47s\tremaining: 13.1s\n",
      "66:\tlearn: 0.6302390\ttotal: 6.48s\tremaining: 12.9s\n",
      "67:\tlearn: 0.6296833\ttotal: 6.59s\tremaining: 12.8s\n",
      "68:\tlearn: 0.6292009\ttotal: 6.68s\tremaining: 12.7s\n",
      "69:\tlearn: 0.6286491\ttotal: 6.79s\tremaining: 12.6s\n",
      "70:\tlearn: 0.6280518\ttotal: 6.89s\tremaining: 12.5s\n",
      "71:\tlearn: 0.6277500\ttotal: 6.9s\tremaining: 12.3s\n",
      "72:\tlearn: 0.6271498\ttotal: 7.01s\tremaining: 12.2s\n",
      "73:\tlearn: 0.6265629\ttotal: 7.11s\tremaining: 12.1s\n",
      "74:\tlearn: 0.6260453\ttotal: 7.21s\tremaining: 12s\n",
      "75:\tlearn: 0.6255139\ttotal: 7.32s\tremaining: 11.9s\n",
      "76:\tlearn: 0.6250776\ttotal: 7.42s\tremaining: 11.9s\n",
      "77:\tlearn: 0.6247252\ttotal: 7.45s\tremaining: 11.7s\n",
      "78:\tlearn: 0.6242030\ttotal: 7.56s\tremaining: 11.6s\n",
      "79:\tlearn: 0.6237355\ttotal: 7.66s\tremaining: 11.5s\n",
      "80:\tlearn: 0.6232721\ttotal: 7.76s\tremaining: 11.4s\n",
      "81:\tlearn: 0.6228647\ttotal: 7.86s\tremaining: 11.3s\n",
      "82:\tlearn: 0.6225375\ttotal: 7.96s\tremaining: 11.2s\n",
      "83:\tlearn: 0.6219868\ttotal: 8.06s\tremaining: 11.1s\n",
      "84:\tlearn: 0.6214678\ttotal: 8.17s\tremaining: 11.1s\n",
      "85:\tlearn: 0.6210172\ttotal: 8.28s\tremaining: 11s\n",
      "86:\tlearn: 0.6204829\ttotal: 8.37s\tremaining: 10.9s\n",
      "87:\tlearn: 0.6200976\ttotal: 8.47s\tremaining: 10.8s\n",
      "88:\tlearn: 0.6197267\ttotal: 8.57s\tremaining: 10.7s\n",
      "89:\tlearn: 0.6193475\ttotal: 8.67s\tremaining: 10.6s\n",
      "90:\tlearn: 0.6189010\ttotal: 8.78s\tremaining: 10.5s\n",
      "91:\tlearn: 0.6185331\ttotal: 8.88s\tremaining: 10.4s\n",
      "92:\tlearn: 0.6180707\ttotal: 8.99s\tremaining: 10.3s\n",
      "93:\tlearn: 0.6176604\ttotal: 9.09s\tremaining: 10.3s\n",
      "94:\tlearn: 0.6173047\ttotal: 9.19s\tremaining: 10.2s\n",
      "95:\tlearn: 0.6170038\ttotal: 9.3s\tremaining: 10.1s\n",
      "96:\tlearn: 0.6166221\ttotal: 9.39s\tremaining: 9.98s\n",
      "97:\tlearn: 0.6162304\ttotal: 9.5s\tremaining: 9.89s\n",
      "98:\tlearn: 0.6159320\ttotal: 9.6s\tremaining: 9.79s\n",
      "99:\tlearn: 0.6156370\ttotal: 9.7s\tremaining: 9.7s\n",
      "100:\tlearn: 0.6154769\ttotal: 9.7s\tremaining: 9.51s\n",
      "101:\tlearn: 0.6151992\ttotal: 9.81s\tremaining: 9.42s\n",
      "102:\tlearn: 0.6149011\ttotal: 9.91s\tremaining: 9.33s\n",
      "103:\tlearn: 0.6145232\ttotal: 10s\tremaining: 9.24s\n",
      "104:\tlearn: 0.6140936\ttotal: 10.1s\tremaining: 9.14s\n",
      "105:\tlearn: 0.6137947\ttotal: 10.2s\tremaining: 9.05s\n",
      "106:\tlearn: 0.6134539\ttotal: 10.3s\tremaining: 8.96s\n",
      "107:\tlearn: 0.6130332\ttotal: 10.4s\tremaining: 8.88s\n",
      "108:\tlearn: 0.6129184\ttotal: 10.4s\tremaining: 8.71s\n",
      "109:\tlearn: 0.6125162\ttotal: 10.5s\tremaining: 8.62s\n",
      "110:\tlearn: 0.6121291\ttotal: 10.6s\tremaining: 8.53s\n",
      "111:\tlearn: 0.6117019\ttotal: 10.7s\tremaining: 8.44s\n",
      "112:\tlearn: 0.6113299\ttotal: 10.8s\tremaining: 8.35s\n",
      "113:\tlearn: 0.6110416\ttotal: 11s\tremaining: 8.26s\n",
      "114:\tlearn: 0.6107402\ttotal: 11s\tremaining: 8.16s\n",
      "115:\tlearn: 0.6104858\ttotal: 11.1s\tremaining: 8.07s\n",
      "116:\tlearn: 0.6101538\ttotal: 11.3s\tremaining: 7.99s\n",
      "117:\tlearn: 0.6099100\ttotal: 11.4s\tremaining: 7.9s\n",
      "118:\tlearn: 0.6096027\ttotal: 11.5s\tremaining: 7.8s\n",
      "119:\tlearn: 0.6092688\ttotal: 11.6s\tremaining: 7.71s\n",
      "120:\tlearn: 0.6089372\ttotal: 11.7s\tremaining: 7.62s\n",
      "121:\tlearn: 0.6085907\ttotal: 11.8s\tremaining: 7.53s\n",
      "122:\tlearn: 0.6082193\ttotal: 11.9s\tremaining: 7.44s\n",
      "123:\tlearn: 0.6079873\ttotal: 12s\tremaining: 7.35s\n",
      "124:\tlearn: 0.6076875\ttotal: 12.1s\tremaining: 7.26s\n",
      "125:\tlearn: 0.6074685\ttotal: 12.2s\tremaining: 7.16s\n",
      "126:\tlearn: 0.6071891\ttotal: 12.3s\tremaining: 7.07s\n",
      "127:\tlearn: 0.6068883\ttotal: 12.4s\tremaining: 6.98s\n",
      "128:\tlearn: 0.6066607\ttotal: 12.5s\tremaining: 6.89s\n",
      "129:\tlearn: 0.6064490\ttotal: 12.6s\tremaining: 6.79s\n",
      "130:\tlearn: 0.6062323\ttotal: 12.7s\tremaining: 6.7s\n",
      "131:\tlearn: 0.6059403\ttotal: 12.8s\tremaining: 6.61s\n",
      "132:\tlearn: 0.6056552\ttotal: 12.9s\tremaining: 6.51s\n",
      "133:\tlearn: 0.6054513\ttotal: 13s\tremaining: 6.42s\n",
      "134:\tlearn: 0.6052225\ttotal: 13.1s\tremaining: 6.32s\n",
      "135:\tlearn: 0.6049583\ttotal: 13.2s\tremaining: 6.22s\n",
      "136:\tlearn: 0.6046822\ttotal: 13.3s\tremaining: 6.13s\n",
      "137:\tlearn: 0.6043643\ttotal: 13.4s\tremaining: 6.04s\n",
      "138:\tlearn: 0.6040667\ttotal: 13.5s\tremaining: 5.94s\n",
      "139:\tlearn: 0.6038749\ttotal: 13.6s\tremaining: 5.84s\n",
      "140:\tlearn: 0.6036173\ttotal: 13.7s\tremaining: 5.75s\n",
      "141:\tlearn: 0.6033508\ttotal: 13.8s\tremaining: 5.65s\n",
      "142:\tlearn: 0.6031770\ttotal: 13.9s\tremaining: 5.56s\n",
      "143:\tlearn: 0.6029012\ttotal: 14s\tremaining: 5.46s\n",
      "144:\tlearn: 0.6026516\ttotal: 14.1s\tremaining: 5.36s\n",
      "145:\tlearn: 0.6023861\ttotal: 14.3s\tremaining: 5.27s\n",
      "146:\tlearn: 0.6021010\ttotal: 14.4s\tremaining: 5.18s\n",
      "147:\tlearn: 0.6018312\ttotal: 14.5s\tremaining: 5.08s\n",
      "148:\tlearn: 0.6015972\ttotal: 14.6s\tremaining: 4.98s\n",
      "149:\tlearn: 0.6014187\ttotal: 14.7s\tremaining: 4.89s\n",
      "150:\tlearn: 0.6011592\ttotal: 14.8s\tremaining: 4.79s\n",
      "151:\tlearn: 0.6009056\ttotal: 14.9s\tremaining: 4.7s\n",
      "152:\tlearn: 0.6006944\ttotal: 15s\tremaining: 4.6s\n",
      "153:\tlearn: 0.6004854\ttotal: 15.1s\tremaining: 4.5s\n",
      "154:\tlearn: 0.6002339\ttotal: 15.2s\tremaining: 4.4s\n",
      "155:\tlearn: 0.6000364\ttotal: 15.3s\tremaining: 4.31s\n",
      "156:\tlearn: 0.5997453\ttotal: 15.4s\tremaining: 4.21s\n",
      "157:\tlearn: 0.5995013\ttotal: 15.5s\tremaining: 4.12s\n",
      "158:\tlearn: 0.5993448\ttotal: 15.6s\tremaining: 4.02s\n",
      "159:\tlearn: 0.5991085\ttotal: 15.7s\tremaining: 3.92s\n",
      "160:\tlearn: 0.5987991\ttotal: 15.8s\tremaining: 3.83s\n",
      "161:\tlearn: 0.5985964\ttotal: 15.9s\tremaining: 3.73s\n",
      "162:\tlearn: 0.5983726\ttotal: 16s\tremaining: 3.63s\n",
      "163:\tlearn: 0.5983172\ttotal: 16s\tremaining: 3.51s\n",
      "164:\tlearn: 0.5981452\ttotal: 16.1s\tremaining: 3.42s\n",
      "165:\tlearn: 0.5979883\ttotal: 16.2s\tremaining: 3.32s\n",
      "166:\tlearn: 0.5978208\ttotal: 16.3s\tremaining: 3.22s\n",
      "167:\tlearn: 0.5975949\ttotal: 16.4s\tremaining: 3.12s\n",
      "168:\tlearn: 0.5973953\ttotal: 16.5s\tremaining: 3.03s\n",
      "169:\tlearn: 0.5972271\ttotal: 16.6s\tremaining: 2.93s\n",
      "170:\tlearn: 0.5969318\ttotal: 16.7s\tremaining: 2.83s\n",
      "171:\tlearn: 0.5967316\ttotal: 16.8s\tremaining: 2.74s\n",
      "172:\tlearn: 0.5966154\ttotal: 16.9s\tremaining: 2.64s\n",
      "173:\tlearn: 0.5964190\ttotal: 17s\tremaining: 2.54s\n",
      "174:\tlearn: 0.5962487\ttotal: 17.1s\tremaining: 2.44s\n",
      "175:\tlearn: 0.5959906\ttotal: 17.2s\tremaining: 2.35s\n",
      "176:\tlearn: 0.5957780\ttotal: 17.3s\tremaining: 2.25s\n",
      "177:\tlearn: 0.5956518\ttotal: 17.4s\tremaining: 2.15s\n",
      "178:\tlearn: 0.5954705\ttotal: 17.5s\tremaining: 2.06s\n",
      "179:\tlearn: 0.5953268\ttotal: 17.6s\tremaining: 1.96s\n",
      "180:\tlearn: 0.5951037\ttotal: 17.7s\tremaining: 1.86s\n",
      "181:\tlearn: 0.5948813\ttotal: 17.9s\tremaining: 1.77s\n",
      "182:\tlearn: 0.5947176\ttotal: 18s\tremaining: 1.67s\n",
      "183:\tlearn: 0.5946660\ttotal: 18s\tremaining: 1.57s\n",
      "184:\tlearn: 0.5945160\ttotal: 18.1s\tremaining: 1.47s\n",
      "185:\tlearn: 0.5942580\ttotal: 18.2s\tremaining: 1.37s\n",
      "186:\tlearn: 0.5940170\ttotal: 18.3s\tremaining: 1.27s\n",
      "187:\tlearn: 0.5938050\ttotal: 18.4s\tremaining: 1.18s\n",
      "188:\tlearn: 0.5936406\ttotal: 18.5s\tremaining: 1.08s\n",
      "189:\tlearn: 0.5934041\ttotal: 18.6s\tremaining: 982ms\n",
      "190:\tlearn: 0.5932706\ttotal: 18.7s\tremaining: 883ms\n",
      "191:\tlearn: 0.5930891\ttotal: 18.8s\tremaining: 785ms\n",
      "192:\tlearn: 0.5930471\ttotal: 18.9s\tremaining: 684ms\n",
      "193:\tlearn: 0.5928768\ttotal: 19s\tremaining: 586ms\n",
      "194:\tlearn: 0.5926917\ttotal: 19.1s\tremaining: 489ms\n",
      "195:\tlearn: 0.5925507\ttotal: 19.2s\tremaining: 391ms\n",
      "196:\tlearn: 0.5923246\ttotal: 19.3s\tremaining: 293ms\n",
      "197:\tlearn: 0.5921148\ttotal: 19.4s\tremaining: 196ms\n",
      "198:\tlearn: 0.5919334\ttotal: 19.5s\tremaining: 97.9ms\n",
      "199:\tlearn: 0.5917436\ttotal: 19.6s\tremaining: 0us\n",
      "Best Score: 0.6575581130566862\n",
      "Best Hyperparameters: {'subsample': 0.8, 'learning_rate': 0.01, 'iterations': 200, 'depth': 12, 'colsample_bylevel': 0.8}\n"
     ]
    }
   ],
   "source": [
    "\n",
    "from catboost import CatBoostClassifier\n",
    "from sklearn.model_selection import RandomizedSearchCV\n",
    "\n",
    "# Define the CatBoost model\n",
    "model = CatBoostClassifier()\n",
    "\n",
    "# Define the search space (parameter grid)\n",
    "param_grid = {\n",
    "    'iterations': [100, 200, 300],  # Number of boosting rounds\n",
    "    'depth': [8,10,12],  # Maximum tree depth\n",
    "    'learning_rate': [0.01, 0.1, 0.2, 0.3],  # Step size shrinkage used in update\n",
    "    'subsample': [0.7, 0.8, 0.9, 1.0],  # Fraction of samples used for fitting the trees \n",
    "    'colsample_bylevel': [0.7, 0.8, 0.9, 1.0],  # Fraction of features used for fitting the trees at each level\n",
    "}\n",
    "\n",
    "# Create a RandomizedSearchCV object\n",
    "search = RandomizedSearchCV(model, param_distributions=param_grid, n_iter=10, cv=5, scoring='accuracy', n_jobs=-1, random_state=1)\n",
    "\n",
    "# Execute the search\n",
    "result = search.fit(X_train, y_train)\n",
    "\n",
    "best_param_Xgboost_bin = result.best_params_\n",
    "\n",
    "# Summarize the results\n",
    "print('Best Score: %s' % result.best_score_)\n",
    "print('Best Hyperparameters: %s' % result.best_params_)"
   ]
  },
  {
   "cell_type": "code",
   "execution_count": 63,
   "metadata": {},
   "outputs": [
    {
     "name": "stdout",
     "output_type": "stream",
     "text": [
      "0:\tlearn: 0.6915302\ttotal: 131ms\tremaining: 26s\n",
      "1:\tlearn: 0.6901489\ttotal: 174ms\tremaining: 17.3s\n",
      "2:\tlearn: 0.6886102\ttotal: 286ms\tremaining: 18.8s\n",
      "3:\tlearn: 0.6870817\ttotal: 397ms\tremaining: 19.4s\n",
      "4:\tlearn: 0.6855858\ttotal: 512ms\tremaining: 20s\n",
      "5:\tlearn: 0.6841068\ttotal: 616ms\tremaining: 19.9s\n",
      "6:\tlearn: 0.6826000\ttotal: 732ms\tremaining: 20.2s\n",
      "7:\tlearn: 0.6811775\ttotal: 844ms\tremaining: 20.2s\n",
      "8:\tlearn: 0.6797021\ttotal: 952ms\tremaining: 20.2s\n",
      "9:\tlearn: 0.6784006\ttotal: 1.06s\tremaining: 20.2s\n",
      "10:\tlearn: 0.6770864\ttotal: 1.17s\tremaining: 20.1s\n",
      "11:\tlearn: 0.6759400\ttotal: 1.19s\tremaining: 18.7s\n",
      "12:\tlearn: 0.6750025\ttotal: 1.2s\tremaining: 17.3s\n",
      "13:\tlearn: 0.6737678\ttotal: 1.31s\tremaining: 17.4s\n",
      "14:\tlearn: 0.6725654\ttotal: 1.42s\tremaining: 17.5s\n",
      "15:\tlearn: 0.6713736\ttotal: 1.52s\tremaining: 17.5s\n",
      "16:\tlearn: 0.6700452\ttotal: 1.64s\tremaining: 17.6s\n",
      "17:\tlearn: 0.6689240\ttotal: 1.68s\tremaining: 17s\n",
      "18:\tlearn: 0.6679440\ttotal: 1.7s\tremaining: 16.2s\n",
      "19:\tlearn: 0.6669566\ttotal: 1.71s\tremaining: 15.4s\n",
      "20:\tlearn: 0.6657909\ttotal: 1.82s\tremaining: 15.6s\n",
      "21:\tlearn: 0.6646669\ttotal: 1.93s\tremaining: 15.6s\n",
      "22:\tlearn: 0.6636346\ttotal: 2.04s\tremaining: 15.7s\n",
      "23:\tlearn: 0.6625315\ttotal: 2.15s\tremaining: 15.8s\n",
      "24:\tlearn: 0.6614948\ttotal: 2.26s\tremaining: 15.8s\n",
      "25:\tlearn: 0.6604612\ttotal: 2.37s\tremaining: 15.9s\n",
      "26:\tlearn: 0.6594981\ttotal: 2.48s\tremaining: 15.9s\n",
      "27:\tlearn: 0.6584048\ttotal: 2.6s\tremaining: 16s\n",
      "28:\tlearn: 0.6573870\ttotal: 2.71s\tremaining: 16s\n",
      "29:\tlearn: 0.6564480\ttotal: 2.82s\tremaining: 16s\n",
      "30:\tlearn: 0.6555218\ttotal: 2.93s\tremaining: 16s\n",
      "31:\tlearn: 0.6546125\ttotal: 3.03s\tremaining: 15.9s\n",
      "32:\tlearn: 0.6537167\ttotal: 3.13s\tremaining: 15.9s\n",
      "33:\tlearn: 0.6531890\ttotal: 3.14s\tremaining: 15.3s\n",
      "34:\tlearn: 0.6523134\ttotal: 3.25s\tremaining: 15.3s\n",
      "35:\tlearn: 0.6514457\ttotal: 3.35s\tremaining: 15.3s\n",
      "36:\tlearn: 0.6505541\ttotal: 3.46s\tremaining: 15.2s\n",
      "37:\tlearn: 0.6496942\ttotal: 3.56s\tremaining: 15.2s\n",
      "38:\tlearn: 0.6488147\ttotal: 3.67s\tremaining: 15.2s\n",
      "39:\tlearn: 0.6480301\ttotal: 3.78s\tremaining: 15.1s\n",
      "40:\tlearn: 0.6472438\ttotal: 3.89s\tremaining: 15.1s\n",
      "41:\tlearn: 0.6464616\ttotal: 4s\tremaining: 15s\n",
      "42:\tlearn: 0.6456769\ttotal: 4.1s\tremaining: 15s\n",
      "43:\tlearn: 0.6450425\ttotal: 4.13s\tremaining: 14.6s\n",
      "44:\tlearn: 0.6442538\ttotal: 4.24s\tremaining: 14.6s\n",
      "45:\tlearn: 0.6434840\ttotal: 4.34s\tremaining: 14.5s\n",
      "46:\tlearn: 0.6426725\ttotal: 4.45s\tremaining: 14.5s\n",
      "47:\tlearn: 0.6420024\ttotal: 4.56s\tremaining: 14.4s\n",
      "48:\tlearn: 0.6412733\ttotal: 4.67s\tremaining: 14.4s\n",
      "49:\tlearn: 0.6405250\ttotal: 4.78s\tremaining: 14.3s\n",
      "50:\tlearn: 0.6398154\ttotal: 4.89s\tremaining: 14.3s\n",
      "51:\tlearn: 0.6391562\ttotal: 5s\tremaining: 14.2s\n",
      "52:\tlearn: 0.6383952\ttotal: 5.12s\tremaining: 14.2s\n",
      "53:\tlearn: 0.6377198\ttotal: 5.23s\tremaining: 14.1s\n",
      "54:\tlearn: 0.6371793\ttotal: 5.33s\tremaining: 14s\n",
      "55:\tlearn: 0.6364862\ttotal: 5.45s\tremaining: 14s\n",
      "56:\tlearn: 0.6358997\ttotal: 5.56s\tremaining: 13.9s\n",
      "57:\tlearn: 0.6352936\ttotal: 5.67s\tremaining: 13.9s\n",
      "58:\tlearn: 0.6345831\ttotal: 5.78s\tremaining: 13.8s\n",
      "59:\tlearn: 0.6339663\ttotal: 5.89s\tremaining: 13.7s\n",
      "60:\tlearn: 0.6334075\ttotal: 6s\tremaining: 13.7s\n",
      "61:\tlearn: 0.6327874\ttotal: 6.11s\tremaining: 13.6s\n",
      "62:\tlearn: 0.6321519\ttotal: 6.22s\tremaining: 13.5s\n",
      "63:\tlearn: 0.6315732\ttotal: 6.33s\tremaining: 13.5s\n",
      "64:\tlearn: 0.6311103\ttotal: 6.43s\tremaining: 13.4s\n",
      "65:\tlearn: 0.6306189\ttotal: 6.54s\tremaining: 13.3s\n",
      "66:\tlearn: 0.6302390\ttotal: 6.55s\tremaining: 13s\n",
      "67:\tlearn: 0.6296833\ttotal: 6.67s\tremaining: 12.9s\n",
      "68:\tlearn: 0.6292009\ttotal: 6.77s\tremaining: 12.9s\n",
      "69:\tlearn: 0.6286491\ttotal: 6.89s\tremaining: 12.8s\n",
      "70:\tlearn: 0.6280518\ttotal: 7s\tremaining: 12.7s\n",
      "71:\tlearn: 0.6277500\ttotal: 7.01s\tremaining: 12.5s\n",
      "72:\tlearn: 0.6271498\ttotal: 7.14s\tremaining: 12.4s\n",
      "73:\tlearn: 0.6265629\ttotal: 7.25s\tremaining: 12.3s\n",
      "74:\tlearn: 0.6260453\ttotal: 7.37s\tremaining: 12.3s\n",
      "75:\tlearn: 0.6255139\ttotal: 7.49s\tremaining: 12.2s\n",
      "76:\tlearn: 0.6250776\ttotal: 7.61s\tremaining: 12.2s\n",
      "77:\tlearn: 0.6247252\ttotal: 7.64s\tremaining: 12s\n",
      "78:\tlearn: 0.6242030\ttotal: 7.76s\tremaining: 11.9s\n",
      "79:\tlearn: 0.6237355\ttotal: 7.88s\tremaining: 11.8s\n",
      "80:\tlearn: 0.6232721\ttotal: 7.99s\tremaining: 11.7s\n",
      "81:\tlearn: 0.6228647\ttotal: 8.09s\tremaining: 11.6s\n",
      "82:\tlearn: 0.6225375\ttotal: 8.2s\tremaining: 11.6s\n",
      "83:\tlearn: 0.6219868\ttotal: 8.32s\tremaining: 11.5s\n",
      "84:\tlearn: 0.6214678\ttotal: 8.44s\tremaining: 11.4s\n",
      "85:\tlearn: 0.6210172\ttotal: 8.54s\tremaining: 11.3s\n",
      "86:\tlearn: 0.6204829\ttotal: 8.64s\tremaining: 11.2s\n",
      "87:\tlearn: 0.6200976\ttotal: 8.75s\tremaining: 11.1s\n",
      "88:\tlearn: 0.6197267\ttotal: 8.86s\tremaining: 11s\n",
      "89:\tlearn: 0.6193475\ttotal: 8.97s\tremaining: 11s\n",
      "90:\tlearn: 0.6189010\ttotal: 9.09s\tremaining: 10.9s\n",
      "91:\tlearn: 0.6185331\ttotal: 9.21s\tremaining: 10.8s\n",
      "92:\tlearn: 0.6180707\ttotal: 9.32s\tremaining: 10.7s\n",
      "93:\tlearn: 0.6176604\ttotal: 9.44s\tremaining: 10.6s\n",
      "94:\tlearn: 0.6173047\ttotal: 9.55s\tremaining: 10.6s\n",
      "95:\tlearn: 0.6170038\ttotal: 9.67s\tremaining: 10.5s\n",
      "96:\tlearn: 0.6166221\ttotal: 9.78s\tremaining: 10.4s\n",
      "97:\tlearn: 0.6162304\ttotal: 9.96s\tremaining: 10.4s\n",
      "98:\tlearn: 0.6159320\ttotal: 10.1s\tremaining: 10.3s\n",
      "99:\tlearn: 0.6156370\ttotal: 10.2s\tremaining: 10.2s\n",
      "100:\tlearn: 0.6154769\ttotal: 10.2s\tremaining: 9.99s\n",
      "101:\tlearn: 0.6151992\ttotal: 10.3s\tremaining: 9.91s\n",
      "102:\tlearn: 0.6149011\ttotal: 10.4s\tremaining: 9.81s\n",
      "103:\tlearn: 0.6145232\ttotal: 10.5s\tremaining: 9.74s\n",
      "104:\tlearn: 0.6140936\ttotal: 10.7s\tremaining: 9.66s\n",
      "105:\tlearn: 0.6137947\ttotal: 10.8s\tremaining: 9.57s\n",
      "106:\tlearn: 0.6134539\ttotal: 10.9s\tremaining: 9.49s\n",
      "107:\tlearn: 0.6130332\ttotal: 11s\tremaining: 9.41s\n",
      "108:\tlearn: 0.6129184\ttotal: 11.1s\tremaining: 9.23s\n",
      "109:\tlearn: 0.6125162\ttotal: 11.2s\tremaining: 9.14s\n",
      "110:\tlearn: 0.6121291\ttotal: 11.3s\tremaining: 9.04s\n",
      "111:\tlearn: 0.6117019\ttotal: 11.4s\tremaining: 8.94s\n",
      "112:\tlearn: 0.6113299\ttotal: 11.5s\tremaining: 8.85s\n",
      "113:\tlearn: 0.6110416\ttotal: 11.6s\tremaining: 8.75s\n",
      "114:\tlearn: 0.6107402\ttotal: 11.7s\tremaining: 8.65s\n",
      "115:\tlearn: 0.6104858\ttotal: 11.8s\tremaining: 8.55s\n",
      "116:\tlearn: 0.6101538\ttotal: 11.9s\tremaining: 8.45s\n",
      "117:\tlearn: 0.6099100\ttotal: 12s\tremaining: 8.35s\n",
      "118:\tlearn: 0.6096027\ttotal: 12.1s\tremaining: 8.26s\n",
      "119:\tlearn: 0.6092688\ttotal: 12.2s\tremaining: 8.16s\n",
      "120:\tlearn: 0.6089372\ttotal: 12.3s\tremaining: 8.06s\n",
      "121:\tlearn: 0.6085907\ttotal: 12.5s\tremaining: 7.97s\n",
      "122:\tlearn: 0.6082193\ttotal: 12.6s\tremaining: 7.87s\n",
      "123:\tlearn: 0.6079873\ttotal: 12.7s\tremaining: 7.77s\n",
      "124:\tlearn: 0.6076875\ttotal: 12.8s\tremaining: 7.68s\n",
      "125:\tlearn: 0.6074685\ttotal: 12.9s\tremaining: 7.58s\n",
      "126:\tlearn: 0.6071891\ttotal: 13s\tremaining: 7.48s\n",
      "127:\tlearn: 0.6068883\ttotal: 13.1s\tremaining: 7.38s\n",
      "128:\tlearn: 0.6066607\ttotal: 13.2s\tremaining: 7.28s\n",
      "129:\tlearn: 0.6064490\ttotal: 13.3s\tremaining: 7.17s\n",
      "130:\tlearn: 0.6062323\ttotal: 13.4s\tremaining: 7.07s\n",
      "131:\tlearn: 0.6059403\ttotal: 13.5s\tremaining: 6.97s\n",
      "132:\tlearn: 0.6056552\ttotal: 13.6s\tremaining: 6.87s\n",
      "133:\tlearn: 0.6054513\ttotal: 13.7s\tremaining: 6.77s\n",
      "134:\tlearn: 0.6052225\ttotal: 13.9s\tremaining: 6.67s\n",
      "135:\tlearn: 0.6049583\ttotal: 14s\tremaining: 6.57s\n",
      "136:\tlearn: 0.6046822\ttotal: 14.1s\tremaining: 6.46s\n",
      "137:\tlearn: 0.6043643\ttotal: 14.2s\tremaining: 6.37s\n",
      "138:\tlearn: 0.6040667\ttotal: 14.3s\tremaining: 6.26s\n",
      "139:\tlearn: 0.6038749\ttotal: 14.4s\tremaining: 6.16s\n",
      "140:\tlearn: 0.6036173\ttotal: 14.5s\tremaining: 6.06s\n",
      "141:\tlearn: 0.6033508\ttotal: 14.6s\tremaining: 5.95s\n",
      "142:\tlearn: 0.6031770\ttotal: 14.7s\tremaining: 5.85s\n",
      "143:\tlearn: 0.6029012\ttotal: 14.8s\tremaining: 5.75s\n",
      "144:\tlearn: 0.6026516\ttotal: 14.9s\tremaining: 5.64s\n",
      "145:\tlearn: 0.6023861\ttotal: 15s\tremaining: 5.54s\n",
      "146:\tlearn: 0.6021010\ttotal: 15.1s\tremaining: 5.44s\n",
      "147:\tlearn: 0.6018312\ttotal: 15.2s\tremaining: 5.34s\n",
      "148:\tlearn: 0.6015972\ttotal: 15.3s\tremaining: 5.24s\n",
      "149:\tlearn: 0.6014187\ttotal: 15.4s\tremaining: 5.14s\n",
      "150:\tlearn: 0.6011592\ttotal: 15.5s\tremaining: 5.03s\n",
      "151:\tlearn: 0.6009056\ttotal: 15.6s\tremaining: 4.93s\n",
      "152:\tlearn: 0.6006944\ttotal: 15.7s\tremaining: 4.83s\n",
      "153:\tlearn: 0.6004854\ttotal: 15.8s\tremaining: 4.73s\n",
      "154:\tlearn: 0.6002339\ttotal: 15.9s\tremaining: 4.62s\n",
      "155:\tlearn: 0.6000364\ttotal: 16s\tremaining: 4.52s\n",
      "156:\tlearn: 0.5997453\ttotal: 16.1s\tremaining: 4.42s\n",
      "157:\tlearn: 0.5995013\ttotal: 16.2s\tremaining: 4.32s\n",
      "158:\tlearn: 0.5993448\ttotal: 16.3s\tremaining: 4.21s\n",
      "159:\tlearn: 0.5991085\ttotal: 16.4s\tremaining: 4.11s\n",
      "160:\tlearn: 0.5987991\ttotal: 16.5s\tremaining: 4.01s\n",
      "161:\tlearn: 0.5985964\ttotal: 16.6s\tremaining: 3.9s\n",
      "162:\tlearn: 0.5983726\ttotal: 16.7s\tremaining: 3.8s\n",
      "163:\tlearn: 0.5983172\ttotal: 16.8s\tremaining: 3.68s\n",
      "164:\tlearn: 0.5981452\ttotal: 16.9s\tremaining: 3.58s\n",
      "165:\tlearn: 0.5979883\ttotal: 17s\tremaining: 3.48s\n",
      "166:\tlearn: 0.5978208\ttotal: 17.1s\tremaining: 3.37s\n",
      "167:\tlearn: 0.5975949\ttotal: 17.2s\tremaining: 3.27s\n",
      "168:\tlearn: 0.5973953\ttotal: 17.3s\tremaining: 3.17s\n",
      "169:\tlearn: 0.5972271\ttotal: 17.4s\tremaining: 3.07s\n",
      "170:\tlearn: 0.5969318\ttotal: 17.5s\tremaining: 2.97s\n",
      "171:\tlearn: 0.5967316\ttotal: 17.6s\tremaining: 2.86s\n",
      "172:\tlearn: 0.5966154\ttotal: 17.7s\tremaining: 2.76s\n",
      "173:\tlearn: 0.5964190\ttotal: 17.8s\tremaining: 2.66s\n",
      "174:\tlearn: 0.5962487\ttotal: 17.9s\tremaining: 2.56s\n",
      "175:\tlearn: 0.5959906\ttotal: 18s\tremaining: 2.46s\n",
      "176:\tlearn: 0.5957780\ttotal: 18.1s\tremaining: 2.35s\n",
      "177:\tlearn: 0.5956518\ttotal: 18.2s\tremaining: 2.25s\n",
      "178:\tlearn: 0.5954705\ttotal: 18.3s\tremaining: 2.15s\n",
      "179:\tlearn: 0.5953268\ttotal: 18.4s\tremaining: 2.05s\n",
      "180:\tlearn: 0.5951037\ttotal: 18.5s\tremaining: 1.94s\n",
      "181:\tlearn: 0.5948813\ttotal: 18.6s\tremaining: 1.84s\n",
      "182:\tlearn: 0.5947176\ttotal: 18.8s\tremaining: 1.74s\n",
      "183:\tlearn: 0.5946660\ttotal: 18.8s\tremaining: 1.63s\n",
      "184:\tlearn: 0.5945160\ttotal: 18.9s\tremaining: 1.53s\n",
      "185:\tlearn: 0.5942580\ttotal: 19s\tremaining: 1.43s\n",
      "186:\tlearn: 0.5940170\ttotal: 19.1s\tremaining: 1.33s\n",
      "187:\tlearn: 0.5938050\ttotal: 19.2s\tremaining: 1.23s\n",
      "188:\tlearn: 0.5936406\ttotal: 19.3s\tremaining: 1.13s\n",
      "189:\tlearn: 0.5934041\ttotal: 19.5s\tremaining: 1.02s\n",
      "190:\tlearn: 0.5932706\ttotal: 19.6s\tremaining: 922ms\n",
      "191:\tlearn: 0.5930891\ttotal: 19.7s\tremaining: 820ms\n",
      "192:\tlearn: 0.5930471\ttotal: 19.7s\tremaining: 714ms\n",
      "193:\tlearn: 0.5928768\ttotal: 19.8s\tremaining: 612ms\n",
      "194:\tlearn: 0.5926917\ttotal: 19.9s\tremaining: 510ms\n",
      "195:\tlearn: 0.5925507\ttotal: 20s\tremaining: 408ms\n",
      "196:\tlearn: 0.5923246\ttotal: 20.1s\tremaining: 306ms\n",
      "197:\tlearn: 0.5921148\ttotal: 20.2s\tremaining: 204ms\n",
      "198:\tlearn: 0.5919334\ttotal: 20.3s\tremaining: 102ms\n",
      "199:\tlearn: 0.5917436\ttotal: 20.4s\tremaining: 0us\n"
     ]
    }
   ],
   "source": [
    "#best_params = {'subsample': 0.8, 'learning_rate': 0.01, 'iterations': 100, 'depth': 12, 'colsample_bylevel': 0.8}\n",
    "model = CatBoostClassifier(**best_param_Xgboost_bin)\n",
    "\n",
    "start_time = time.time()\n",
    "\n",
    "model.fit(X_train, y_train)\n",
    "\n",
    "end_time = time.time()\n",
    "CatBoost_time = end_time - start_time"
   ]
  },
  {
   "cell_type": "code",
   "execution_count": 64,
   "metadata": {},
   "outputs": [
    {
     "name": "stdout",
     "output_type": "stream",
     "text": [
      "              precision    recall  f1-score   support\n",
      "\n",
      "           0       0.66      0.66      0.66      4246\n",
      "           1       0.65      0.65      0.65      4117\n",
      "\n",
      "    accuracy                           0.66      8363\n",
      "   macro avg       0.66      0.66      0.66      8363\n",
      "weighted avg       0.66      0.66      0.66      8363\n",
      "\n"
     ]
    }
   ],
   "source": [
    "# Prediction with best model from random search \n",
    "y_pred_test = model.predict(X_test)\n",
    "y_pred_test_prob = model.predict_proba(X_test)\n",
    "\n",
    "print(classification_report(y_test, y_pred_test))"
   ]
  },
  {
   "cell_type": "code",
   "execution_count": 65,
   "metadata": {},
   "outputs": [
    {
     "data": {
      "text/plain": [
       "0.6568217146956834"
      ]
     },
     "execution_count": 65,
     "metadata": {},
     "output_type": "execute_result"
    }
   ],
   "source": [
    "catboost_score_bin = accuracy_score(y_test, y_pred_test)\n",
    "catboost_score_bin"
   ]
  },
  {
   "cell_type": "markdown",
   "metadata": {},
   "source": [
    "# Logistic Regression"
   ]
  },
  {
   "cell_type": "code",
   "execution_count": 66,
   "metadata": {},
   "outputs": [
    {
     "name": "stderr",
     "output_type": "stream",
     "text": [
      "c:\\Users\\mathi\\anaconda3\\envs\\Keras\\lib\\site-packages\\sklearn\\model_selection\\_validation.py:378: FitFailedWarning: \n",
      "10 fits failed out of a total of 50.\n",
      "The score on these train-test partitions for these parameters will be set to nan.\n",
      "If these failures are not expected, you can try to debug them by setting error_score='raise'.\n",
      "\n",
      "Below are more details about the failures:\n",
      "--------------------------------------------------------------------------------\n",
      "10 fits failed with the following error:\n",
      "Traceback (most recent call last):\n",
      "  File \"c:\\Users\\mathi\\anaconda3\\envs\\Keras\\lib\\site-packages\\sklearn\\model_selection\\_validation.py\", line 686, in _fit_and_score\n",
      "    estimator.fit(X_train, y_train, **fit_params)\n",
      "  File \"c:\\Users\\mathi\\anaconda3\\envs\\Keras\\lib\\site-packages\\sklearn\\linear_model\\_logistic.py\", line 1162, in fit\n",
      "    solver = _check_solver(self.solver, self.penalty, self.dual)\n",
      "  File \"c:\\Users\\mathi\\anaconda3\\envs\\Keras\\lib\\site-packages\\sklearn\\linear_model\\_logistic.py\", line 54, in _check_solver\n",
      "    raise ValueError(\n",
      "ValueError: Solver sag supports only 'l2' or 'none' penalties, got l1 penalty.\n",
      "\n",
      "  warnings.warn(some_fits_failed_message, FitFailedWarning)\n",
      "c:\\Users\\mathi\\anaconda3\\envs\\Keras\\lib\\site-packages\\sklearn\\model_selection\\_search.py:952: UserWarning: One or more of the test scores are non-finite: [0.64254984 0.50185419 0.50215315        nan 0.50218307]\n",
      "  warnings.warn(\n"
     ]
    },
    {
     "name": "stdout",
     "output_type": "stream",
     "text": [
      "Best Score: 0.6425498405103667\n",
      "Best Hyperparameters: {'solver': 'liblinear', 'penalty': 'l2', 'C': 1.0}\n"
     ]
    }
   ],
   "source": [
    "from sklearn.linear_model import LogisticRegression\n",
    "\n",
    "# Define model\n",
    "model = LogisticRegression()\n",
    "\n",
    "# define evaluation\n",
    "# gkf = GroupKFold(n_splits=3) if not spec as cv= in the randomized search default is 5 fold cv\n",
    "\n",
    "# define search space\n",
    "param_grid = {\n",
    "    'C' : np.logspace(0, 4, num=10),\n",
    "    'penalty' : ['l1', 'l2'],\n",
    "    'solver' : ['liblinear', 'sag']\n",
    "}\n",
    "\n",
    "search = RandomizedSearchCV(model, param_grid, n_iter=5, cv=10, scoring='accuracy', n_jobs=-1, random_state=1)\n",
    "\n",
    "# execute search\n",
    "result = search.fit(X_train, y_train)\n",
    "\n",
    "best_params_logist_reg_bin = result.best_params_\n",
    "# summarize result\n",
    "print('Best Score: %s' % result.best_score_)\n",
    "print('Best Hyperparameters: %s' % result.best_params_)"
   ]
  },
  {
   "cell_type": "code",
   "execution_count": 67,
   "metadata": {},
   "outputs": [],
   "source": [
    "# # Prediction with best model from random search \n",
    "\n",
    "model = LogisticRegression(**best_params_logist_reg_bin)\n",
    "\n",
    "start_time = time.time()\n",
    "\n",
    "model.fit(X_train,y_train)\n",
    "\n",
    "end_time = time.time()\n",
    "Logisti_reg_time = end_time - start_time"
   ]
  },
  {
   "cell_type": "code",
   "execution_count": 68,
   "metadata": {},
   "outputs": [
    {
     "name": "stdout",
     "output_type": "stream",
     "text": [
      "              precision    recall  f1-score   support\n",
      "\n",
      "           0       0.64      0.70      0.67      4246\n",
      "           1       0.66      0.60      0.63      4117\n",
      "\n",
      "    accuracy                           0.65      8363\n",
      "   macro avg       0.65      0.65      0.65      8363\n",
      "weighted avg       0.65      0.65      0.65      8363\n",
      "\n"
     ]
    }
   ],
   "source": [
    "# y_pred_test = best_random.predict(X_test)\n",
    "y_pred_test = model.predict(X_test)\n",
    "y_pred_test_prob = model.predict_proba(X_test)\n",
    "\n",
    "print(classification_report(y_test, y_pred_test))"
   ]
  },
  {
   "cell_type": "code",
   "execution_count": 69,
   "metadata": {},
   "outputs": [
    {
     "data": {
      "text/plain": [
       "0.6501255530312089"
      ]
     },
     "execution_count": 69,
     "metadata": {},
     "output_type": "execute_result"
    }
   ],
   "source": [
    "logisti_reg_score_bin = accuracy_score(y_test, y_pred_test)\n",
    "logisti_reg_score_bin"
   ]
  },
  {
   "cell_type": "markdown",
   "metadata": {},
   "source": [
    "# RandomForestClassifier"
   ]
  },
  {
   "cell_type": "code",
   "execution_count": 70,
   "metadata": {},
   "outputs": [
    {
     "name": "stdout",
     "output_type": "stream",
     "text": [
      "Best Score: 0.6415030556926355\n",
      "Best Hyperparameters: {'n_estimators': 180, 'max_depth': 55}\n"
     ]
    }
   ],
   "source": [
    "# Define model\n",
    "model = RandomForestClassifier()\n",
    "\n",
    "# define evaluation\n",
    "#gkf = GroupKFold(n_splits=3) if not spec as cv= in the randomized search default is 5 fold cv\n",
    "\n",
    "# define search space\n",
    "param_grid = {\n",
    "    'max_depth': list(range(25, 100, 10)),\n",
    "    'n_estimators': list(range(80, 200, 10))\n",
    "}\n",
    "\n",
    "search = RandomizedSearchCV(model, param_grid, n_iter=5, cv=10, scoring='accuracy', n_jobs=-1, random_state=1)\n",
    "\n",
    "# execute search\n",
    "result = search.fit(X_train, y_train)\n",
    "\n",
    "best_params_random_bin = result.best_params_\n",
    "# summarize result\n",
    "print('Best Score: %s' % result.best_score_)\n",
    "print('Best Hyperparameters: %s' % result.best_params_)"
   ]
  },
  {
   "cell_type": "code",
   "execution_count": 71,
   "metadata": {},
   "outputs": [],
   "source": [
    "#best_params = {'n_estimators': 120, 'max_depth': 55}\n",
    "model = RandomForestClassifier(**best_params_random_bin)\n",
    "\n",
    "start_time = time.time()\n",
    "\n",
    "model.fit(X_train, y_train)\n",
    "\n",
    "end_time = time.time()\n",
    "Random_time = end_time - start_time"
   ]
  },
  {
   "cell_type": "code",
   "execution_count": 72,
   "metadata": {},
   "outputs": [
    {
     "name": "stdout",
     "output_type": "stream",
     "text": [
      "              precision    recall  f1-score   support\n",
      "\n",
      "           0       0.65      0.64      0.64      4246\n",
      "           1       0.63      0.64      0.64      4117\n",
      "\n",
      "    accuracy                           0.64      8363\n",
      "   macro avg       0.64      0.64      0.64      8363\n",
      "weighted avg       0.64      0.64      0.64      8363\n",
      "\n"
     ]
    }
   ],
   "source": [
    "# Prediction with best model from random search \n",
    "# best_random = result.best_estimator_\n",
    "# y_pred_test = best_random.predict(X_test)\n",
    "\n",
    "y_pred_test = model.predict(X_test)\n",
    "y_pred_test_prob = model.predict_proba(X_test)\n",
    "print(classification_report(y_test, y_pred_test))\n"
   ]
  },
  {
   "cell_type": "code",
   "execution_count": 73,
   "metadata": {},
   "outputs": [
    {
     "data": {
      "text/plain": [
       "0.6400813105344972"
      ]
     },
     "execution_count": 73,
     "metadata": {},
     "output_type": "execute_result"
    }
   ],
   "source": [
    "random_score_bin = accuracy_score(y_test, y_pred_test)\n",
    "random_score_bin"
   ]
  },
  {
   "cell_type": "markdown",
   "metadata": {},
   "source": [
    "# MLPClassifier"
   ]
  },
  {
   "cell_type": "code",
   "execution_count": 74,
   "metadata": {},
   "outputs": [],
   "source": [
    "from sklearn.neural_network import MLPClassifier\n",
    "from sklearn.model_selection import GridSearchCV"
   ]
  },
  {
   "cell_type": "code",
   "execution_count": 75,
   "metadata": {},
   "outputs": [],
   "source": [
    "mlp = MLPClassifier()\n",
    "\n",
    "# Il s'agit d'une sortie binaire \n",
    "# donc la fonction d’activation des neurones de la couche de sortie est 'logistic'\n",
    "mlp.out_activation_ = 'logistic'\n",
    "mlp.n_outputs_ = 1"
   ]
  },
  {
   "cell_type": "code",
   "execution_count": 76,
   "metadata": {},
   "outputs": [],
   "source": [
    "# Grille de recherche d'hyperparamètres\n",
    "param_grid = {\n",
    "    'hidden_layer_sizes': [(30, 20, 15, 25),(50, 40, 30,20)],\n",
    "    'activation':['relu', 'tanh', 'logistic'],#['relu'],\n",
    "    'solver':  ['adam', 'lbfgs', 'sgd'],# ['adam'],\n",
    "}"
   ]
  },
  {
   "cell_type": "code",
   "execution_count": 77,
   "metadata": {},
   "outputs": [
    {
     "name": "stderr",
     "output_type": "stream",
     "text": [
      "c:\\Users\\mathi\\anaconda3\\envs\\Keras\\lib\\site-packages\\sklearn\\neural_network\\_multilayer_perceptron.py:541: ConvergenceWarning: lbfgs failed to converge (status=1):\n",
      "STOP: TOTAL NO. of ITERATIONS REACHED LIMIT.\n",
      "\n",
      "Increase the number of iterations (max_iter) or scale the data as shown in:\n",
      "    https://scikit-learn.org/stable/modules/preprocessing.html\n",
      "  self.n_iter_ = _check_optimize_result(\"lbfgs\", opt_res, self.max_iter)\n"
     ]
    },
    {
     "data": {
      "text/html": [
       "<style>#sk-container-id-7 {color: black;background-color: white;}#sk-container-id-7 pre{padding: 0;}#sk-container-id-7 div.sk-toggleable {background-color: white;}#sk-container-id-7 label.sk-toggleable__label {cursor: pointer;display: block;width: 100%;margin-bottom: 0;padding: 0.3em;box-sizing: border-box;text-align: center;}#sk-container-id-7 label.sk-toggleable__label-arrow:before {content: \"▸\";float: left;margin-right: 0.25em;color: #696969;}#sk-container-id-7 label.sk-toggleable__label-arrow:hover:before {color: black;}#sk-container-id-7 div.sk-estimator:hover label.sk-toggleable__label-arrow:before {color: black;}#sk-container-id-7 div.sk-toggleable__content {max-height: 0;max-width: 0;overflow: hidden;text-align: left;background-color: #f0f8ff;}#sk-container-id-7 div.sk-toggleable__content pre {margin: 0.2em;color: black;border-radius: 0.25em;background-color: #f0f8ff;}#sk-container-id-7 input.sk-toggleable__control:checked~div.sk-toggleable__content {max-height: 200px;max-width: 100%;overflow: auto;}#sk-container-id-7 input.sk-toggleable__control:checked~label.sk-toggleable__label-arrow:before {content: \"▾\";}#sk-container-id-7 div.sk-estimator input.sk-toggleable__control:checked~label.sk-toggleable__label {background-color: #d4ebff;}#sk-container-id-7 div.sk-label input.sk-toggleable__control:checked~label.sk-toggleable__label {background-color: #d4ebff;}#sk-container-id-7 input.sk-hidden--visually {border: 0;clip: rect(1px 1px 1px 1px);clip: rect(1px, 1px, 1px, 1px);height: 1px;margin: -1px;overflow: hidden;padding: 0;position: absolute;width: 1px;}#sk-container-id-7 div.sk-estimator {font-family: monospace;background-color: #f0f8ff;border: 1px dotted black;border-radius: 0.25em;box-sizing: border-box;margin-bottom: 0.5em;}#sk-container-id-7 div.sk-estimator:hover {background-color: #d4ebff;}#sk-container-id-7 div.sk-parallel-item::after {content: \"\";width: 100%;border-bottom: 1px solid gray;flex-grow: 1;}#sk-container-id-7 div.sk-label:hover label.sk-toggleable__label {background-color: #d4ebff;}#sk-container-id-7 div.sk-serial::before {content: \"\";position: absolute;border-left: 1px solid gray;box-sizing: border-box;top: 0;bottom: 0;left: 50%;z-index: 0;}#sk-container-id-7 div.sk-serial {display: flex;flex-direction: column;align-items: center;background-color: white;padding-right: 0.2em;padding-left: 0.2em;position: relative;}#sk-container-id-7 div.sk-item {position: relative;z-index: 1;}#sk-container-id-7 div.sk-parallel {display: flex;align-items: stretch;justify-content: center;background-color: white;position: relative;}#sk-container-id-7 div.sk-item::before, #sk-container-id-7 div.sk-parallel-item::before {content: \"\";position: absolute;border-left: 1px solid gray;box-sizing: border-box;top: 0;bottom: 0;left: 50%;z-index: -1;}#sk-container-id-7 div.sk-parallel-item {display: flex;flex-direction: column;z-index: 1;position: relative;background-color: white;}#sk-container-id-7 div.sk-parallel-item:first-child::after {align-self: flex-end;width: 50%;}#sk-container-id-7 div.sk-parallel-item:last-child::after {align-self: flex-start;width: 50%;}#sk-container-id-7 div.sk-parallel-item:only-child::after {width: 0;}#sk-container-id-7 div.sk-dashed-wrapped {border: 1px dashed gray;margin: 0 0.4em 0.5em 0.4em;box-sizing: border-box;padding-bottom: 0.4em;background-color: white;}#sk-container-id-7 div.sk-label label {font-family: monospace;font-weight: bold;display: inline-block;line-height: 1.2em;}#sk-container-id-7 div.sk-label-container {text-align: center;}#sk-container-id-7 div.sk-container {/* jupyter's `normalize.less` sets `[hidden] { display: none; }` but bootstrap.min.css set `[hidden] { display: none !important; }` so we also need the `!important` here to be able to override the default hidden behavior on the sphinx rendered scikit-learn.org. See: https://github.com/scikit-learn/scikit-learn/issues/21755 */display: inline-block !important;position: relative;}#sk-container-id-7 div.sk-text-repr-fallback {display: none;}</style><div id=\"sk-container-id-7\" class=\"sk-top-container\"><div class=\"sk-text-repr-fallback\"><pre>GridSearchCV(cv=3, estimator=MLPClassifier(), n_jobs=-1,\n",
       "             param_grid={&#x27;activation&#x27;: [&#x27;relu&#x27;, &#x27;tanh&#x27;, &#x27;logistic&#x27;],\n",
       "                         &#x27;hidden_layer_sizes&#x27;: [(30, 20, 15, 25),\n",
       "                                                (50, 40, 30, 20)],\n",
       "                         &#x27;solver&#x27;: [&#x27;adam&#x27;, &#x27;lbfgs&#x27;, &#x27;sgd&#x27;]})</pre><b>In a Jupyter environment, please rerun this cell to show the HTML representation or trust the notebook. <br />On GitHub, the HTML representation is unable to render, please try loading this page with nbviewer.org.</b></div><div class=\"sk-container\" hidden><div class=\"sk-item sk-dashed-wrapped\"><div class=\"sk-label-container\"><div class=\"sk-label sk-toggleable\"><input class=\"sk-toggleable__control sk-hidden--visually\" id=\"sk-estimator-id-9\" type=\"checkbox\" ><label for=\"sk-estimator-id-9\" class=\"sk-toggleable__label sk-toggleable__label-arrow\">GridSearchCV</label><div class=\"sk-toggleable__content\"><pre>GridSearchCV(cv=3, estimator=MLPClassifier(), n_jobs=-1,\n",
       "             param_grid={&#x27;activation&#x27;: [&#x27;relu&#x27;, &#x27;tanh&#x27;, &#x27;logistic&#x27;],\n",
       "                         &#x27;hidden_layer_sizes&#x27;: [(30, 20, 15, 25),\n",
       "                                                (50, 40, 30, 20)],\n",
       "                         &#x27;solver&#x27;: [&#x27;adam&#x27;, &#x27;lbfgs&#x27;, &#x27;sgd&#x27;]})</pre></div></div></div><div class=\"sk-parallel\"><div class=\"sk-parallel-item\"><div class=\"sk-item\"><div class=\"sk-label-container\"><div class=\"sk-label sk-toggleable\"><input class=\"sk-toggleable__control sk-hidden--visually\" id=\"sk-estimator-id-10\" type=\"checkbox\" ><label for=\"sk-estimator-id-10\" class=\"sk-toggleable__label sk-toggleable__label-arrow\">estimator: MLPClassifier</label><div class=\"sk-toggleable__content\"><pre>MLPClassifier()</pre></div></div></div><div class=\"sk-serial\"><div class=\"sk-item\"><div class=\"sk-estimator sk-toggleable\"><input class=\"sk-toggleable__control sk-hidden--visually\" id=\"sk-estimator-id-11\" type=\"checkbox\" ><label for=\"sk-estimator-id-11\" class=\"sk-toggleable__label sk-toggleable__label-arrow\">MLPClassifier</label><div class=\"sk-toggleable__content\"><pre>MLPClassifier()</pre></div></div></div></div></div></div></div></div></div></div>"
      ],
      "text/plain": [
       "GridSearchCV(cv=3, estimator=MLPClassifier(), n_jobs=-1,\n",
       "             param_grid={'activation': ['relu', 'tanh', 'logistic'],\n",
       "                         'hidden_layer_sizes': [(30, 20, 15, 25),\n",
       "                                                (50, 40, 30, 20)],\n",
       "                         'solver': ['adam', 'lbfgs', 'sgd']})"
      ]
     },
     "execution_count": 77,
     "metadata": {},
     "output_type": "execute_result"
    }
   ],
   "source": [
    "grid_search = GridSearchCV(mlp, param_grid, n_jobs=-1, cv=3)\n",
    "grid_search.fit(X_train, y_train)"
   ]
  },
  {
   "cell_type": "code",
   "execution_count": 78,
   "metadata": {},
   "outputs": [
    {
     "name": "stdout",
     "output_type": "stream",
     "text": [
      "Best parameters found : {'activation': 'relu', 'hidden_layer_sizes': (50, 40, 30, 20), 'solver': 'lbfgs'}\n"
     ]
    }
   ],
   "source": [
    "# best_params = {'activation': 'relu', 'hidden_layer_sizes': (30, 20, 15, 25), 'solver': 'lbfgs'}\n",
    "\n",
    "# Obtenir la meilleure configuration d'hyperparamètres\n",
    "best_params_mlp_bin = grid_search.best_params_\n",
    "# meilleur parametre\n",
    "print(f'Best parameters found : {best_params_mlp_bin}')"
   ]
  },
  {
   "cell_type": "code",
   "execution_count": 79,
   "metadata": {},
   "outputs": [
    {
     "name": "stderr",
     "output_type": "stream",
     "text": [
      "c:\\Users\\mathi\\anaconda3\\envs\\Keras\\lib\\site-packages\\sklearn\\neural_network\\_multilayer_perceptron.py:541: ConvergenceWarning: lbfgs failed to converge (status=1):\n",
      "STOP: TOTAL NO. of ITERATIONS REACHED LIMIT.\n",
      "\n",
      "Increase the number of iterations (max_iter) or scale the data as shown in:\n",
      "    https://scikit-learn.org/stable/modules/preprocessing.html\n",
      "  self.n_iter_ = _check_optimize_result(\"lbfgs\", opt_res, self.max_iter)\n"
     ]
    }
   ],
   "source": [
    "best_mlp = MLPClassifier(**best_params_mlp_bin)\n",
    "\n",
    "start_time = time.time()\n",
    "\n",
    "best_mlp.fit(X_train, y_train)\n",
    "\n",
    "end_time = time.time()\n",
    "mlp_time = end_time - start_time"
   ]
  },
  {
   "cell_type": "code",
   "execution_count": 80,
   "metadata": {},
   "outputs": [
    {
     "name": "stdout",
     "output_type": "stream",
     "text": [
      "              precision    recall  f1-score   support\n",
      "\n",
      "           0       0.52      0.50      0.51      4246\n",
      "           1       0.51      0.53      0.52      4117\n",
      "\n",
      "    accuracy                           0.52      8363\n",
      "   macro avg       0.52      0.52      0.51      8363\n",
      "weighted avg       0.52      0.52      0.51      8363\n",
      "\n"
     ]
    }
   ],
   "source": [
    "y_pred_test = best_mlp.predict(X_test)\n",
    "y_pred_test_prob = best_mlp.predict_proba(X_test)\n",
    "print(classification_report(y_test, y_pred_test))"
   ]
  },
  {
   "cell_type": "code",
   "execution_count": 81,
   "metadata": {},
   "outputs": [
    {
     "data": {
      "text/plain": [
       "0.515006576587349"
      ]
     },
     "execution_count": 81,
     "metadata": {},
     "output_type": "execute_result"
    }
   ],
   "source": [
    "mlp_bin = accuracy_score(y_test, y_pred_test)\n",
    "mlp_bin"
   ]
  },
  {
   "cell_type": "markdown",
   "metadata": {},
   "source": [
    "# Comparaison modèles binaire"
   ]
  },
  {
   "cell_type": "code",
   "execution_count": 82,
   "metadata": {},
   "outputs": [
    {
     "data": {
      "image/png": "[encoded data removed]",
      "text/plain": [
       "<Figure size 1000x600 with 1 Axes>"
      ]
     },
     "metadata": {},
     "output_type": "display_data"
    }
   ],
   "source": [
    "# Scores d'accuracy des différents modèles\n",
    "accuracy_scores = [DescisionTree_score_bin, Xgboost_score_bin, catboost_score_bin, logisti_reg_score_bin, random_score_bin, mlp_bin] \n",
    "\n",
    "# Noms des modèles correspondants\n",
    "model_names = ['DecisionTree', 'Xgboost', 'Catboost', 'Reg logistique', 'Random forest', 'MLP'] \n",
    "\n",
    "# Création de l'histogramme\n",
    "plt.figure(figsize=(10, 6))\n",
    "plt.bar(model_names, accuracy_scores, color='blue', alpha=0.7)\n",
    "plt.xlabel('Modèles')\n",
    "plt.ylabel('Accuracy')\n",
    "plt.title('Comparaison des résultats d\\'accuracy des modèles de classification binaire')\n",
    "plt.ylim(0, 1)  # Assurez-vous que l'axe y va de 0 à 1 pour l'accuracy\n",
    "plt.grid(axis='y', linestyle='--', alpha=0.7)\n",
    "\n",
    "# Affichage des scores sur chaque barre\n",
    "for i, v in enumerate(accuracy_scores):\n",
    "    plt.text(i, v + 0.01, f'{v:.4f}', ha='center', va='bottom')\n",
    "\n",
    "# Affichage de l'histogramme\n",
    "plt.show()"
   ]
  },
  {
   "cell_type": "code",
   "execution_count": 86,
   "metadata": {},
   "outputs": [
    {
     "data": {
      "image/png": "[encoded data removed]",
      "text/plain": [
       "<Figure size 1000x600 with 1 Axes>"
      ]
     },
     "metadata": {},
     "output_type": "display_data"
    }
   ],
   "source": [
    "Temps = [DecisionTree_time, Xgboost_time, CatBoost_time, Logisti_reg_time, Random_time, mlp_time] \n",
    "\n",
    "# Noms des modèles correspondants\n",
    "model_names = ['DecisionTree_time', 'Xgboost_time', 'Catboost_time', 'Reg logistique_time', 'Random forest_time', 'MLP_time'] \n",
    "\n",
    "# Création de l'histogramme\n",
    "plt.figure(figsize=(10, 6))\n",
    "plt.bar(model_names, Temps, color='blue', alpha=0.7)\n",
    "plt.xlabel('Modèles')\n",
    "plt.ylabel('Temps en s')\n",
    "plt.title('Comparaison temporelle des modèles de classification binaire')\n",
    "plt.grid(axis='y', linestyle='--', alpha=0.7)\n",
    "\n",
    "for i, v in enumerate(Temps):\n",
    "    plt.text(i, v + 0.01, f'{v:.4f}', ha='center', va='bottom')\n",
    "\n",
    "# Affichage de l'histogramme\n",
    "plt.show()"
   ]
  }
 ],
 "metadata": {
  "kernelspec": {
   "display_name": "Python 3 (ipykernel)",
   "language": "python",
   "name": "python3"
  },
  "language_info": {
   "codemirror_mode": {
    "name": "ipython",
    "version": 3
   },
   "file_extension": ".py",
   "mimetype": "text/x-python",
   "name": "python",
   "nbconvert_exporter": "python",
   "pygments_lexer": "ipython3",
   "version": "3.9.18"
  }
 },
 "nbformat": 4,
 "nbformat_minor": 2
}
