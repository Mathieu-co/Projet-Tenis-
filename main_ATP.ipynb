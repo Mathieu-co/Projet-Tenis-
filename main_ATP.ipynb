{
 "cells": [
  {
   "cell_type": "markdown",
   "metadata": {},
   "source": [
    "# Analyse"
   ]
  },
  {
   "cell_type": "code",
   "execution_count": null,
   "metadata": {},
   "outputs": [],
   "source": [
    "import pandas as pd\n",
    "from test import convertCatToNum, drop_rows_with_missing, normalize, encode_player_names, split_data\n",
    "\n",
    "# on import toutes les données\n",
    "\n",
    "df_atp = pd.read_csv('all_matches_ATP.csv')"
   ]
  },
  {
   "cell_type": "code",
   "execution_count": 2,
   "metadata": {},
   "outputs": [
    {
     "name": "stdout",
     "output_type": "stream",
     "text": [
      "<class 'pandas.core.frame.DataFrame'>\n",
      "RangeIndex: 58182 entries, 0 to 58181\n",
      "Data columns (total 10 columns):\n",
      " #   Column        Non-Null Count  Dtype  \n",
      "---  ------        --------------  -----  \n",
      " 0   Court         58182 non-null  object \n",
      " 1   Surface       58182 non-null  object \n",
      " 2   Round         58182 non-null  object \n",
      " 3   Player1_name  58182 non-null  object \n",
      " 4   Player2_name  58182 non-null  object \n",
      " 5   Player1_rank  58182 non-null  int64  \n",
      " 6   Player2_rank  58182 non-null  int64  \n",
      " 7   Comment       58182 non-null  object \n",
      " 8   Series        41811 non-null  float64\n",
      " 9   y             58182 non-null  int64  \n",
      "dtypes: float64(1), int64(3), object(6)\n",
      "memory usage: 4.4+ MB\n"
     ]
    }
   ],
   "source": [
    "df_atp.info()"
   ]
  },
  {
   "cell_type": "code",
   "execution_count": 3,
   "metadata": {},
   "outputs": [],
   "source": [
    "cat_cols = ['Court','Surface','Round',]\n",
    "\n",
    "num_cols = [\"Player1_rank\",\"Player2_rank\",\"Series\",]\n"
   ]
  },
  {
   "cell_type": "code",
   "execution_count": 4,
   "metadata": {},
   "outputs": [
    {
     "name": "stdout",
     "output_type": "stream",
     "text": [
      " ===     Replace categorial variable     ===\n",
      " ===   Convert categorical to numerical  ===\n",
      " ===         drop missing values         ===\n",
      " ===            Normalize data           ===\n"
     ]
    }
   ],
   "source": [
    "import numpy as np\n",
    "\n",
    "\n",
    "df_processed = convertCatToNum(df=df_atp,cat_cols=cat_cols)\n",
    "df = drop_rows_with_missing(df_processed,columns=[\"y\",\"Series\"])\n",
    "df_atp = normalize(df,num_cols)\n"
   ]
  },
  {
   "cell_type": "code",
   "execution_count": 5,
   "metadata": {},
   "outputs": [
    {
     "name": "stdout",
     "output_type": "stream",
     "text": [
      "<class 'pandas.core.frame.DataFrame'>\n",
      "Int64Index: 41811 entries, 155 to 58181\n",
      "Data columns (total 21 columns):\n",
      " #   Column               Non-Null Count  Dtype  \n",
      "---  ------               --------------  -----  \n",
      " 0   Player1_name         41811 non-null  object \n",
      " 1   Player2_name         41811 non-null  object \n",
      " 2   Player1_rank         41811 non-null  float64\n",
      " 3   Player2_rank         41811 non-null  float64\n",
      " 4   Comment              41811 non-null  object \n",
      " 5   Series               41811 non-null  float64\n",
      " 6   y                    41811 non-null  int64  \n",
      " 7   Court_Indoor         41811 non-null  uint8  \n",
      " 8   Court_Outdoor        41811 non-null  uint8  \n",
      " 9   Surface_Carpet       41811 non-null  uint8  \n",
      " 10  Surface_Clay         41811 non-null  uint8  \n",
      " 11  Surface_Grass        41811 non-null  uint8  \n",
      " 12  Surface_Hard         41811 non-null  uint8  \n",
      " 13  Round_1st Round      41811 non-null  uint8  \n",
      " 14  Round_2nd Round      41811 non-null  uint8  \n",
      " 15  Round_3rd Round      41811 non-null  uint8  \n",
      " 16  Round_4th Round      41811 non-null  uint8  \n",
      " 17  Round_Quarterfinals  41811 non-null  uint8  \n",
      " 18  Round_Round Robin    41811 non-null  uint8  \n",
      " 19  Round_Semifinals     41811 non-null  uint8  \n",
      " 20  Round_The Final      41811 non-null  uint8  \n",
      "dtypes: float64(3), int64(1), object(3), uint8(14)\n",
      "memory usage: 3.1+ MB\n"
     ]
    }
   ],
   "source": [
    "df_atp.info()\n"
   ]
  },
  {
   "cell_type": "code",
   "execution_count": 6,
   "metadata": {},
   "outputs": [
    {
     "data": {
      "text/html": [
       "<div>\n",
       "<style scoped>\n",
       "    .dataframe tbody tr th:only-of-type {\n",
       "        vertical-align: middle;\n",
       "    }\n",
       "\n",
       "    .dataframe tbody tr th {\n",
       "        vertical-align: top;\n",
       "    }\n",
       "\n",
       "    .dataframe thead th {\n",
       "        text-align: right;\n",
       "    }\n",
       "</style>\n",
       "<table border=\"1\" class=\"dataframe\">\n",
       "  <thead>\n",
       "    <tr style=\"text-align: right;\">\n",
       "      <th></th>\n",
       "      <th>Player1_name</th>\n",
       "      <th>Player2_name</th>\n",
       "      <th>Player1_rank</th>\n",
       "      <th>Player2_rank</th>\n",
       "      <th>Comment</th>\n",
       "      <th>Series</th>\n",
       "      <th>y</th>\n",
       "      <th>Court_Indoor</th>\n",
       "      <th>Court_Outdoor</th>\n",
       "      <th>Surface_Carpet</th>\n",
       "      <th>...</th>\n",
       "      <th>Surface_Grass</th>\n",
       "      <th>Surface_Hard</th>\n",
       "      <th>Round_1st Round</th>\n",
       "      <th>Round_2nd Round</th>\n",
       "      <th>Round_3rd Round</th>\n",
       "      <th>Round_4th Round</th>\n",
       "      <th>Round_Quarterfinals</th>\n",
       "      <th>Round_Round Robin</th>\n",
       "      <th>Round_Semifinals</th>\n",
       "      <th>Round_The Final</th>\n",
       "    </tr>\n",
       "  </thead>\n",
       "  <tbody>\n",
       "    <tr>\n",
       "      <th>155</th>\n",
       "      <td>Pioline C.</td>\n",
       "      <td>Dosedel S.</td>\n",
       "      <td>0.003459</td>\n",
       "      <td>0.021239</td>\n",
       "      <td>Completed</td>\n",
       "      <td>1.0</td>\n",
       "      <td>1</td>\n",
       "      <td>0</td>\n",
       "      <td>1</td>\n",
       "      <td>0</td>\n",
       "      <td>...</td>\n",
       "      <td>0</td>\n",
       "      <td>1</td>\n",
       "      <td>0</td>\n",
       "      <td>1</td>\n",
       "      <td>0</td>\n",
       "      <td>0</td>\n",
       "      <td>0</td>\n",
       "      <td>0</td>\n",
       "      <td>0</td>\n",
       "      <td>0</td>\n",
       "    </tr>\n",
       "    <tr>\n",
       "      <th>156</th>\n",
       "      <td>Arthurs W.</td>\n",
       "      <td>Heuberger I.</td>\n",
       "      <td>0.016684</td>\n",
       "      <td>0.069027</td>\n",
       "      <td>Completed</td>\n",
       "      <td>1.0</td>\n",
       "      <td>1</td>\n",
       "      <td>0</td>\n",
       "      <td>1</td>\n",
       "      <td>0</td>\n",
       "      <td>...</td>\n",
       "      <td>0</td>\n",
       "      <td>1</td>\n",
       "      <td>0</td>\n",
       "      <td>1</td>\n",
       "      <td>0</td>\n",
       "      <td>0</td>\n",
       "      <td>0</td>\n",
       "      <td>0</td>\n",
       "      <td>0</td>\n",
       "      <td>0</td>\n",
       "    </tr>\n",
       "    <tr>\n",
       "      <th>157</th>\n",
       "      <td>Squillari F.</td>\n",
       "      <td>Nestor D.</td>\n",
       "      <td>0.002848</td>\n",
       "      <td>0.064307</td>\n",
       "      <td>Completed</td>\n",
       "      <td>1.0</td>\n",
       "      <td>0</td>\n",
       "      <td>0</td>\n",
       "      <td>1</td>\n",
       "      <td>0</td>\n",
       "      <td>...</td>\n",
       "      <td>0</td>\n",
       "      <td>1</td>\n",
       "      <td>0</td>\n",
       "      <td>1</td>\n",
       "      <td>0</td>\n",
       "      <td>0</td>\n",
       "      <td>0</td>\n",
       "      <td>0</td>\n",
       "      <td>0</td>\n",
       "      <td>0</td>\n",
       "    </tr>\n",
       "    <tr>\n",
       "      <th>158</th>\n",
       "      <td>Santoro F.</td>\n",
       "      <td>Norman M.</td>\n",
       "      <td>0.009563</td>\n",
       "      <td>0.001180</td>\n",
       "      <td>Completed</td>\n",
       "      <td>1.0</td>\n",
       "      <td>0</td>\n",
       "      <td>0</td>\n",
       "      <td>1</td>\n",
       "      <td>0</td>\n",
       "      <td>...</td>\n",
       "      <td>0</td>\n",
       "      <td>1</td>\n",
       "      <td>0</td>\n",
       "      <td>1</td>\n",
       "      <td>0</td>\n",
       "      <td>0</td>\n",
       "      <td>0</td>\n",
       "      <td>0</td>\n",
       "      <td>0</td>\n",
       "      <td>0</td>\n",
       "    </tr>\n",
       "    <tr>\n",
       "      <th>159</th>\n",
       "      <td>Mamiit C.</td>\n",
       "      <td>Prinosil D.</td>\n",
       "      <td>0.025432</td>\n",
       "      <td>0.011504</td>\n",
       "      <td>Completed</td>\n",
       "      <td>1.0</td>\n",
       "      <td>0</td>\n",
       "      <td>0</td>\n",
       "      <td>1</td>\n",
       "      <td>0</td>\n",
       "      <td>...</td>\n",
       "      <td>0</td>\n",
       "      <td>1</td>\n",
       "      <td>0</td>\n",
       "      <td>1</td>\n",
       "      <td>0</td>\n",
       "      <td>0</td>\n",
       "      <td>0</td>\n",
       "      <td>0</td>\n",
       "      <td>0</td>\n",
       "      <td>0</td>\n",
       "    </tr>\n",
       "  </tbody>\n",
       "</table>\n",
       "<p>5 rows × 21 columns</p>\n",
       "</div>"
      ],
      "text/plain": [
       "     Player1_name  Player2_name  Player1_rank  Player2_rank    Comment  \\\n",
       "155    Pioline C.    Dosedel S.      0.003459      0.021239  Completed   \n",
       "156    Arthurs W.  Heuberger I.      0.016684      0.069027  Completed   \n",
       "157  Squillari F.     Nestor D.      0.002848      0.064307  Completed   \n",
       "158    Santoro F.     Norman M.      0.009563      0.001180  Completed   \n",
       "159     Mamiit C.   Prinosil D.      0.025432      0.011504  Completed   \n",
       "\n",
       "     Series  y  Court_Indoor  Court_Outdoor  Surface_Carpet  ...  \\\n",
       "155     1.0  1             0              1               0  ...   \n",
       "156     1.0  1             0              1               0  ...   \n",
       "157     1.0  0             0              1               0  ...   \n",
       "158     1.0  0             0              1               0  ...   \n",
       "159     1.0  0             0              1               0  ...   \n",
       "\n",
       "     Surface_Grass  Surface_Hard  Round_1st Round  Round_2nd Round  \\\n",
       "155              0             1                0                1   \n",
       "156              0             1                0                1   \n",
       "157              0             1                0                1   \n",
       "158              0             1                0                1   \n",
       "159              0             1                0                1   \n",
       "\n",
       "     Round_3rd Round  Round_4th Round  Round_Quarterfinals  Round_Round Robin  \\\n",
       "155                0                0                    0                  0   \n",
       "156                0                0                    0                  0   \n",
       "157                0                0                    0                  0   \n",
       "158                0                0                    0                  0   \n",
       "159                0                0                    0                  0   \n",
       "\n",
       "     Round_Semifinals  Round_The Final  \n",
       "155                 0                0  \n",
       "156                 0                0  \n",
       "157                 0                0  \n",
       "158                 0                0  \n",
       "159                 0                0  \n",
       "\n",
       "[5 rows x 21 columns]"
      ]
     },
     "execution_count": 6,
     "metadata": {},
     "output_type": "execute_result"
    }
   ],
   "source": [
    "df_atp.head()"
   ]
  },
  {
   "cell_type": "code",
   "execution_count": 7,
   "metadata": {},
   "outputs": [],
   "source": [
    "from sklearn.metrics import classification_report\n",
    "from sklearn.model_selection import RandomizedSearchCV\n",
    "from sklearn.ensemble import RandomForestClassifier"
   ]
  },
  {
   "cell_type": "code",
   "execution_count": 8,
   "metadata": {},
   "outputs": [
    {
     "data": {
      "text/plain": [
       "Completed       40248\n",
       "Retired          1315\n",
       "Walkover          241\n",
       "Awarded             3\n",
       "Disqualified        2\n",
       "Sched               1\n",
       "Rrtired             1\n",
       "Name: Comment, dtype: int64"
      ]
     },
     "execution_count": 8,
     "metadata": {},
     "output_type": "execute_result"
    }
   ],
   "source": [
    "df_atp['Comment'].value_counts()"
   ]
  },
  {
   "cell_type": "code",
   "execution_count": 9,
   "metadata": {},
   "outputs": [
    {
     "name": "stdout",
     "output_type": "stream",
     "text": [
      "=== Encoding player names ===\n",
      "Encoding completed.\n"
     ]
    }
   ],
   "source": [
    "df_final = encode_player_names(df=df_atp)"
   ]
  },
  {
   "cell_type": "code",
   "execution_count": 10,
   "metadata": {},
   "outputs": [
    {
     "name": "stdout",
     "output_type": "stream",
     "text": [
      "=== Splitting data into train and test sets ===\n",
      "Data split completed.\n"
     ]
    }
   ],
   "source": [
    "# On sépare le jeu de données\n",
    "x_train, x_test, y_train, y_test = split_data(df_final, test_size=0.2, random_state=42)"
   ]
  },
  {
   "cell_type": "code",
   "execution_count": 11,
   "metadata": {},
   "outputs": [],
   "source": [
    "X_train = x_train.drop(['Comment'],axis=1)\n",
    "X_test = x_test.drop(['Comment'],axis=1)"
   ]
  },
  {
   "cell_type": "markdown",
   "metadata": {},
   "source": [
    "# Decision tree"
   ]
  },
  {
   "cell_type": "code",
   "execution_count": 24,
   "metadata": {},
   "outputs": [
    {
     "name": "stdout",
     "output_type": "stream",
     "text": [
      "Best Score: 0.5789588116234328\n",
      "Best Hyperparameters: {'max_features': 'log2', 'max_depth': 25}\n"
     ]
    }
   ],
   "source": [
    "from sklearn.tree import DecisionTreeClassifier\n",
    "\n",
    "# Define model\n",
    "model = DecisionTreeClassifier()\n",
    "\n",
    "\n",
    "# define search space\n",
    "param_grid = {\n",
    "    'max_depth': list(range(25, 100, 10)),\n",
    "    'max_features': ['auto', 'sqrt', 'log2']\n",
    "}\n",
    "\n",
    "search = RandomizedSearchCV(model, param_grid, n_iter=10, cv=10, scoring='accuracy', n_jobs=-1, random_state=1)\n",
    "\n",
    "# execute search\n",
    "result = search.fit(X_train, y_train)\n",
    "\n",
    "best_params_deci_tree_bin = result.best_params_\n",
    "# summarize result\n",
    "print('Best Score: %s' % result.best_score_)\n",
    "print('Best Hyperparameters: %s' % result.best_params_)\n",
    "# {'max_features': 'auto', 'max_depth': 85}"
   ]
  },
  {
   "cell_type": "code",
   "execution_count": 25,
   "metadata": {},
   "outputs": [
    {
     "data": {
      "text/html": [
       "<style>#sk-container-id-4 {color: black;background-color: white;}#sk-container-id-4 pre{padding: 0;}#sk-container-id-4 div.sk-toggleable {background-color: white;}#sk-container-id-4 label.sk-toggleable__label {cursor: pointer;display: block;width: 100%;margin-bottom: 0;padding: 0.3em;box-sizing: border-box;text-align: center;}#sk-container-id-4 label.sk-toggleable__label-arrow:before {content: \"▸\";float: left;margin-right: 0.25em;color: #696969;}#sk-container-id-4 label.sk-toggleable__label-arrow:hover:before {color: black;}#sk-container-id-4 div.sk-estimator:hover label.sk-toggleable__label-arrow:before {color: black;}#sk-container-id-4 div.sk-toggleable__content {max-height: 0;max-width: 0;overflow: hidden;text-align: left;background-color: #f0f8ff;}#sk-container-id-4 div.sk-toggleable__content pre {margin: 0.2em;color: black;border-radius: 0.25em;background-color: #f0f8ff;}#sk-container-id-4 input.sk-toggleable__control:checked~div.sk-toggleable__content {max-height: 200px;max-width: 100%;overflow: auto;}#sk-container-id-4 input.sk-toggleable__control:checked~label.sk-toggleable__label-arrow:before {content: \"▾\";}#sk-container-id-4 div.sk-estimator input.sk-toggleable__control:checked~label.sk-toggleable__label {background-color: #d4ebff;}#sk-container-id-4 div.sk-label input.sk-toggleable__control:checked~label.sk-toggleable__label {background-color: #d4ebff;}#sk-container-id-4 input.sk-hidden--visually {border: 0;clip: rect(1px 1px 1px 1px);clip: rect(1px, 1px, 1px, 1px);height: 1px;margin: -1px;overflow: hidden;padding: 0;position: absolute;width: 1px;}#sk-container-id-4 div.sk-estimator {font-family: monospace;background-color: #f0f8ff;border: 1px dotted black;border-radius: 0.25em;box-sizing: border-box;margin-bottom: 0.5em;}#sk-container-id-4 div.sk-estimator:hover {background-color: #d4ebff;}#sk-container-id-4 div.sk-parallel-item::after {content: \"\";width: 100%;border-bottom: 1px solid gray;flex-grow: 1;}#sk-container-id-4 div.sk-label:hover label.sk-toggleable__label {background-color: #d4ebff;}#sk-container-id-4 div.sk-serial::before {content: \"\";position: absolute;border-left: 1px solid gray;box-sizing: border-box;top: 0;bottom: 0;left: 50%;z-index: 0;}#sk-container-id-4 div.sk-serial {display: flex;flex-direction: column;align-items: center;background-color: white;padding-right: 0.2em;padding-left: 0.2em;position: relative;}#sk-container-id-4 div.sk-item {position: relative;z-index: 1;}#sk-container-id-4 div.sk-parallel {display: flex;align-items: stretch;justify-content: center;background-color: white;position: relative;}#sk-container-id-4 div.sk-item::before, #sk-container-id-4 div.sk-parallel-item::before {content: \"\";position: absolute;border-left: 1px solid gray;box-sizing: border-box;top: 0;bottom: 0;left: 50%;z-index: -1;}#sk-container-id-4 div.sk-parallel-item {display: flex;flex-direction: column;z-index: 1;position: relative;background-color: white;}#sk-container-id-4 div.sk-parallel-item:first-child::after {align-self: flex-end;width: 50%;}#sk-container-id-4 div.sk-parallel-item:last-child::after {align-self: flex-start;width: 50%;}#sk-container-id-4 div.sk-parallel-item:only-child::after {width: 0;}#sk-container-id-4 div.sk-dashed-wrapped {border: 1px dashed gray;margin: 0 0.4em 0.5em 0.4em;box-sizing: border-box;padding-bottom: 0.4em;background-color: white;}#sk-container-id-4 div.sk-label label {font-family: monospace;font-weight: bold;display: inline-block;line-height: 1.2em;}#sk-container-id-4 div.sk-label-container {text-align: center;}#sk-container-id-4 div.sk-container {/* jupyter's `normalize.less` sets `[hidden] { display: none; }` but bootstrap.min.css set `[hidden] { display: none !important; }` so we also need the `!important` here to be able to override the default hidden behavior on the sphinx rendered scikit-learn.org. See: https://github.com/scikit-learn/scikit-learn/issues/21755 */display: inline-block !important;position: relative;}#sk-container-id-4 div.sk-text-repr-fallback {display: none;}</style><div id=\"sk-container-id-4\" class=\"sk-top-container\"><div class=\"sk-text-repr-fallback\"><pre>DecisionTreeClassifier(max_depth=25, max_features=&#x27;log2&#x27;)</pre><b>In a Jupyter environment, please rerun this cell to show the HTML representation or trust the notebook. <br />On GitHub, the HTML representation is unable to render, please try loading this page with nbviewer.org.</b></div><div class=\"sk-container\" hidden><div class=\"sk-item\"><div class=\"sk-estimator sk-toggleable\"><input class=\"sk-toggleable__control sk-hidden--visually\" id=\"sk-estimator-id-4\" type=\"checkbox\" checked><label for=\"sk-estimator-id-4\" class=\"sk-toggleable__label sk-toggleable__label-arrow\">DecisionTreeClassifier</label><div class=\"sk-toggleable__content\"><pre>DecisionTreeClassifier(max_depth=25, max_features=&#x27;log2&#x27;)</pre></div></div></div></div></div>"
      ],
      "text/plain": [
       "DecisionTreeClassifier(max_depth=25, max_features='log2')"
      ]
     },
     "execution_count": 25,
     "metadata": {},
     "output_type": "execute_result"
    }
   ],
   "source": [
    "model = DecisionTreeClassifier(**best_params_deci_tree_bin)\n",
    "# execute search\n",
    "model.fit(X_train, y_train)"
   ]
  },
  {
   "cell_type": "code",
   "execution_count": 26,
   "metadata": {},
   "outputs": [
    {
     "name": "stdout",
     "output_type": "stream",
     "text": [
      "              precision    recall  f1-score   support\n",
      "\n",
      "           0       0.55      0.55      0.55      3999\n",
      "           1       0.59      0.59      0.59      4364\n",
      "\n",
      "    accuracy                           0.57      8363\n",
      "   macro avg       0.57      0.57      0.57      8363\n",
      "weighted avg       0.57      0.57      0.57      8363\n",
      "\n"
     ]
    }
   ],
   "source": [
    "# Prediction with best model from random search \n",
    "#best_random = result.best_estimator_\n",
    "\n",
    "y_pred_test = model.predict(X_test)\n",
    "print(classification_report(y_test, y_pred_test))"
   ]
  },
  {
   "cell_type": "code",
   "execution_count": 27,
   "metadata": {},
   "outputs": [
    {
     "data": {
      "text/plain": [
       "0.5701303360038263"
      ]
     },
     "execution_count": 27,
     "metadata": {},
     "output_type": "execute_result"
    }
   ],
   "source": [
    "# On va garder le score d'accuracy pour pouvoir le comparer avec d'autres modèle\n",
    "from sklearn.metrics import accuracy_score\n",
    "\n",
    "DescisionTree_score_bin = accuracy_score(y_test, y_pred_test)\n",
    "DescisionTree_score_bin"
   ]
  },
  {
   "cell_type": "markdown",
   "metadata": {},
   "source": [
    "# xgboost"
   ]
  },
  {
   "cell_type": "markdown",
   "metadata": {},
   "source": [
    "XGBoost, ou \"eXtreme Gradient Boosting\", est un algorithme d'apprentissage automatique basé sur l'idée des arbres de décision boostés. C'est une méthode puissante et populaire pour résoudre des problèmes de régression et de classification."
   ]
  },
  {
   "cell_type": "code",
   "execution_count": 15,
   "metadata": {},
   "outputs": [
    {
     "name": "stdout",
     "output_type": "stream",
     "text": [
      "Best Score: 0.6572590744771831\n",
      "Best Hyperparameters: {'subsample': 0.7, 'n_estimators': 500, 'max_depth': 5, 'learning_rate': 0.001, 'colsample_bytree': 0.8}\n"
     ]
    }
   ],
   "source": [
    "import xgboost as xgb\n",
    "from sklearn.model_selection import RandomizedSearchCV\n",
    "import numpy as np\n",
    "\n",
    "# Define the XGBoost model\n",
    "model = xgb.XGBClassifier()\n",
    "\n",
    "# Define the search space (parameter grid)\n",
    "param_grid = {\n",
    "    'n_estimators': np.arange(100, 1000, 100),  # Number of boosting rounds\n",
    "    'max_depth': np.arange(3, 10),  # Maximum tree depth\n",
    "    'learning_rate': [0.001,0.005,0.01, 0.1],  # Step size shrinkage used in update to prevent overfitting\n",
    "    'subsample': [0.7, 0.8, 0.9, 1.0],  # Fraction of samples used for fitting the trees\n",
    "    'colsample_bytree': [0.7, 0.8, 0.9, 1.0],  # Fraction of features used for fitting the trees\n",
    "}\n",
    "\n",
    "# Create a RandomizedSearchCV object\n",
    "search = RandomizedSearchCV(model, param_distributions=param_grid, n_iter=10, cv=5, scoring='accuracy', n_jobs=-1, random_state=1)\n",
    "\n",
    "# Execute the search\n",
    "result = search.fit(X_train, y_train)\n",
    "\n",
    "best_param_Xgboost_bin=result.best_params_\n",
    "\n",
    "# Summarize the results\n",
    "print('Best Score: %s' % result.best_score_)\n",
    "print('Best Hyperparameters: %s' % result.best_params_)\n"
   ]
  },
  {
   "cell_type": "code",
   "execution_count": 16,
   "metadata": {},
   "outputs": [
    {
     "data": {
      "text/plain": [
       "{'subsample': 0.7,\n",
       " 'n_estimators': 500,\n",
       " 'max_depth': 5,\n",
       " 'learning_rate': 0.001,\n",
       " 'colsample_bytree': 0.8}"
      ]
     },
     "execution_count": 16,
     "metadata": {},
     "output_type": "execute_result"
    }
   ],
   "source": [
    "best_param_Xgboost_bin"
   ]
  },
  {
   "cell_type": "code",
   "execution_count": 28,
   "metadata": {},
   "outputs": [
    {
     "data": {
      "text/html": [
       "<style>#sk-container-id-5 {color: black;background-color: white;}#sk-container-id-5 pre{padding: 0;}#sk-container-id-5 div.sk-toggleable {background-color: white;}#sk-container-id-5 label.sk-toggleable__label {cursor: pointer;display: block;width: 100%;margin-bottom: 0;padding: 0.3em;box-sizing: border-box;text-align: center;}#sk-container-id-5 label.sk-toggleable__label-arrow:before {content: \"▸\";float: left;margin-right: 0.25em;color: #696969;}#sk-container-id-5 label.sk-toggleable__label-arrow:hover:before {color: black;}#sk-container-id-5 div.sk-estimator:hover label.sk-toggleable__label-arrow:before {color: black;}#sk-container-id-5 div.sk-toggleable__content {max-height: 0;max-width: 0;overflow: hidden;text-align: left;background-color: #f0f8ff;}#sk-container-id-5 div.sk-toggleable__content pre {margin: 0.2em;color: black;border-radius: 0.25em;background-color: #f0f8ff;}#sk-container-id-5 input.sk-toggleable__control:checked~div.sk-toggleable__content {max-height: 200px;max-width: 100%;overflow: auto;}#sk-container-id-5 input.sk-toggleable__control:checked~label.sk-toggleable__label-arrow:before {content: \"▾\";}#sk-container-id-5 div.sk-estimator input.sk-toggleable__control:checked~label.sk-toggleable__label {background-color: #d4ebff;}#sk-container-id-5 div.sk-label input.sk-toggleable__control:checked~label.sk-toggleable__label {background-color: #d4ebff;}#sk-container-id-5 input.sk-hidden--visually {border: 0;clip: rect(1px 1px 1px 1px);clip: rect(1px, 1px, 1px, 1px);height: 1px;margin: -1px;overflow: hidden;padding: 0;position: absolute;width: 1px;}#sk-container-id-5 div.sk-estimator {font-family: monospace;background-color: #f0f8ff;border: 1px dotted black;border-radius: 0.25em;box-sizing: border-box;margin-bottom: 0.5em;}#sk-container-id-5 div.sk-estimator:hover {background-color: #d4ebff;}#sk-container-id-5 div.sk-parallel-item::after {content: \"\";width: 100%;border-bottom: 1px solid gray;flex-grow: 1;}#sk-container-id-5 div.sk-label:hover label.sk-toggleable__label {background-color: #d4ebff;}#sk-container-id-5 div.sk-serial::before {content: \"\";position: absolute;border-left: 1px solid gray;box-sizing: border-box;top: 0;bottom: 0;left: 50%;z-index: 0;}#sk-container-id-5 div.sk-serial {display: flex;flex-direction: column;align-items: center;background-color: white;padding-right: 0.2em;padding-left: 0.2em;position: relative;}#sk-container-id-5 div.sk-item {position: relative;z-index: 1;}#sk-container-id-5 div.sk-parallel {display: flex;align-items: stretch;justify-content: center;background-color: white;position: relative;}#sk-container-id-5 div.sk-item::before, #sk-container-id-5 div.sk-parallel-item::before {content: \"\";position: absolute;border-left: 1px solid gray;box-sizing: border-box;top: 0;bottom: 0;left: 50%;z-index: -1;}#sk-container-id-5 div.sk-parallel-item {display: flex;flex-direction: column;z-index: 1;position: relative;background-color: white;}#sk-container-id-5 div.sk-parallel-item:first-child::after {align-self: flex-end;width: 50%;}#sk-container-id-5 div.sk-parallel-item:last-child::after {align-self: flex-start;width: 50%;}#sk-container-id-5 div.sk-parallel-item:only-child::after {width: 0;}#sk-container-id-5 div.sk-dashed-wrapped {border: 1px dashed gray;margin: 0 0.4em 0.5em 0.4em;box-sizing: border-box;padding-bottom: 0.4em;background-color: white;}#sk-container-id-5 div.sk-label label {font-family: monospace;font-weight: bold;display: inline-block;line-height: 1.2em;}#sk-container-id-5 div.sk-label-container {text-align: center;}#sk-container-id-5 div.sk-container {/* jupyter's `normalize.less` sets `[hidden] { display: none; }` but bootstrap.min.css set `[hidden] { display: none !important; }` so we also need the `!important` here to be able to override the default hidden behavior on the sphinx rendered scikit-learn.org. See: https://github.com/scikit-learn/scikit-learn/issues/21755 */display: inline-block !important;position: relative;}#sk-container-id-5 div.sk-text-repr-fallback {display: none;}</style><div id=\"sk-container-id-5\" class=\"sk-top-container\"><div class=\"sk-text-repr-fallback\"><pre>XGBClassifier(base_score=None, booster=None, callbacks=None,\n",
       "              colsample_bylevel=None, colsample_bynode=None,\n",
       "              colsample_bytree=0.8, early_stopping_rounds=None,\n",
       "              enable_categorical=False, eval_metric=None, feature_types=None,\n",
       "              gamma=None, gpu_id=None, grow_policy=None, importance_type=None,\n",
       "              interaction_constraints=None, learning_rate=0.001, max_bin=None,\n",
       "              max_cat_threshold=None, max_cat_to_onehot=None,\n",
       "              max_delta_step=None, max_depth=5, max_leaves=None,\n",
       "              min_child_weight=None, missing=nan, monotone_constraints=None,\n",
       "              n_estimators=500, n_jobs=None, num_parallel_tree=None,\n",
       "              predictor=None, random_state=None, ...)</pre><b>In a Jupyter environment, please rerun this cell to show the HTML representation or trust the notebook. <br />On GitHub, the HTML representation is unable to render, please try loading this page with nbviewer.org.</b></div><div class=\"sk-container\" hidden><div class=\"sk-item\"><div class=\"sk-estimator sk-toggleable\"><input class=\"sk-toggleable__control sk-hidden--visually\" id=\"sk-estimator-id-5\" type=\"checkbox\" checked><label for=\"sk-estimator-id-5\" class=\"sk-toggleable__label sk-toggleable__label-arrow\">XGBClassifier</label><div class=\"sk-toggleable__content\"><pre>XGBClassifier(base_score=None, booster=None, callbacks=None,\n",
       "              colsample_bylevel=None, colsample_bynode=None,\n",
       "              colsample_bytree=0.8, early_stopping_rounds=None,\n",
       "              enable_categorical=False, eval_metric=None, feature_types=None,\n",
       "              gamma=None, gpu_id=None, grow_policy=None, importance_type=None,\n",
       "              interaction_constraints=None, learning_rate=0.001, max_bin=None,\n",
       "              max_cat_threshold=None, max_cat_to_onehot=None,\n",
       "              max_delta_step=None, max_depth=5, max_leaves=None,\n",
       "              min_child_weight=None, missing=nan, monotone_constraints=None,\n",
       "              n_estimators=500, n_jobs=None, num_parallel_tree=None,\n",
       "              predictor=None, random_state=None, ...)</pre></div></div></div></div></div>"
      ],
      "text/plain": [
       "XGBClassifier(base_score=None, booster=None, callbacks=None,\n",
       "              colsample_bylevel=None, colsample_bynode=None,\n",
       "              colsample_bytree=0.8, early_stopping_rounds=None,\n",
       "              enable_categorical=False, eval_metric=None, feature_types=None,\n",
       "              gamma=None, gpu_id=None, grow_policy=None, importance_type=None,\n",
       "              interaction_constraints=None, learning_rate=0.001, max_bin=None,\n",
       "              max_cat_threshold=None, max_cat_to_onehot=None,\n",
       "              max_delta_step=None, max_depth=5, max_leaves=None,\n",
       "              min_child_weight=None, missing=nan, monotone_constraints=None,\n",
       "              n_estimators=500, n_jobs=None, num_parallel_tree=None,\n",
       "              predictor=None, random_state=None, ...)"
      ]
     },
     "execution_count": 28,
     "metadata": {},
     "output_type": "execute_result"
    }
   ],
   "source": [
    "# Define the XGBoost model\n",
    "model = xgb.XGBClassifier(**best_param_Xgboost_bin)\n",
    "model.fit(X_train, y_train)\n"
   ]
  },
  {
   "cell_type": "code",
   "execution_count": 29,
   "metadata": {},
   "outputs": [
    {
     "name": "stdout",
     "output_type": "stream",
     "text": [
      "              precision    recall  f1-score   support\n",
      "\n",
      "           0       0.65      0.61      0.63      3999\n",
      "           1       0.66      0.70      0.68      4364\n",
      "\n",
      "    accuracy                           0.66      8363\n",
      "   macro avg       0.66      0.66      0.66      8363\n",
      "weighted avg       0.66      0.66      0.66      8363\n",
      "\n"
     ]
    }
   ],
   "source": [
    "# Prediction with best model from random search \n",
    "y_pred_test = model.predict(X_test)\n",
    "\n",
    "\n",
    "print(classification_report(y_test, y_pred_test))"
   ]
  },
  {
   "cell_type": "code",
   "execution_count": 30,
   "metadata": {},
   "outputs": [
    {
     "data": {
      "text/plain": [
       "0.6577783092191797"
      ]
     },
     "execution_count": 30,
     "metadata": {},
     "output_type": "execute_result"
    }
   ],
   "source": [
    "Xgboost_score_bin = accuracy_score(y_test, y_pred_test)\n",
    "Xgboost_score_bin"
   ]
  },
  {
   "cell_type": "markdown",
   "metadata": {},
   "source": [
    "# CatBoost"
   ]
  },
  {
   "cell_type": "markdown",
   "metadata": {},
   "source": [
    "CatBoost est un algorithme de gradient boosting qui a été conçu pour gérer efficacement les données catégorielles sans nécessiter une préparation de données étendue, comme l'encodage des catégories. "
   ]
  },
  {
   "cell_type": "code",
   "execution_count": 33,
   "metadata": {},
   "outputs": [
    {
     "name": "stdout",
     "output_type": "stream",
     "text": [
      "0:\tlearn: 0.6919716\ttotal: 188ms\tremaining: 18.6s\n",
      "1:\tlearn: 0.6907494\ttotal: 224ms\tremaining: 11s\n",
      "2:\tlearn: 0.6895505\ttotal: 289ms\tremaining: 9.35s\n",
      "3:\tlearn: 0.6883350\ttotal: 358ms\tremaining: 8.6s\n",
      "4:\tlearn: 0.6871349\ttotal: 425ms\tremaining: 8.07s\n",
      "5:\tlearn: 0.6859656\ttotal: 501ms\tremaining: 7.85s\n",
      "6:\tlearn: 0.6848614\ttotal: 572ms\tremaining: 7.6s\n",
      "7:\tlearn: 0.6837513\ttotal: 640ms\tremaining: 7.37s\n",
      "8:\tlearn: 0.6826256\ttotal: 712ms\tremaining: 7.2s\n",
      "9:\tlearn: 0.6815147\ttotal: 779ms\tremaining: 7.01s\n",
      "10:\tlearn: 0.6804031\ttotal: 848ms\tremaining: 6.86s\n",
      "11:\tlearn: 0.6793729\ttotal: 926ms\tremaining: 6.79s\n",
      "12:\tlearn: 0.6783765\ttotal: 993ms\tremaining: 6.65s\n",
      "13:\tlearn: 0.6773415\ttotal: 1.06s\tremaining: 6.53s\n",
      "14:\tlearn: 0.6763472\ttotal: 1.13s\tremaining: 6.43s\n",
      "15:\tlearn: 0.6754136\ttotal: 1.2s\tremaining: 6.33s\n",
      "16:\tlearn: 0.6744274\ttotal: 1.31s\tremaining: 6.39s\n",
      "17:\tlearn: 0.6734771\ttotal: 1.4s\tremaining: 6.39s\n",
      "18:\tlearn: 0.6725131\ttotal: 1.48s\tremaining: 6.3s\n",
      "19:\tlearn: 0.6715431\ttotal: 1.56s\tremaining: 6.22s\n",
      "20:\tlearn: 0.6706634\ttotal: 1.64s\tremaining: 6.15s\n",
      "21:\tlearn: 0.6698002\ttotal: 1.72s\tremaining: 6.09s\n",
      "22:\tlearn: 0.6688978\ttotal: 1.8s\tremaining: 6.03s\n",
      "23:\tlearn: 0.6679913\ttotal: 1.87s\tremaining: 5.93s\n",
      "24:\tlearn: 0.6671098\ttotal: 1.94s\tremaining: 5.83s\n",
      "25:\tlearn: 0.6662621\ttotal: 2.02s\tremaining: 5.74s\n",
      "26:\tlearn: 0.6655058\ttotal: 2.09s\tremaining: 5.65s\n",
      "27:\tlearn: 0.6648420\ttotal: 2.1s\tremaining: 5.39s\n",
      "28:\tlearn: 0.6640411\ttotal: 2.16s\tremaining: 5.3s\n",
      "29:\tlearn: 0.6632275\ttotal: 2.23s\tremaining: 5.21s\n",
      "30:\tlearn: 0.6625732\ttotal: 2.26s\tremaining: 5.03s\n",
      "31:\tlearn: 0.6618494\ttotal: 2.33s\tremaining: 4.95s\n",
      "32:\tlearn: 0.6611171\ttotal: 2.4s\tremaining: 4.88s\n",
      "33:\tlearn: 0.6603280\ttotal: 2.48s\tremaining: 4.81s\n",
      "34:\tlearn: 0.6596057\ttotal: 2.54s\tremaining: 4.73s\n",
      "35:\tlearn: 0.6588781\ttotal: 2.61s\tremaining: 4.64s\n",
      "36:\tlearn: 0.6581787\ttotal: 2.69s\tremaining: 4.58s\n",
      "37:\tlearn: 0.6574728\ttotal: 2.77s\tremaining: 4.52s\n",
      "38:\tlearn: 0.6568194\ttotal: 2.84s\tremaining: 4.45s\n",
      "39:\tlearn: 0.6561077\ttotal: 2.92s\tremaining: 4.37s\n",
      "40:\tlearn: 0.6554287\ttotal: 2.99s\tremaining: 4.3s\n",
      "41:\tlearn: 0.6548162\ttotal: 3.04s\tremaining: 4.2s\n",
      "42:\tlearn: 0.6541560\ttotal: 3.11s\tremaining: 4.12s\n",
      "43:\tlearn: 0.6535781\ttotal: 3.18s\tremaining: 4.04s\n",
      "44:\tlearn: 0.6529395\ttotal: 3.24s\tremaining: 3.96s\n",
      "45:\tlearn: 0.6522530\ttotal: 3.31s\tremaining: 3.88s\n",
      "46:\tlearn: 0.6516695\ttotal: 3.37s\tremaining: 3.8s\n",
      "47:\tlearn: 0.6510447\ttotal: 3.43s\tremaining: 3.72s\n",
      "48:\tlearn: 0.6504102\ttotal: 3.5s\tremaining: 3.64s\n",
      "49:\tlearn: 0.6498239\ttotal: 3.56s\tremaining: 3.56s\n",
      "50:\tlearn: 0.6492341\ttotal: 3.62s\tremaining: 3.48s\n",
      "51:\tlearn: 0.6486284\ttotal: 3.69s\tremaining: 3.41s\n",
      "52:\tlearn: 0.6480733\ttotal: 3.76s\tremaining: 3.33s\n",
      "53:\tlearn: 0.6475249\ttotal: 3.83s\tremaining: 3.26s\n",
      "54:\tlearn: 0.6470155\ttotal: 3.89s\tremaining: 3.18s\n",
      "55:\tlearn: 0.6464639\ttotal: 3.96s\tremaining: 3.11s\n",
      "56:\tlearn: 0.6459525\ttotal: 4.02s\tremaining: 3.03s\n",
      "57:\tlearn: 0.6454279\ttotal: 4.08s\tremaining: 2.96s\n",
      "58:\tlearn: 0.6449184\ttotal: 4.15s\tremaining: 2.89s\n",
      "59:\tlearn: 0.6444279\ttotal: 4.22s\tremaining: 2.81s\n",
      "60:\tlearn: 0.6439628\ttotal: 4.23s\tremaining: 2.7s\n",
      "61:\tlearn: 0.6434802\ttotal: 4.24s\tremaining: 2.6s\n",
      "62:\tlearn: 0.6430052\ttotal: 4.3s\tremaining: 2.53s\n",
      "63:\tlearn: 0.6424781\ttotal: 4.37s\tremaining: 2.46s\n",
      "64:\tlearn: 0.6419817\ttotal: 4.44s\tremaining: 2.39s\n",
      "65:\tlearn: 0.6415093\ttotal: 4.51s\tremaining: 2.32s\n",
      "66:\tlearn: 0.6410394\ttotal: 4.57s\tremaining: 2.25s\n",
      "67:\tlearn: 0.6405537\ttotal: 4.64s\tremaining: 2.18s\n",
      "68:\tlearn: 0.6401146\ttotal: 4.7s\tremaining: 2.11s\n",
      "69:\tlearn: 0.6396390\ttotal: 4.76s\tremaining: 2.04s\n",
      "70:\tlearn: 0.6391767\ttotal: 4.83s\tremaining: 1.97s\n",
      "71:\tlearn: 0.6388289\ttotal: 4.83s\tremaining: 1.88s\n",
      "72:\tlearn: 0.6384019\ttotal: 4.9s\tremaining: 1.81s\n",
      "73:\tlearn: 0.6379650\ttotal: 4.97s\tremaining: 1.75s\n",
      "74:\tlearn: 0.6375333\ttotal: 5.03s\tremaining: 1.68s\n",
      "75:\tlearn: 0.6370972\ttotal: 5.1s\tremaining: 1.61s\n",
      "76:\tlearn: 0.6366769\ttotal: 5.16s\tremaining: 1.54s\n",
      "77:\tlearn: 0.6362894\ttotal: 5.23s\tremaining: 1.47s\n",
      "78:\tlearn: 0.6358698\ttotal: 5.29s\tremaining: 1.41s\n",
      "79:\tlearn: 0.6354652\ttotal: 5.32s\tremaining: 1.33s\n",
      "80:\tlearn: 0.6350689\ttotal: 5.38s\tremaining: 1.26s\n",
      "81:\tlearn: 0.6346664\ttotal: 5.45s\tremaining: 1.2s\n",
      "82:\tlearn: 0.6342919\ttotal: 5.52s\tremaining: 1.13s\n",
      "83:\tlearn: 0.6339043\ttotal: 5.58s\tremaining: 1.06s\n",
      "84:\tlearn: 0.6335288\ttotal: 5.64s\tremaining: 996ms\n",
      "85:\tlearn: 0.6331678\ttotal: 5.71s\tremaining: 929ms\n",
      "86:\tlearn: 0.6328004\ttotal: 5.77s\tremaining: 862ms\n",
      "87:\tlearn: 0.6324115\ttotal: 5.83s\tremaining: 795ms\n",
      "88:\tlearn: 0.6321050\ttotal: 5.89s\tremaining: 728ms\n",
      "89:\tlearn: 0.6317402\ttotal: 5.95s\tremaining: 662ms\n",
      "90:\tlearn: 0.6313821\ttotal: 6.01s\tremaining: 595ms\n",
      "91:\tlearn: 0.6310129\ttotal: 6.08s\tremaining: 528ms\n",
      "92:\tlearn: 0.6307081\ttotal: 6.08s\tremaining: 458ms\n",
      "93:\tlearn: 0.6303461\ttotal: 6.14s\tremaining: 392ms\n",
      "94:\tlearn: 0.6299881\ttotal: 6.21s\tremaining: 327ms\n",
      "95:\tlearn: 0.6296391\ttotal: 6.27s\tremaining: 261ms\n",
      "96:\tlearn: 0.6292904\ttotal: 6.33s\tremaining: 196ms\n",
      "97:\tlearn: 0.6289495\ttotal: 6.4s\tremaining: 131ms\n",
      "98:\tlearn: 0.6286094\ttotal: 6.47s\tremaining: 65.3ms\n",
      "99:\tlearn: 0.6282698\ttotal: 6.53s\tremaining: 0us\n",
      "Best Score: 0.6570198534461125\n",
      "Best Hyperparameters: {'subsample': 0.8, 'learning_rate': 0.01, 'iterations': 100, 'depth': 12, 'colsample_bylevel': 0.8}\n"
     ]
    }
   ],
   "source": [
    "\n",
    "from catboost import CatBoostClassifier\n",
    "from sklearn.model_selection import RandomizedSearchCV\n",
    "\n",
    "# Define the CatBoost model\n",
    "model = CatBoostClassifier()\n",
    "\n",
    "# Define the search space (parameter grid)\n",
    "param_grid = {\n",
    "    'iterations': [100, 200, 300],  # Number of boosting rounds\n",
    "    'depth': [8,10,12],  # Maximum tree depth\n",
    "    'learning_rate': [0.01, 0.1, 0.2, 0.3],  # Step size shrinkage used in update\n",
    "    'subsample': [0.7, 0.8, 0.9, 1.0],  # Fraction of samples used for fitting the trees \n",
    "    'colsample_bylevel': [0.7, 0.8, 0.9, 1.0],  # Fraction of features used for fitting the trees at each level\n",
    "}\n",
    "\n",
    "# Create a RandomizedSearchCV object\n",
    "search = RandomizedSearchCV(model, param_distributions=param_grid, n_iter=10, cv=5, scoring='accuracy', n_jobs=-1, random_state=1)\n",
    "\n",
    "# Execute the search\n",
    "result = search.fit(X_train, y_train)\n",
    "\n",
    "best_param_Xgboost_bin = result.best_params_\n",
    "\n",
    "# Summarize the results\n",
    "print('Best Score: %s' % result.best_score_)\n",
    "print('Best Hyperparameters: %s' % result.best_params_)"
   ]
  },
  {
   "cell_type": "code",
   "execution_count": 34,
   "metadata": {},
   "outputs": [
    {
     "name": "stdout",
     "output_type": "stream",
     "text": [
      "0:\tlearn: 0.6919716\ttotal: 73.2ms\tremaining: 7.25s\n",
      "1:\tlearn: 0.6907494\ttotal: 111ms\tremaining: 5.42s\n",
      "2:\tlearn: 0.6895505\ttotal: 179ms\tremaining: 5.78s\n",
      "3:\tlearn: 0.6883350\ttotal: 243ms\tremaining: 5.83s\n",
      "4:\tlearn: 0.6871349\ttotal: 309ms\tremaining: 5.87s\n",
      "5:\tlearn: 0.6859656\ttotal: 373ms\tremaining: 5.84s\n",
      "6:\tlearn: 0.6848614\ttotal: 473ms\tremaining: 6.29s\n",
      "7:\tlearn: 0.6837513\ttotal: 547ms\tremaining: 6.29s\n",
      "8:\tlearn: 0.6826256\ttotal: 610ms\tremaining: 6.17s\n",
      "9:\tlearn: 0.6815147\ttotal: 670ms\tremaining: 6.03s\n",
      "10:\tlearn: 0.6804031\ttotal: 731ms\tremaining: 5.91s\n",
      "11:\tlearn: 0.6793729\ttotal: 800ms\tremaining: 5.86s\n",
      "12:\tlearn: 0.6783765\ttotal: 863ms\tremaining: 5.77s\n",
      "13:\tlearn: 0.6773415\ttotal: 922ms\tremaining: 5.66s\n",
      "14:\tlearn: 0.6763472\ttotal: 982ms\tremaining: 5.57s\n",
      "15:\tlearn: 0.6754136\ttotal: 1.05s\tremaining: 5.5s\n",
      "16:\tlearn: 0.6744274\ttotal: 1.11s\tremaining: 5.44s\n",
      "17:\tlearn: 0.6734771\ttotal: 1.18s\tremaining: 5.37s\n",
      "18:\tlearn: 0.6725131\ttotal: 1.24s\tremaining: 5.28s\n",
      "19:\tlearn: 0.6715431\ttotal: 1.3s\tremaining: 5.2s\n",
      "20:\tlearn: 0.6706634\ttotal: 1.36s\tremaining: 5.13s\n",
      "21:\tlearn: 0.6698002\ttotal: 1.43s\tremaining: 5.06s\n",
      "22:\tlearn: 0.6688978\ttotal: 1.49s\tremaining: 4.99s\n",
      "23:\tlearn: 0.6679913\ttotal: 1.55s\tremaining: 4.92s\n",
      "24:\tlearn: 0.6671098\ttotal: 1.62s\tremaining: 4.86s\n",
      "25:\tlearn: 0.6662621\ttotal: 1.68s\tremaining: 4.79s\n",
      "26:\tlearn: 0.6655058\ttotal: 1.75s\tremaining: 4.72s\n",
      "27:\tlearn: 0.6648420\ttotal: 1.75s\tremaining: 4.51s\n",
      "28:\tlearn: 0.6640411\ttotal: 1.81s\tremaining: 4.44s\n",
      "29:\tlearn: 0.6632275\ttotal: 1.88s\tremaining: 4.39s\n",
      "30:\tlearn: 0.6625732\ttotal: 1.9s\tremaining: 4.24s\n",
      "31:\tlearn: 0.6618494\ttotal: 1.97s\tremaining: 4.19s\n",
      "32:\tlearn: 0.6611171\ttotal: 2.04s\tremaining: 4.14s\n",
      "33:\tlearn: 0.6603280\ttotal: 2.11s\tremaining: 4.09s\n",
      "34:\tlearn: 0.6596057\ttotal: 2.17s\tremaining: 4.03s\n",
      "35:\tlearn: 0.6588781\ttotal: 2.24s\tremaining: 3.98s\n",
      "36:\tlearn: 0.6581787\ttotal: 2.31s\tremaining: 3.93s\n",
      "37:\tlearn: 0.6574728\ttotal: 2.38s\tremaining: 3.88s\n",
      "38:\tlearn: 0.6568194\ttotal: 2.45s\tremaining: 3.83s\n",
      "39:\tlearn: 0.6561077\ttotal: 2.52s\tremaining: 3.78s\n",
      "40:\tlearn: 0.6554287\ttotal: 2.59s\tremaining: 3.73s\n",
      "41:\tlearn: 0.6548162\ttotal: 2.65s\tremaining: 3.67s\n",
      "42:\tlearn: 0.6541560\ttotal: 2.72s\tremaining: 3.61s\n",
      "43:\tlearn: 0.6535781\ttotal: 2.79s\tremaining: 3.55s\n",
      "44:\tlearn: 0.6529395\ttotal: 2.86s\tremaining: 3.5s\n",
      "45:\tlearn: 0.6522530\ttotal: 2.93s\tremaining: 3.44s\n",
      "46:\tlearn: 0.6516695\ttotal: 2.99s\tremaining: 3.38s\n",
      "47:\tlearn: 0.6510447\ttotal: 3.06s\tremaining: 3.31s\n",
      "48:\tlearn: 0.6504102\ttotal: 3.13s\tremaining: 3.25s\n",
      "49:\tlearn: 0.6498239\ttotal: 3.19s\tremaining: 3.19s\n",
      "50:\tlearn: 0.6492341\ttotal: 3.26s\tremaining: 3.13s\n",
      "51:\tlearn: 0.6486284\ttotal: 3.33s\tremaining: 3.07s\n",
      "52:\tlearn: 0.6480733\ttotal: 3.4s\tremaining: 3.02s\n",
      "53:\tlearn: 0.6475249\ttotal: 3.46s\tremaining: 2.95s\n",
      "54:\tlearn: 0.6470155\ttotal: 3.53s\tremaining: 2.89s\n",
      "55:\tlearn: 0.6464639\ttotal: 3.6s\tremaining: 2.83s\n",
      "56:\tlearn: 0.6459525\ttotal: 3.67s\tremaining: 2.77s\n",
      "57:\tlearn: 0.6454279\ttotal: 3.75s\tremaining: 2.71s\n",
      "58:\tlearn: 0.6449184\ttotal: 3.81s\tremaining: 2.65s\n",
      "59:\tlearn: 0.6444279\ttotal: 3.88s\tremaining: 2.59s\n",
      "60:\tlearn: 0.6439628\ttotal: 3.89s\tremaining: 2.49s\n",
      "61:\tlearn: 0.6434802\ttotal: 3.9s\tremaining: 2.39s\n",
      "62:\tlearn: 0.6430052\ttotal: 3.98s\tremaining: 2.33s\n",
      "63:\tlearn: 0.6424781\ttotal: 4.04s\tremaining: 2.27s\n",
      "64:\tlearn: 0.6419817\ttotal: 4.12s\tremaining: 2.22s\n",
      "65:\tlearn: 0.6415093\ttotal: 4.18s\tremaining: 2.15s\n",
      "66:\tlearn: 0.6410394\ttotal: 4.25s\tremaining: 2.09s\n",
      "67:\tlearn: 0.6405537\ttotal: 4.33s\tremaining: 2.04s\n",
      "68:\tlearn: 0.6401146\ttotal: 4.39s\tremaining: 1.97s\n",
      "69:\tlearn: 0.6396390\ttotal: 4.46s\tremaining: 1.91s\n",
      "70:\tlearn: 0.6391767\ttotal: 4.53s\tremaining: 1.85s\n",
      "71:\tlearn: 0.6388289\ttotal: 4.53s\tremaining: 1.76s\n",
      "72:\tlearn: 0.6384019\ttotal: 4.61s\tremaining: 1.7s\n",
      "73:\tlearn: 0.6379650\ttotal: 4.67s\tremaining: 1.64s\n",
      "74:\tlearn: 0.6375333\ttotal: 4.75s\tremaining: 1.58s\n",
      "75:\tlearn: 0.6370972\ttotal: 4.82s\tremaining: 1.52s\n",
      "76:\tlearn: 0.6366769\ttotal: 4.89s\tremaining: 1.46s\n",
      "77:\tlearn: 0.6362894\ttotal: 4.96s\tremaining: 1.4s\n",
      "78:\tlearn: 0.6358698\ttotal: 5.02s\tremaining: 1.33s\n",
      "79:\tlearn: 0.6354652\ttotal: 5.06s\tremaining: 1.26s\n",
      "80:\tlearn: 0.6350689\ttotal: 5.14s\tremaining: 1.21s\n",
      "81:\tlearn: 0.6346664\ttotal: 5.21s\tremaining: 1.14s\n",
      "82:\tlearn: 0.6342919\ttotal: 5.29s\tremaining: 1.08s\n",
      "83:\tlearn: 0.6339043\ttotal: 5.36s\tremaining: 1.02s\n",
      "84:\tlearn: 0.6335288\ttotal: 5.43s\tremaining: 958ms\n",
      "85:\tlearn: 0.6331678\ttotal: 5.5s\tremaining: 895ms\n",
      "86:\tlearn: 0.6328004\ttotal: 5.57s\tremaining: 832ms\n",
      "87:\tlearn: 0.6324115\ttotal: 5.64s\tremaining: 769ms\n",
      "88:\tlearn: 0.6321050\ttotal: 5.7s\tremaining: 704ms\n",
      "89:\tlearn: 0.6317402\ttotal: 5.76s\tremaining: 641ms\n",
      "90:\tlearn: 0.6313821\ttotal: 5.82s\tremaining: 576ms\n",
      "91:\tlearn: 0.6310129\ttotal: 5.89s\tremaining: 512ms\n",
      "92:\tlearn: 0.6307081\ttotal: 5.89s\tremaining: 444ms\n",
      "93:\tlearn: 0.6303461\ttotal: 5.96s\tremaining: 380ms\n",
      "94:\tlearn: 0.6299881\ttotal: 6.02s\tremaining: 317ms\n",
      "95:\tlearn: 0.6296391\ttotal: 6.08s\tremaining: 253ms\n",
      "96:\tlearn: 0.6292904\ttotal: 6.14s\tremaining: 190ms\n",
      "97:\tlearn: 0.6289495\ttotal: 6.2s\tremaining: 127ms\n",
      "98:\tlearn: 0.6286094\ttotal: 6.26s\tremaining: 63.3ms\n",
      "99:\tlearn: 0.6282698\ttotal: 6.33s\tremaining: 0us\n"
     ]
    },
    {
     "data": {
      "text/plain": [
       "<catboost.core.CatBoostClassifier at 0x1e594766c70>"
      ]
     },
     "execution_count": 34,
     "metadata": {},
     "output_type": "execute_result"
    }
   ],
   "source": [
    "#best_params = {'subsample': 0.8, 'learning_rate': 0.01, 'iterations': 100, 'depth': 12, 'colsample_bylevel': 0.8}\n",
    "model = CatBoostClassifier(**best_param_Xgboost_bin)\n",
    "model.fit(X_train, y_train)"
   ]
  },
  {
   "cell_type": "code",
   "execution_count": 35,
   "metadata": {},
   "outputs": [
    {
     "name": "stdout",
     "output_type": "stream",
     "text": [
      "              precision    recall  f1-score   support\n",
      "\n",
      "           0       0.65      0.62      0.63      3999\n",
      "           1       0.66      0.69      0.68      4364\n",
      "\n",
      "    accuracy                           0.66      8363\n",
      "   macro avg       0.66      0.65      0.65      8363\n",
      "weighted avg       0.66      0.66      0.66      8363\n",
      "\n"
     ]
    }
   ],
   "source": [
    "# Prediction with best model from random search \n",
    "# best_random = result.best_estimator_\n",
    "\n",
    "# y_pred_test = best_random.predict(X_test)\n",
    "y_pred_test = model.predict(X_test)\n",
    "y_pred_test_prob = model.predict_proba(X_test)\n",
    "\n",
    "print(classification_report(y_test, y_pred_test))"
   ]
  },
  {
   "cell_type": "code",
   "execution_count": 36,
   "metadata": {},
   "outputs": [
    {
     "data": {
      "text/plain": [
       "0.6565825660648092"
      ]
     },
     "execution_count": 36,
     "metadata": {},
     "output_type": "execute_result"
    }
   ],
   "source": [
    "catboost_score_bin = accuracy_score(y_test, y_pred_test)\n",
    "catboost_score_bin"
   ]
  },
  {
   "cell_type": "markdown",
   "metadata": {},
   "source": [
    "# Logistic Regression"
   ]
  },
  {
   "cell_type": "code",
   "execution_count": 37,
   "metadata": {},
   "outputs": [
    {
     "name": "stderr",
     "output_type": "stream",
     "text": [
      "c:\\Users\\mathi\\anaconda3\\envs\\Keras\\lib\\site-packages\\sklearn\\model_selection\\_validation.py:378: FitFailedWarning: \n",
      "10 fits failed out of a total of 50.\n",
      "The score on these train-test partitions for these parameters will be set to nan.\n",
      "If these failures are not expected, you can try to debug them by setting error_score='raise'.\n",
      "\n",
      "Below are more details about the failures:\n",
      "--------------------------------------------------------------------------------\n",
      "10 fits failed with the following error:\n",
      "Traceback (most recent call last):\n",
      "  File \"c:\\Users\\mathi\\anaconda3\\envs\\Keras\\lib\\site-packages\\sklearn\\model_selection\\_validation.py\", line 686, in _fit_and_score\n",
      "    estimator.fit(X_train, y_train, **fit_params)\n",
      "  File \"c:\\Users\\mathi\\anaconda3\\envs\\Keras\\lib\\site-packages\\sklearn\\linear_model\\_logistic.py\", line 1162, in fit\n",
      "    solver = _check_solver(self.solver, self.penalty, self.dual)\n",
      "  File \"c:\\Users\\mathi\\anaconda3\\envs\\Keras\\lib\\site-packages\\sklearn\\linear_model\\_logistic.py\", line 54, in _check_solver\n",
      "    raise ValueError(\n",
      "ValueError: Solver sag supports only 'l2' or 'none' penalties, got l1 penalty.\n",
      "\n",
      "  warnings.warn(some_fits_failed_message, FitFailedWarning)\n",
      "c:\\Users\\mathi\\anaconda3\\envs\\Keras\\lib\\site-packages\\sklearn\\model_selection\\_search.py:952: UserWarning: One or more of the test scores are non-finite: [0.64652593 0.51895479 0.51895479        nan 0.51895479]\n",
      "  warnings.warn(\n"
     ]
    },
    {
     "name": "stdout",
     "output_type": "stream",
     "text": [
      "Best Score: 0.646525933157394\n",
      "Best Hyperparameters: {'solver': 'liblinear', 'penalty': 'l2', 'C': 1.0}\n"
     ]
    }
   ],
   "source": [
    "from sklearn.linear_model import LogisticRegression\n",
    "\n",
    "# Define model\n",
    "model = LogisticRegression()\n",
    "\n",
    "# define evaluation\n",
    "# gkf = GroupKFold(n_splits=3) if not spec as cv= in the randomized search default is 5 fold cv\n",
    "\n",
    "# define search space\n",
    "param_grid = {\n",
    "    'C' : np.logspace(0, 4, num=10),\n",
    "    'penalty' : ['l1', 'l2'],\n",
    "    'solver' : ['liblinear', 'sag']\n",
    "}\n",
    "\n",
    "search = RandomizedSearchCV(model, param_grid, n_iter=5, cv=10, scoring='accuracy', n_jobs=-1, random_state=1)\n",
    "\n",
    "# execute search\n",
    "result = search.fit(X_train, y_train)\n",
    "\n",
    "best_params_logist_reg_bin = result.best_params_\n",
    "# summarize result\n",
    "print('Best Score: %s' % result.best_score_)\n",
    "print('Best Hyperparameters: %s' % result.best_params_)"
   ]
  },
  {
   "cell_type": "code",
   "execution_count": 38,
   "metadata": {},
   "outputs": [
    {
     "data": {
      "text/html": [
       "<style>#sk-container-id-6 {color: black;background-color: white;}#sk-container-id-6 pre{padding: 0;}#sk-container-id-6 div.sk-toggleable {background-color: white;}#sk-container-id-6 label.sk-toggleable__label {cursor: pointer;display: block;width: 100%;margin-bottom: 0;padding: 0.3em;box-sizing: border-box;text-align: center;}#sk-container-id-6 label.sk-toggleable__label-arrow:before {content: \"▸\";float: left;margin-right: 0.25em;color: #696969;}#sk-container-id-6 label.sk-toggleable__label-arrow:hover:before {color: black;}#sk-container-id-6 div.sk-estimator:hover label.sk-toggleable__label-arrow:before {color: black;}#sk-container-id-6 div.sk-toggleable__content {max-height: 0;max-width: 0;overflow: hidden;text-align: left;background-color: #f0f8ff;}#sk-container-id-6 div.sk-toggleable__content pre {margin: 0.2em;color: black;border-radius: 0.25em;background-color: #f0f8ff;}#sk-container-id-6 input.sk-toggleable__control:checked~div.sk-toggleable__content {max-height: 200px;max-width: 100%;overflow: auto;}#sk-container-id-6 input.sk-toggleable__control:checked~label.sk-toggleable__label-arrow:before {content: \"▾\";}#sk-container-id-6 div.sk-estimator input.sk-toggleable__control:checked~label.sk-toggleable__label {background-color: #d4ebff;}#sk-container-id-6 div.sk-label input.sk-toggleable__control:checked~label.sk-toggleable__label {background-color: #d4ebff;}#sk-container-id-6 input.sk-hidden--visually {border: 0;clip: rect(1px 1px 1px 1px);clip: rect(1px, 1px, 1px, 1px);height: 1px;margin: -1px;overflow: hidden;padding: 0;position: absolute;width: 1px;}#sk-container-id-6 div.sk-estimator {font-family: monospace;background-color: #f0f8ff;border: 1px dotted black;border-radius: 0.25em;box-sizing: border-box;margin-bottom: 0.5em;}#sk-container-id-6 div.sk-estimator:hover {background-color: #d4ebff;}#sk-container-id-6 div.sk-parallel-item::after {content: \"\";width: 100%;border-bottom: 1px solid gray;flex-grow: 1;}#sk-container-id-6 div.sk-label:hover label.sk-toggleable__label {background-color: #d4ebff;}#sk-container-id-6 div.sk-serial::before {content: \"\";position: absolute;border-left: 1px solid gray;box-sizing: border-box;top: 0;bottom: 0;left: 50%;z-index: 0;}#sk-container-id-6 div.sk-serial {display: flex;flex-direction: column;align-items: center;background-color: white;padding-right: 0.2em;padding-left: 0.2em;position: relative;}#sk-container-id-6 div.sk-item {position: relative;z-index: 1;}#sk-container-id-6 div.sk-parallel {display: flex;align-items: stretch;justify-content: center;background-color: white;position: relative;}#sk-container-id-6 div.sk-item::before, #sk-container-id-6 div.sk-parallel-item::before {content: \"\";position: absolute;border-left: 1px solid gray;box-sizing: border-box;top: 0;bottom: 0;left: 50%;z-index: -1;}#sk-container-id-6 div.sk-parallel-item {display: flex;flex-direction: column;z-index: 1;position: relative;background-color: white;}#sk-container-id-6 div.sk-parallel-item:first-child::after {align-self: flex-end;width: 50%;}#sk-container-id-6 div.sk-parallel-item:last-child::after {align-self: flex-start;width: 50%;}#sk-container-id-6 div.sk-parallel-item:only-child::after {width: 0;}#sk-container-id-6 div.sk-dashed-wrapped {border: 1px dashed gray;margin: 0 0.4em 0.5em 0.4em;box-sizing: border-box;padding-bottom: 0.4em;background-color: white;}#sk-container-id-6 div.sk-label label {font-family: monospace;font-weight: bold;display: inline-block;line-height: 1.2em;}#sk-container-id-6 div.sk-label-container {text-align: center;}#sk-container-id-6 div.sk-container {/* jupyter's `normalize.less` sets `[hidden] { display: none; }` but bootstrap.min.css set `[hidden] { display: none !important; }` so we also need the `!important` here to be able to override the default hidden behavior on the sphinx rendered scikit-learn.org. See: https://github.com/scikit-learn/scikit-learn/issues/21755 */display: inline-block !important;position: relative;}#sk-container-id-6 div.sk-text-repr-fallback {display: none;}</style><div id=\"sk-container-id-6\" class=\"sk-top-container\"><div class=\"sk-text-repr-fallback\"><pre>LogisticRegression(solver=&#x27;liblinear&#x27;)</pre><b>In a Jupyter environment, please rerun this cell to show the HTML representation or trust the notebook. <br />On GitHub, the HTML representation is unable to render, please try loading this page with nbviewer.org.</b></div><div class=\"sk-container\" hidden><div class=\"sk-item\"><div class=\"sk-estimator sk-toggleable\"><input class=\"sk-toggleable__control sk-hidden--visually\" id=\"sk-estimator-id-6\" type=\"checkbox\" checked><label for=\"sk-estimator-id-6\" class=\"sk-toggleable__label sk-toggleable__label-arrow\">LogisticRegression</label><div class=\"sk-toggleable__content\"><pre>LogisticRegression(solver=&#x27;liblinear&#x27;)</pre></div></div></div></div></div>"
      ],
      "text/plain": [
       "LogisticRegression(solver='liblinear')"
      ]
     },
     "execution_count": 38,
     "metadata": {},
     "output_type": "execute_result"
    }
   ],
   "source": [
    "# # Prediction with best model from random search \n",
    "# best_random = result.best_estimator_\n",
    "# best_random = model.fit(X_train, y_train)\n",
    "\n",
    "\n",
    "#best_params = {'solver': 'sag', 'penalty': 'l2', 'C': 1.0}\n",
    "model = LogisticRegression(**best_params_logist_reg_bin)\n",
    "model.fit(X_train,y_train)\n",
    "# plot_gain(X_test=X_test,y_pred=y_pred_test,y_test=y_test, limite_cote=2)"
   ]
  },
  {
   "cell_type": "code",
   "execution_count": 39,
   "metadata": {},
   "outputs": [
    {
     "name": "stdout",
     "output_type": "stream",
     "text": [
      "              precision    recall  f1-score   support\n",
      "\n",
      "           0       0.66      0.54      0.59      3999\n",
      "           1       0.64      0.75      0.69      4364\n",
      "\n",
      "    accuracy                           0.65      8363\n",
      "   macro avg       0.65      0.64      0.64      8363\n",
      "weighted avg       0.65      0.65      0.64      8363\n",
      "\n"
     ]
    }
   ],
   "source": [
    "# y_pred_test = best_random.predict(X_test)\n",
    "y_pred_test = model.predict(X_test)\n",
    "y_pred_test_prob = model.predict_proba(X_test)\n",
    "\n",
    "print(classification_report(y_test, y_pred_test))"
   ]
  },
  {
   "cell_type": "code",
   "execution_count": 40,
   "metadata": {},
   "outputs": [
    {
     "data": {
      "text/plain": [
       "0.6483319382996532"
      ]
     },
     "execution_count": 40,
     "metadata": {},
     "output_type": "execute_result"
    }
   ],
   "source": [
    "logisti_reg_score_bin = accuracy_score(y_test, y_pred_test)\n",
    "logisti_reg_score_bin"
   ]
  },
  {
   "cell_type": "markdown",
   "metadata": {},
   "source": [
    "# RandomForestClassifier"
   ]
  },
  {
   "cell_type": "code",
   "execution_count": 41,
   "metadata": {},
   "outputs": [
    {
     "name": "stdout",
     "output_type": "stream",
     "text": [
      "Best Score: 0.6429982084236273\n",
      "Best Hyperparameters: {'n_estimators': 120, 'max_depth': 55}\n"
     ]
    }
   ],
   "source": [
    "# Define model\n",
    "model = RandomForestClassifier()\n",
    "\n",
    "# define evaluation\n",
    "#gkf = GroupKFold(n_splits=3) if not spec as cv= in the randomized search default is 5 fold cv\n",
    "\n",
    "# define search space\n",
    "param_grid = {\n",
    "    'max_depth': list(range(25, 100, 10)),\n",
    "    'n_estimators': list(range(80, 200, 10))\n",
    "}\n",
    "\n",
    "search = RandomizedSearchCV(model, param_grid, n_iter=5, cv=10, scoring='accuracy', n_jobs=-1, random_state=1)\n",
    "\n",
    "# execute search\n",
    "result = search.fit(X_train, y_train)\n",
    "\n",
    "best_params_random_bin = result.best_params_\n",
    "# summarize result\n",
    "print('Best Score: %s' % result.best_score_)\n",
    "print('Best Hyperparameters: %s' % result.best_params_)"
   ]
  },
  {
   "cell_type": "code",
   "execution_count": 42,
   "metadata": {},
   "outputs": [
    {
     "data": {
      "text/html": [
       "<style>#sk-container-id-7 {color: black;background-color: white;}#sk-container-id-7 pre{padding: 0;}#sk-container-id-7 div.sk-toggleable {background-color: white;}#sk-container-id-7 label.sk-toggleable__label {cursor: pointer;display: block;width: 100%;margin-bottom: 0;padding: 0.3em;box-sizing: border-box;text-align: center;}#sk-container-id-7 label.sk-toggleable__label-arrow:before {content: \"▸\";float: left;margin-right: 0.25em;color: #696969;}#sk-container-id-7 label.sk-toggleable__label-arrow:hover:before {color: black;}#sk-container-id-7 div.sk-estimator:hover label.sk-toggleable__label-arrow:before {color: black;}#sk-container-id-7 div.sk-toggleable__content {max-height: 0;max-width: 0;overflow: hidden;text-align: left;background-color: #f0f8ff;}#sk-container-id-7 div.sk-toggleable__content pre {margin: 0.2em;color: black;border-radius: 0.25em;background-color: #f0f8ff;}#sk-container-id-7 input.sk-toggleable__control:checked~div.sk-toggleable__content {max-height: 200px;max-width: 100%;overflow: auto;}#sk-container-id-7 input.sk-toggleable__control:checked~label.sk-toggleable__label-arrow:before {content: \"▾\";}#sk-container-id-7 div.sk-estimator input.sk-toggleable__control:checked~label.sk-toggleable__label {background-color: #d4ebff;}#sk-container-id-7 div.sk-label input.sk-toggleable__control:checked~label.sk-toggleable__label {background-color: #d4ebff;}#sk-container-id-7 input.sk-hidden--visually {border: 0;clip: rect(1px 1px 1px 1px);clip: rect(1px, 1px, 1px, 1px);height: 1px;margin: -1px;overflow: hidden;padding: 0;position: absolute;width: 1px;}#sk-container-id-7 div.sk-estimator {font-family: monospace;background-color: #f0f8ff;border: 1px dotted black;border-radius: 0.25em;box-sizing: border-box;margin-bottom: 0.5em;}#sk-container-id-7 div.sk-estimator:hover {background-color: #d4ebff;}#sk-container-id-7 div.sk-parallel-item::after {content: \"\";width: 100%;border-bottom: 1px solid gray;flex-grow: 1;}#sk-container-id-7 div.sk-label:hover label.sk-toggleable__label {background-color: #d4ebff;}#sk-container-id-7 div.sk-serial::before {content: \"\";position: absolute;border-left: 1px solid gray;box-sizing: border-box;top: 0;bottom: 0;left: 50%;z-index: 0;}#sk-container-id-7 div.sk-serial {display: flex;flex-direction: column;align-items: center;background-color: white;padding-right: 0.2em;padding-left: 0.2em;position: relative;}#sk-container-id-7 div.sk-item {position: relative;z-index: 1;}#sk-container-id-7 div.sk-parallel {display: flex;align-items: stretch;justify-content: center;background-color: white;position: relative;}#sk-container-id-7 div.sk-item::before, #sk-container-id-7 div.sk-parallel-item::before {content: \"\";position: absolute;border-left: 1px solid gray;box-sizing: border-box;top: 0;bottom: 0;left: 50%;z-index: -1;}#sk-container-id-7 div.sk-parallel-item {display: flex;flex-direction: column;z-index: 1;position: relative;background-color: white;}#sk-container-id-7 div.sk-parallel-item:first-child::after {align-self: flex-end;width: 50%;}#sk-container-id-7 div.sk-parallel-item:last-child::after {align-self: flex-start;width: 50%;}#sk-container-id-7 div.sk-parallel-item:only-child::after {width: 0;}#sk-container-id-7 div.sk-dashed-wrapped {border: 1px dashed gray;margin: 0 0.4em 0.5em 0.4em;box-sizing: border-box;padding-bottom: 0.4em;background-color: white;}#sk-container-id-7 div.sk-label label {font-family: monospace;font-weight: bold;display: inline-block;line-height: 1.2em;}#sk-container-id-7 div.sk-label-container {text-align: center;}#sk-container-id-7 div.sk-container {/* jupyter's `normalize.less` sets `[hidden] { display: none; }` but bootstrap.min.css set `[hidden] { display: none !important; }` so we also need the `!important` here to be able to override the default hidden behavior on the sphinx rendered scikit-learn.org. See: https://github.com/scikit-learn/scikit-learn/issues/21755 */display: inline-block !important;position: relative;}#sk-container-id-7 div.sk-text-repr-fallback {display: none;}</style><div id=\"sk-container-id-7\" class=\"sk-top-container\"><div class=\"sk-text-repr-fallback\"><pre>RandomForestClassifier(max_depth=55, n_estimators=120)</pre><b>In a Jupyter environment, please rerun this cell to show the HTML representation or trust the notebook. <br />On GitHub, the HTML representation is unable to render, please try loading this page with nbviewer.org.</b></div><div class=\"sk-container\" hidden><div class=\"sk-item\"><div class=\"sk-estimator sk-toggleable\"><input class=\"sk-toggleable__control sk-hidden--visually\" id=\"sk-estimator-id-7\" type=\"checkbox\" checked><label for=\"sk-estimator-id-7\" class=\"sk-toggleable__label sk-toggleable__label-arrow\">RandomForestClassifier</label><div class=\"sk-toggleable__content\"><pre>RandomForestClassifier(max_depth=55, n_estimators=120)</pre></div></div></div></div></div>"
      ],
      "text/plain": [
       "RandomForestClassifier(max_depth=55, n_estimators=120)"
      ]
     },
     "execution_count": 42,
     "metadata": {},
     "output_type": "execute_result"
    }
   ],
   "source": [
    "#best_params = {'n_estimators': 120, 'max_depth': 55}\n",
    "model = RandomForestClassifier(**best_params_random_bin)\n",
    "model.fit(X_train, y_train)"
   ]
  },
  {
   "cell_type": "code",
   "execution_count": 43,
   "metadata": {},
   "outputs": [
    {
     "name": "stdout",
     "output_type": "stream",
     "text": [
      "              precision    recall  f1-score   support\n",
      "\n",
      "           0       0.62      0.60      0.61      3999\n",
      "           1       0.65      0.67      0.66      4364\n",
      "\n",
      "    accuracy                           0.64      8363\n",
      "   macro avg       0.64      0.63      0.63      8363\n",
      "weighted avg       0.64      0.64      0.64      8363\n",
      "\n"
     ]
    }
   ],
   "source": [
    "# Prediction with best model from random search \n",
    "# best_random = result.best_estimator_\n",
    "# y_pred_test = best_random.predict(X_test)\n",
    "\n",
    "y_pred_test = model.predict(X_test)\n",
    "y_pred_test_prob = model.predict_proba(X_test)\n",
    "print(classification_report(y_test, y_pred_test))\n"
   ]
  },
  {
   "cell_type": "code",
   "execution_count": 44,
   "metadata": {},
   "outputs": [
    {
     "data": {
      "text/plain": [
       "0.6358962094942007"
      ]
     },
     "execution_count": 44,
     "metadata": {},
     "output_type": "execute_result"
    }
   ],
   "source": [
    "random_score_bin = accuracy_score(y_test, y_pred_test)\n",
    "random_score_bin"
   ]
  },
  {
   "cell_type": "markdown",
   "metadata": {},
   "source": [
    "# MLPClassifier"
   ]
  },
  {
   "cell_type": "code",
   "execution_count": 45,
   "metadata": {},
   "outputs": [],
   "source": [
    "from sklearn.neural_network import MLPClassifier\n",
    "from sklearn.model_selection import GridSearchCV"
   ]
  },
  {
   "cell_type": "code",
   "execution_count": 46,
   "metadata": {},
   "outputs": [],
   "source": [
    "mlp = MLPClassifier()\n",
    "\n",
    "# Il s'agit d'une sortie binaire \n",
    "# donc la fonction d’activation des neurones de la couche de sortie est 'logistic'\n",
    "mlp.out_activation_ = 'logistic'\n",
    "mlp.n_outputs_ = 1"
   ]
  },
  {
   "cell_type": "code",
   "execution_count": 47,
   "metadata": {},
   "outputs": [],
   "source": [
    "# Grille de recherche d'hyperparamètres\n",
    "param_grid = {\n",
    "    'hidden_layer_sizes': [(30, 20, 15, 25),(50, 40, 30,20)],\n",
    "    'activation':['relu', 'tanh', 'logistic'],#['relu'],\n",
    "    'solver':  ['adam', 'lbfgs', 'sgd'],# ['adam'],\n",
    "}"
   ]
  },
  {
   "cell_type": "code",
   "execution_count": 48,
   "metadata": {},
   "outputs": [
    {
     "data": {
      "text/html": [
       "<style>#sk-container-id-8 {color: black;background-color: white;}#sk-container-id-8 pre{padding: 0;}#sk-container-id-8 div.sk-toggleable {background-color: white;}#sk-container-id-8 label.sk-toggleable__label {cursor: pointer;display: block;width: 100%;margin-bottom: 0;padding: 0.3em;box-sizing: border-box;text-align: center;}#sk-container-id-8 label.sk-toggleable__label-arrow:before {content: \"▸\";float: left;margin-right: 0.25em;color: #696969;}#sk-container-id-8 label.sk-toggleable__label-arrow:hover:before {color: black;}#sk-container-id-8 div.sk-estimator:hover label.sk-toggleable__label-arrow:before {color: black;}#sk-container-id-8 div.sk-toggleable__content {max-height: 0;max-width: 0;overflow: hidden;text-align: left;background-color: #f0f8ff;}#sk-container-id-8 div.sk-toggleable__content pre {margin: 0.2em;color: black;border-radius: 0.25em;background-color: #f0f8ff;}#sk-container-id-8 input.sk-toggleable__control:checked~div.sk-toggleable__content {max-height: 200px;max-width: 100%;overflow: auto;}#sk-container-id-8 input.sk-toggleable__control:checked~label.sk-toggleable__label-arrow:before {content: \"▾\";}#sk-container-id-8 div.sk-estimator input.sk-toggleable__control:checked~label.sk-toggleable__label {background-color: #d4ebff;}#sk-container-id-8 div.sk-label input.sk-toggleable__control:checked~label.sk-toggleable__label {background-color: #d4ebff;}#sk-container-id-8 input.sk-hidden--visually {border: 0;clip: rect(1px 1px 1px 1px);clip: rect(1px, 1px, 1px, 1px);height: 1px;margin: -1px;overflow: hidden;padding: 0;position: absolute;width: 1px;}#sk-container-id-8 div.sk-estimator {font-family: monospace;background-color: #f0f8ff;border: 1px dotted black;border-radius: 0.25em;box-sizing: border-box;margin-bottom: 0.5em;}#sk-container-id-8 div.sk-estimator:hover {background-color: #d4ebff;}#sk-container-id-8 div.sk-parallel-item::after {content: \"\";width: 100%;border-bottom: 1px solid gray;flex-grow: 1;}#sk-container-id-8 div.sk-label:hover label.sk-toggleable__label {background-color: #d4ebff;}#sk-container-id-8 div.sk-serial::before {content: \"\";position: absolute;border-left: 1px solid gray;box-sizing: border-box;top: 0;bottom: 0;left: 50%;z-index: 0;}#sk-container-id-8 div.sk-serial {display: flex;flex-direction: column;align-items: center;background-color: white;padding-right: 0.2em;padding-left: 0.2em;position: relative;}#sk-container-id-8 div.sk-item {position: relative;z-index: 1;}#sk-container-id-8 div.sk-parallel {display: flex;align-items: stretch;justify-content: center;background-color: white;position: relative;}#sk-container-id-8 div.sk-item::before, #sk-container-id-8 div.sk-parallel-item::before {content: \"\";position: absolute;border-left: 1px solid gray;box-sizing: border-box;top: 0;bottom: 0;left: 50%;z-index: -1;}#sk-container-id-8 div.sk-parallel-item {display: flex;flex-direction: column;z-index: 1;position: relative;background-color: white;}#sk-container-id-8 div.sk-parallel-item:first-child::after {align-self: flex-end;width: 50%;}#sk-container-id-8 div.sk-parallel-item:last-child::after {align-self: flex-start;width: 50%;}#sk-container-id-8 div.sk-parallel-item:only-child::after {width: 0;}#sk-container-id-8 div.sk-dashed-wrapped {border: 1px dashed gray;margin: 0 0.4em 0.5em 0.4em;box-sizing: border-box;padding-bottom: 0.4em;background-color: white;}#sk-container-id-8 div.sk-label label {font-family: monospace;font-weight: bold;display: inline-block;line-height: 1.2em;}#sk-container-id-8 div.sk-label-container {text-align: center;}#sk-container-id-8 div.sk-container {/* jupyter's `normalize.less` sets `[hidden] { display: none; }` but bootstrap.min.css set `[hidden] { display: none !important; }` so we also need the `!important` here to be able to override the default hidden behavior on the sphinx rendered scikit-learn.org. See: https://github.com/scikit-learn/scikit-learn/issues/21755 */display: inline-block !important;position: relative;}#sk-container-id-8 div.sk-text-repr-fallback {display: none;}</style><div id=\"sk-container-id-8\" class=\"sk-top-container\"><div class=\"sk-text-repr-fallback\"><pre>GridSearchCV(cv=3, estimator=MLPClassifier(), n_jobs=-1,\n",
       "             param_grid={&#x27;activation&#x27;: [&#x27;relu&#x27;, &#x27;tanh&#x27;, &#x27;logistic&#x27;],\n",
       "                         &#x27;hidden_layer_sizes&#x27;: [(30, 20, 15, 25),\n",
       "                                                (50, 40, 30, 20)],\n",
       "                         &#x27;solver&#x27;: [&#x27;adam&#x27;, &#x27;lbfgs&#x27;, &#x27;sgd&#x27;]})</pre><b>In a Jupyter environment, please rerun this cell to show the HTML representation or trust the notebook. <br />On GitHub, the HTML representation is unable to render, please try loading this page with nbviewer.org.</b></div><div class=\"sk-container\" hidden><div class=\"sk-item sk-dashed-wrapped\"><div class=\"sk-label-container\"><div class=\"sk-label sk-toggleable\"><input class=\"sk-toggleable__control sk-hidden--visually\" id=\"sk-estimator-id-8\" type=\"checkbox\" ><label for=\"sk-estimator-id-8\" class=\"sk-toggleable__label sk-toggleable__label-arrow\">GridSearchCV</label><div class=\"sk-toggleable__content\"><pre>GridSearchCV(cv=3, estimator=MLPClassifier(), n_jobs=-1,\n",
       "             param_grid={&#x27;activation&#x27;: [&#x27;relu&#x27;, &#x27;tanh&#x27;, &#x27;logistic&#x27;],\n",
       "                         &#x27;hidden_layer_sizes&#x27;: [(30, 20, 15, 25),\n",
       "                                                (50, 40, 30, 20)],\n",
       "                         &#x27;solver&#x27;: [&#x27;adam&#x27;, &#x27;lbfgs&#x27;, &#x27;sgd&#x27;]})</pre></div></div></div><div class=\"sk-parallel\"><div class=\"sk-parallel-item\"><div class=\"sk-item\"><div class=\"sk-label-container\"><div class=\"sk-label sk-toggleable\"><input class=\"sk-toggleable__control sk-hidden--visually\" id=\"sk-estimator-id-9\" type=\"checkbox\" ><label for=\"sk-estimator-id-9\" class=\"sk-toggleable__label sk-toggleable__label-arrow\">estimator: MLPClassifier</label><div class=\"sk-toggleable__content\"><pre>MLPClassifier()</pre></div></div></div><div class=\"sk-serial\"><div class=\"sk-item\"><div class=\"sk-estimator sk-toggleable\"><input class=\"sk-toggleable__control sk-hidden--visually\" id=\"sk-estimator-id-10\" type=\"checkbox\" ><label for=\"sk-estimator-id-10\" class=\"sk-toggleable__label sk-toggleable__label-arrow\">MLPClassifier</label><div class=\"sk-toggleable__content\"><pre>MLPClassifier()</pre></div></div></div></div></div></div></div></div></div></div>"
      ],
      "text/plain": [
       "GridSearchCV(cv=3, estimator=MLPClassifier(), n_jobs=-1,\n",
       "             param_grid={'activation': ['relu', 'tanh', 'logistic'],\n",
       "                         'hidden_layer_sizes': [(30, 20, 15, 25),\n",
       "                                                (50, 40, 30, 20)],\n",
       "                         'solver': ['adam', 'lbfgs', 'sgd']})"
      ]
     },
     "execution_count": 48,
     "metadata": {},
     "output_type": "execute_result"
    }
   ],
   "source": [
    "grid_search = GridSearchCV(mlp, param_grid, n_jobs=-1, cv=3)\n",
    "grid_search.fit(X_train, y_train)"
   ]
  },
  {
   "cell_type": "code",
   "execution_count": 49,
   "metadata": {},
   "outputs": [
    {
     "name": "stdout",
     "output_type": "stream",
     "text": [
      "Best parameters found : {'activation': 'logistic', 'hidden_layer_sizes': (30, 20, 15, 25), 'solver': 'adam'}\n"
     ]
    }
   ],
   "source": [
    "# best_params = {'activation': 'relu', 'hidden_layer_sizes': (30, 20, 15, 25), 'solver': 'lbfgs'}\n",
    "\n",
    "# Obtenir la meilleure configuration d'hyperparamètres\n",
    "best_params_mlp_bin = grid_search.best_params_\n",
    "# meilleur parametre\n",
    "print(f'Best parameters found : {best_params_mlp_bin}')"
   ]
  },
  {
   "cell_type": "code",
   "execution_count": 50,
   "metadata": {},
   "outputs": [
    {
     "data": {
      "text/html": [
       "<style>#sk-container-id-9 {color: black;background-color: white;}#sk-container-id-9 pre{padding: 0;}#sk-container-id-9 div.sk-toggleable {background-color: white;}#sk-container-id-9 label.sk-toggleable__label {cursor: pointer;display: block;width: 100%;margin-bottom: 0;padding: 0.3em;box-sizing: border-box;text-align: center;}#sk-container-id-9 label.sk-toggleable__label-arrow:before {content: \"▸\";float: left;margin-right: 0.25em;color: #696969;}#sk-container-id-9 label.sk-toggleable__label-arrow:hover:before {color: black;}#sk-container-id-9 div.sk-estimator:hover label.sk-toggleable__label-arrow:before {color: black;}#sk-container-id-9 div.sk-toggleable__content {max-height: 0;max-width: 0;overflow: hidden;text-align: left;background-color: #f0f8ff;}#sk-container-id-9 div.sk-toggleable__content pre {margin: 0.2em;color: black;border-radius: 0.25em;background-color: #f0f8ff;}#sk-container-id-9 input.sk-toggleable__control:checked~div.sk-toggleable__content {max-height: 200px;max-width: 100%;overflow: auto;}#sk-container-id-9 input.sk-toggleable__control:checked~label.sk-toggleable__label-arrow:before {content: \"▾\";}#sk-container-id-9 div.sk-estimator input.sk-toggleable__control:checked~label.sk-toggleable__label {background-color: #d4ebff;}#sk-container-id-9 div.sk-label input.sk-toggleable__control:checked~label.sk-toggleable__label {background-color: #d4ebff;}#sk-container-id-9 input.sk-hidden--visually {border: 0;clip: rect(1px 1px 1px 1px);clip: rect(1px, 1px, 1px, 1px);height: 1px;margin: -1px;overflow: hidden;padding: 0;position: absolute;width: 1px;}#sk-container-id-9 div.sk-estimator {font-family: monospace;background-color: #f0f8ff;border: 1px dotted black;border-radius: 0.25em;box-sizing: border-box;margin-bottom: 0.5em;}#sk-container-id-9 div.sk-estimator:hover {background-color: #d4ebff;}#sk-container-id-9 div.sk-parallel-item::after {content: \"\";width: 100%;border-bottom: 1px solid gray;flex-grow: 1;}#sk-container-id-9 div.sk-label:hover label.sk-toggleable__label {background-color: #d4ebff;}#sk-container-id-9 div.sk-serial::before {content: \"\";position: absolute;border-left: 1px solid gray;box-sizing: border-box;top: 0;bottom: 0;left: 50%;z-index: 0;}#sk-container-id-9 div.sk-serial {display: flex;flex-direction: column;align-items: center;background-color: white;padding-right: 0.2em;padding-left: 0.2em;position: relative;}#sk-container-id-9 div.sk-item {position: relative;z-index: 1;}#sk-container-id-9 div.sk-parallel {display: flex;align-items: stretch;justify-content: center;background-color: white;position: relative;}#sk-container-id-9 div.sk-item::before, #sk-container-id-9 div.sk-parallel-item::before {content: \"\";position: absolute;border-left: 1px solid gray;box-sizing: border-box;top: 0;bottom: 0;left: 50%;z-index: -1;}#sk-container-id-9 div.sk-parallel-item {display: flex;flex-direction: column;z-index: 1;position: relative;background-color: white;}#sk-container-id-9 div.sk-parallel-item:first-child::after {align-self: flex-end;width: 50%;}#sk-container-id-9 div.sk-parallel-item:last-child::after {align-self: flex-start;width: 50%;}#sk-container-id-9 div.sk-parallel-item:only-child::after {width: 0;}#sk-container-id-9 div.sk-dashed-wrapped {border: 1px dashed gray;margin: 0 0.4em 0.5em 0.4em;box-sizing: border-box;padding-bottom: 0.4em;background-color: white;}#sk-container-id-9 div.sk-label label {font-family: monospace;font-weight: bold;display: inline-block;line-height: 1.2em;}#sk-container-id-9 div.sk-label-container {text-align: center;}#sk-container-id-9 div.sk-container {/* jupyter's `normalize.less` sets `[hidden] { display: none; }` but bootstrap.min.css set `[hidden] { display: none !important; }` so we also need the `!important` here to be able to override the default hidden behavior on the sphinx rendered scikit-learn.org. See: https://github.com/scikit-learn/scikit-learn/issues/21755 */display: inline-block !important;position: relative;}#sk-container-id-9 div.sk-text-repr-fallback {display: none;}</style><div id=\"sk-container-id-9\" class=\"sk-top-container\"><div class=\"sk-text-repr-fallback\"><pre>MLPClassifier(activation=&#x27;logistic&#x27;, hidden_layer_sizes=(30, 20, 15, 25))</pre><b>In a Jupyter environment, please rerun this cell to show the HTML representation or trust the notebook. <br />On GitHub, the HTML representation is unable to render, please try loading this page with nbviewer.org.</b></div><div class=\"sk-container\" hidden><div class=\"sk-item\"><div class=\"sk-estimator sk-toggleable\"><input class=\"sk-toggleable__control sk-hidden--visually\" id=\"sk-estimator-id-11\" type=\"checkbox\" checked><label for=\"sk-estimator-id-11\" class=\"sk-toggleable__label sk-toggleable__label-arrow\">MLPClassifier</label><div class=\"sk-toggleable__content\"><pre>MLPClassifier(activation=&#x27;logistic&#x27;, hidden_layer_sizes=(30, 20, 15, 25))</pre></div></div></div></div></div>"
      ],
      "text/plain": [
       "MLPClassifier(activation='logistic', hidden_layer_sizes=(30, 20, 15, 25))"
      ]
     },
     "execution_count": 50,
     "metadata": {},
     "output_type": "execute_result"
    }
   ],
   "source": [
    "best_mlp = MLPClassifier(**best_params_mlp_bin)\n",
    "best_mlp.fit(X_train, y_train)"
   ]
  },
  {
   "cell_type": "code",
   "execution_count": 51,
   "metadata": {},
   "outputs": [
    {
     "name": "stdout",
     "output_type": "stream",
     "text": [
      "              precision    recall  f1-score   support\n",
      "\n",
      "           0       0.00      0.00      0.00      3999\n",
      "           1       0.52      1.00      0.69      4364\n",
      "\n",
      "    accuracy                           0.52      8363\n",
      "   macro avg       0.26      0.50      0.34      8363\n",
      "weighted avg       0.27      0.52      0.36      8363\n",
      "\n"
     ]
    },
    {
     "name": "stderr",
     "output_type": "stream",
     "text": [
      "c:\\Users\\mathi\\anaconda3\\envs\\Keras\\lib\\site-packages\\sklearn\\metrics\\_classification.py:1344: UndefinedMetricWarning: Precision and F-score are ill-defined and being set to 0.0 in labels with no predicted samples. Use `zero_division` parameter to control this behavior.\n",
      "  _warn_prf(average, modifier, msg_start, len(result))\n",
      "c:\\Users\\mathi\\anaconda3\\envs\\Keras\\lib\\site-packages\\sklearn\\metrics\\_classification.py:1344: UndefinedMetricWarning: Precision and F-score are ill-defined and being set to 0.0 in labels with no predicted samples. Use `zero_division` parameter to control this behavior.\n",
      "  _warn_prf(average, modifier, msg_start, len(result))\n",
      "c:\\Users\\mathi\\anaconda3\\envs\\Keras\\lib\\site-packages\\sklearn\\metrics\\_classification.py:1344: UndefinedMetricWarning: Precision and F-score are ill-defined and being set to 0.0 in labels with no predicted samples. Use `zero_division` parameter to control this behavior.\n",
      "  _warn_prf(average, modifier, msg_start, len(result))\n"
     ]
    }
   ],
   "source": [
    "y_pred_test = best_mlp.predict(X_test)\n",
    "y_pred_test_prob = best_mlp.predict_proba(X_test)\n",
    "print(classification_report(y_test, y_pred_test))"
   ]
  },
  {
   "cell_type": "code",
   "execution_count": 52,
   "metadata": {},
   "outputs": [
    {
     "data": {
      "text/plain": [
       "0.5218223125672605"
      ]
     },
     "execution_count": 52,
     "metadata": {},
     "output_type": "execute_result"
    }
   ],
   "source": [
    "mlp_bin = accuracy_score(y_test, y_pred_test)\n",
    "mlp_bin"
   ]
  },
  {
   "cell_type": "markdown",
   "metadata": {},
   "source": [
    "# Comparaison modèles binaire"
   ]
  },
  {
   "cell_type": "code",
   "execution_count": 55,
   "metadata": {},
   "outputs": [
    {
     "data": {
      "image/png": "[encoded data removed]",
      "text/plain": [
       "<Figure size 1000x600 with 1 Axes>"
      ]
     },
     "metadata": {},
     "output_type": "display_data"
    }
   ],
   "source": [
    "import matplotlib.pyplot as plt\n",
    "import numpy as np\n",
    "\n",
    "# Scores d'accuracy des différents modèles\n",
    "accuracy_scores = [DescisionTree_score_bin, Xgboost_score_bin, catboost_score_bin, logisti_reg_score_bin, random_score_bin, mlp_bin] \n",
    "\n",
    "# Noms des modèles correspondants\n",
    "model_names = ['DecisionTree', 'Xgboost', 'Catboost', 'Reg logistique', 'Random forest', 'MLP'] \n",
    "\n",
    "# Création de l'histogramme\n",
    "plt.figure(figsize=(10, 6))\n",
    "plt.bar(model_names, accuracy_scores, color='blue', alpha=0.7)\n",
    "plt.xlabel('Modèles')\n",
    "plt.ylabel('Accuracy')\n",
    "plt.title('Comparaison des résultats d\\'accuracy des modèles de classification binaire')\n",
    "plt.ylim(0, 1)  # Assurez-vous que l'axe y va de 0 à 1 pour l'accuracy\n",
    "plt.grid(axis='y', linestyle='--', alpha=0.7)\n",
    "\n",
    "# Affichage des scores sur chaque barre\n",
    "for i, v in enumerate(accuracy_scores):\n",
    "    plt.text(i, v + 0.01, f'{v:.4f}', ha='center', va='bottom')\n",
    "\n",
    "# Affichage de l'histogramme\n",
    "plt.show()"
   ]
  },
  {
   "cell_type": "code",
   "execution_count": null,
   "metadata": {},
   "outputs": [],
   "source": []
  }
 ],
 "metadata": {
  "kernelspec": {
   "display_name": "Python 3 (ipykernel)",
   "language": "python",
   "name": "python3"
  },
  "language_info": {
   "codemirror_mode": {
    "name": "ipython",
    "version": 3
   },
   "file_extension": ".py",
   "mimetype": "text/x-python",
   "name": "python",
   "nbconvert_exporter": "python",
   "pygments_lexer": "ipython3",
   "version": "3.9.18"
  }
 },
 "nbformat": 4,
 "nbformat_minor": 2
}
